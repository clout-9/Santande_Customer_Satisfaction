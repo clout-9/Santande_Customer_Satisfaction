{
 "cells": [
  {
   "cell_type": "markdown",
   "metadata": {
    "id": "4pB0WV-LpsKX"
   },
   "source": [
    "## Import Statements"
   ]
  },
  {
   "cell_type": "code",
   "execution_count": 1,
   "metadata": {
    "colab": {
     "base_uri": "https://localhost:8080/",
     "height": 0
    },
    "id": "MM3TTx8eRZ89",
    "outputId": "58fffed3-29df-4811-ba17-067d1b8040a4"
   },
   "outputs": [
    {
     "name": "stdout",
     "output_type": "stream",
     "text": [
      "Drive already mounted at /content/drive; to attempt to forcibly remount, call drive.mount(\"/content/drive\", force_remount=True).\n"
     ]
    }
   ],
   "source": [
    "from google.colab import drive\n",
    "drive.mount('/content/drive')"
   ]
  },
  {
   "cell_type": "code",
   "execution_count": 2,
   "metadata": {
    "colab": {
     "base_uri": "https://localhost:8080/",
     "height": 0
    },
    "id": "ngyCyfT0zhHz",
    "outputId": "eb21a7a6-97f1-4a69-d5c0-20b9b0a66bc0"
   },
   "outputs": [
    {
     "name": "stdout",
     "output_type": "stream",
     "text": [
      "Looking in indexes: https://pypi.org/simple, https://us-python.pkg.dev/colab-wheels/public/simple/\n",
      "Requirement already satisfied: sklearn-deap in /usr/local/lib/python3.7/dist-packages (0.3.0)\n",
      "Requirement already satisfied: scikit-learn>=0.24.0 in /usr/local/lib/python3.7/dist-packages (from sklearn-deap) (1.0.2)\n",
      "Requirement already satisfied: scipy>=0.16.0 in /usr/local/lib/python3.7/dist-packages (from sklearn-deap) (1.7.3)\n",
      "Requirement already satisfied: deap>=1.0.2 in /usr/local/lib/python3.7/dist-packages (from sklearn-deap) (1.3.3)\n",
      "Requirement already satisfied: numpy>=1.9.3 in /usr/local/lib/python3.7/dist-packages (from sklearn-deap) (1.21.6)\n",
      "Requirement already satisfied: joblib>=0.11 in /usr/local/lib/python3.7/dist-packages (from scikit-learn>=0.24.0->sklearn-deap) (1.2.0)\n",
      "Requirement already satisfied: threadpoolctl>=2.0.0 in /usr/local/lib/python3.7/dist-packages (from scikit-learn>=0.24.0->sklearn-deap) (3.1.0)\n",
      "Looking in indexes: https://pypi.org/simple, https://us-python.pkg.dev/colab-wheels/public/simple/\n",
      "Requirement already satisfied: sklearn-genetic-opt in /usr/local/lib/python3.7/dist-packages (0.9.0)\n",
      "Requirement already satisfied: numpy>=1.14.5 in /usr/local/lib/python3.7/dist-packages (from sklearn-genetic-opt) (1.21.6)\n",
      "Requirement already satisfied: tqdm>=4.61.1 in /usr/local/lib/python3.7/dist-packages (from sklearn-genetic-opt) (4.64.1)\n",
      "Requirement already satisfied: deap>=1.3.1 in /usr/local/lib/python3.7/dist-packages (from sklearn-genetic-opt) (1.3.3)\n",
      "Requirement already satisfied: scikit-learn>=0.21.3 in /usr/local/lib/python3.7/dist-packages (from sklearn-genetic-opt) (1.0.2)\n",
      "Requirement already satisfied: scipy>=1.1.0 in /usr/local/lib/python3.7/dist-packages (from scikit-learn>=0.21.3->sklearn-genetic-opt) (1.7.3)\n",
      "Requirement already satisfied: threadpoolctl>=2.0.0 in /usr/local/lib/python3.7/dist-packages (from scikit-learn>=0.21.3->sklearn-genetic-opt) (3.1.0)\n",
      "Requirement already satisfied: joblib>=0.11 in /usr/local/lib/python3.7/dist-packages (from scikit-learn>=0.21.3->sklearn-genetic-opt) (1.2.0)\n"
     ]
    }
   ],
   "source": [
    "!pip3 install sklearn-deap\n",
    "!pip3 install sklearn-genetic-opt"
   ]
  },
  {
   "cell_type": "code",
   "execution_count": 3,
   "metadata": {
    "id": "XYjwRVVfRd8Q"
   },
   "outputs": [],
   "source": [
    "import warnings\n",
    "warnings.filterwarnings('ignore')"
   ]
  },
  {
   "cell_type": "code",
   "execution_count": 4,
   "metadata": {
    "id": "mT5qA97ORjq2"
   },
   "outputs": [],
   "source": [
    "import operator\n",
    "import numpy as np\n",
    "import pandas as pd\n",
    "import matplotlib.pyplot as plt\n",
    "from collections import OrderedDict\n",
    "from sklearn.feature_selection import SelectKBest, f_classif, SelectFromModel\n",
    "from sklearn.ensemble import RandomForestClassifier\n",
    "from sklearn.tree import DecisionTreeClassifier\n",
    "from sklearn_genetic import GASearchCV\n",
    "from sklearn_genetic import ExponentialAdapter\n",
    "from sklearn_genetic.space import Continuous, Categorical, Integer\n",
    "from sklearn.model_selection import StratifiedKFold\n",
    "from sklearn.model_selection import train_test_split, StratifiedKFold\n",
    "from sklearn.metrics import accuracy_score"
   ]
  },
  {
   "cell_type": "markdown",
   "metadata": {
    "id": "oKodslJbpxIN"
   },
   "source": [
    "## Loading Datasets"
   ]
  },
  {
   "cell_type": "code",
   "execution_count": 5,
   "metadata": {
    "id": "Qm6BqhkkRkIn"
   },
   "outputs": [],
   "source": [
    "df_train = pd.read_csv('/content/drive/MyDrive/SCS_TRAIN.csv')\n",
    "df_test = pd.read_csv('/content/drive/MyDrive/SCS_TEST.csv')"
   ]
  },
  {
   "cell_type": "code",
   "execution_count": 6,
   "metadata": {
    "colab": {
     "base_uri": "https://localhost:8080/",
     "height": 0
    },
    "id": "y-0UVT-nSrWd",
    "outputId": "16363823-55f2-4e7f-f64b-0b8e98ce25a2"
   },
   "outputs": [
    {
     "name": "stdout",
     "output_type": "stream",
     "text": [
      "(76020, 371)\n",
      "(75818, 370)\n"
     ]
    }
   ],
   "source": [
    "print(df_train.shape)\n",
    "print(df_test.shape)"
   ]
  },
  {
   "cell_type": "code",
   "execution_count": 7,
   "metadata": {
    "colab": {
     "base_uri": "https://localhost:8080/",
     "height": 424
    },
    "id": "acgsxX48deQb",
    "outputId": "4b90c9ef-3ee4-482a-9e7f-36a9a3a9a272"
   },
   "outputs": [
    {
     "data": {
      "text/html": [
       "\n",
       "  <div id=\"df-0910ddc2-91e1-41d4-b036-1357912fddd3\">\n",
       "    <div class=\"colab-df-container\">\n",
       "      <div>\n",
       "<style scoped>\n",
       "    .dataframe tbody tr th:only-of-type {\n",
       "        vertical-align: middle;\n",
       "    }\n",
       "\n",
       "    .dataframe tbody tr th {\n",
       "        vertical-align: top;\n",
       "    }\n",
       "\n",
       "    .dataframe thead th {\n",
       "        text-align: right;\n",
       "    }\n",
       "</style>\n",
       "<table border=\"1\" class=\"dataframe\">\n",
       "  <thead>\n",
       "    <tr style=\"text-align: right;\">\n",
       "      <th></th>\n",
       "      <th>TARGET</th>\n",
       "    </tr>\n",
       "  </thead>\n",
       "  <tbody>\n",
       "    <tr>\n",
       "      <th>0</th>\n",
       "      <td>0</td>\n",
       "    </tr>\n",
       "    <tr>\n",
       "      <th>1</th>\n",
       "      <td>0</td>\n",
       "    </tr>\n",
       "    <tr>\n",
       "      <th>2</th>\n",
       "      <td>0</td>\n",
       "    </tr>\n",
       "    <tr>\n",
       "      <th>3</th>\n",
       "      <td>0</td>\n",
       "    </tr>\n",
       "    <tr>\n",
       "      <th>4</th>\n",
       "      <td>0</td>\n",
       "    </tr>\n",
       "    <tr>\n",
       "      <th>...</th>\n",
       "      <td>...</td>\n",
       "    </tr>\n",
       "    <tr>\n",
       "      <th>76015</th>\n",
       "      <td>0</td>\n",
       "    </tr>\n",
       "    <tr>\n",
       "      <th>76016</th>\n",
       "      <td>0</td>\n",
       "    </tr>\n",
       "    <tr>\n",
       "      <th>76017</th>\n",
       "      <td>0</td>\n",
       "    </tr>\n",
       "    <tr>\n",
       "      <th>76018</th>\n",
       "      <td>0</td>\n",
       "    </tr>\n",
       "    <tr>\n",
       "      <th>76019</th>\n",
       "      <td>0</td>\n",
       "    </tr>\n",
       "  </tbody>\n",
       "</table>\n",
       "<p>76020 rows × 1 columns</p>\n",
       "</div>\n",
       "      <button class=\"colab-df-convert\" onclick=\"convertToInteractive('df-0910ddc2-91e1-41d4-b036-1357912fddd3')\"\n",
       "              title=\"Convert this dataframe to an interactive table.\"\n",
       "              style=\"display:none;\">\n",
       "        \n",
       "  <svg xmlns=\"http://www.w3.org/2000/svg\" height=\"24px\"viewBox=\"0 0 24 24\"\n",
       "       width=\"24px\">\n",
       "    <path d=\"M0 0h24v24H0V0z\" fill=\"none\"/>\n",
       "    <path d=\"M18.56 5.44l.94 2.06.94-2.06 2.06-.94-2.06-.94-.94-2.06-.94 2.06-2.06.94zm-11 1L8.5 8.5l.94-2.06 2.06-.94-2.06-.94L8.5 2.5l-.94 2.06-2.06.94zm10 10l.94 2.06.94-2.06 2.06-.94-2.06-.94-.94-2.06-.94 2.06-2.06.94z\"/><path d=\"M17.41 7.96l-1.37-1.37c-.4-.4-.92-.59-1.43-.59-.52 0-1.04.2-1.43.59L10.3 9.45l-7.72 7.72c-.78.78-.78 2.05 0 2.83L4 21.41c.39.39.9.59 1.41.59.51 0 1.02-.2 1.41-.59l7.78-7.78 2.81-2.81c.8-.78.8-2.07 0-2.86zM5.41 20L4 18.59l7.72-7.72 1.47 1.35L5.41 20z\"/>\n",
       "  </svg>\n",
       "      </button>\n",
       "      \n",
       "  <style>\n",
       "    .colab-df-container {\n",
       "      display:flex;\n",
       "      flex-wrap:wrap;\n",
       "      gap: 12px;\n",
       "    }\n",
       "\n",
       "    .colab-df-convert {\n",
       "      background-color: #E8F0FE;\n",
       "      border: none;\n",
       "      border-radius: 50%;\n",
       "      cursor: pointer;\n",
       "      display: none;\n",
       "      fill: #1967D2;\n",
       "      height: 32px;\n",
       "      padding: 0 0 0 0;\n",
       "      width: 32px;\n",
       "    }\n",
       "\n",
       "    .colab-df-convert:hover {\n",
       "      background-color: #E2EBFA;\n",
       "      box-shadow: 0px 1px 2px rgba(60, 64, 67, 0.3), 0px 1px 3px 1px rgba(60, 64, 67, 0.15);\n",
       "      fill: #174EA6;\n",
       "    }\n",
       "\n",
       "    [theme=dark] .colab-df-convert {\n",
       "      background-color: #3B4455;\n",
       "      fill: #D2E3FC;\n",
       "    }\n",
       "\n",
       "    [theme=dark] .colab-df-convert:hover {\n",
       "      background-color: #434B5C;\n",
       "      box-shadow: 0px 1px 3px 1px rgba(0, 0, 0, 0.15);\n",
       "      filter: drop-shadow(0px 1px 2px rgba(0, 0, 0, 0.3));\n",
       "      fill: #FFFFFF;\n",
       "    }\n",
       "  </style>\n",
       "\n",
       "      <script>\n",
       "        const buttonEl =\n",
       "          document.querySelector('#df-0910ddc2-91e1-41d4-b036-1357912fddd3 button.colab-df-convert');\n",
       "        buttonEl.style.display =\n",
       "          google.colab.kernel.accessAllowed ? 'block' : 'none';\n",
       "\n",
       "        async function convertToInteractive(key) {\n",
       "          const element = document.querySelector('#df-0910ddc2-91e1-41d4-b036-1357912fddd3');\n",
       "          const dataTable =\n",
       "            await google.colab.kernel.invokeFunction('convertToInteractive',\n",
       "                                                     [key], {});\n",
       "          if (!dataTable) return;\n",
       "\n",
       "          const docLinkHtml = 'Like what you see? Visit the ' +\n",
       "            '<a target=\"_blank\" href=https://colab.research.google.com/notebooks/data_table.ipynb>data table notebook</a>'\n",
       "            + ' to learn more about interactive tables.';\n",
       "          element.innerHTML = '';\n",
       "          dataTable['output_type'] = 'display_data';\n",
       "          await google.colab.output.renderOutput(dataTable, element);\n",
       "          const docLink = document.createElement('div');\n",
       "          docLink.innerHTML = docLinkHtml;\n",
       "          element.appendChild(docLink);\n",
       "        }\n",
       "      </script>\n",
       "    </div>\n",
       "  </div>\n",
       "  "
      ],
      "text/plain": [
       "       TARGET\n",
       "0           0\n",
       "1           0\n",
       "2           0\n",
       "3           0\n",
       "4           0\n",
       "...       ...\n",
       "76015       0\n",
       "76016       0\n",
       "76017       0\n",
       "76018       0\n",
       "76019       0\n",
       "\n",
       "[76020 rows x 1 columns]"
      ]
     },
     "execution_count": 7,
     "metadata": {},
     "output_type": "execute_result"
    }
   ],
   "source": [
    "df_train[['TARGET']]"
   ]
  },
  {
   "cell_type": "markdown",
   "metadata": {
    "id": "tszKNH-CqBX7"
   },
   "source": [
    "## declaring y_train"
   ]
  },
  {
   "cell_type": "code",
   "execution_count": 8,
   "metadata": {
    "id": "5wSqfT4YVMCb"
   },
   "outputs": [],
   "source": [
    "y_train = df_train[['TARGET']].copy()\n",
    "df_train.drop('TARGET',axis=1,inplace=True)"
   ]
  },
  {
   "cell_type": "code",
   "execution_count": 9,
   "metadata": {
    "colab": {
     "base_uri": "https://localhost:8080/",
     "height": 424
    },
    "id": "7bgymTviLAyL",
    "outputId": "190b3442-f854-4e49-a8d5-4b9553417659"
   },
   "outputs": [
    {
     "data": {
      "text/html": [
       "\n",
       "  <div id=\"df-0401fe83-3e43-41d5-9e6d-625bb78dddfd\">\n",
       "    <div class=\"colab-df-container\">\n",
       "      <div>\n",
       "<style scoped>\n",
       "    .dataframe tbody tr th:only-of-type {\n",
       "        vertical-align: middle;\n",
       "    }\n",
       "\n",
       "    .dataframe tbody tr th {\n",
       "        vertical-align: top;\n",
       "    }\n",
       "\n",
       "    .dataframe thead th {\n",
       "        text-align: right;\n",
       "    }\n",
       "</style>\n",
       "<table border=\"1\" class=\"dataframe\">\n",
       "  <thead>\n",
       "    <tr style=\"text-align: right;\">\n",
       "      <th></th>\n",
       "      <th>TARGET</th>\n",
       "    </tr>\n",
       "  </thead>\n",
       "  <tbody>\n",
       "    <tr>\n",
       "      <th>0</th>\n",
       "      <td>0</td>\n",
       "    </tr>\n",
       "    <tr>\n",
       "      <th>1</th>\n",
       "      <td>0</td>\n",
       "    </tr>\n",
       "    <tr>\n",
       "      <th>2</th>\n",
       "      <td>0</td>\n",
       "    </tr>\n",
       "    <tr>\n",
       "      <th>3</th>\n",
       "      <td>0</td>\n",
       "    </tr>\n",
       "    <tr>\n",
       "      <th>4</th>\n",
       "      <td>0</td>\n",
       "    </tr>\n",
       "    <tr>\n",
       "      <th>...</th>\n",
       "      <td>...</td>\n",
       "    </tr>\n",
       "    <tr>\n",
       "      <th>76015</th>\n",
       "      <td>0</td>\n",
       "    </tr>\n",
       "    <tr>\n",
       "      <th>76016</th>\n",
       "      <td>0</td>\n",
       "    </tr>\n",
       "    <tr>\n",
       "      <th>76017</th>\n",
       "      <td>0</td>\n",
       "    </tr>\n",
       "    <tr>\n",
       "      <th>76018</th>\n",
       "      <td>0</td>\n",
       "    </tr>\n",
       "    <tr>\n",
       "      <th>76019</th>\n",
       "      <td>0</td>\n",
       "    </tr>\n",
       "  </tbody>\n",
       "</table>\n",
       "<p>76020 rows × 1 columns</p>\n",
       "</div>\n",
       "      <button class=\"colab-df-convert\" onclick=\"convertToInteractive('df-0401fe83-3e43-41d5-9e6d-625bb78dddfd')\"\n",
       "              title=\"Convert this dataframe to an interactive table.\"\n",
       "              style=\"display:none;\">\n",
       "        \n",
       "  <svg xmlns=\"http://www.w3.org/2000/svg\" height=\"24px\"viewBox=\"0 0 24 24\"\n",
       "       width=\"24px\">\n",
       "    <path d=\"M0 0h24v24H0V0z\" fill=\"none\"/>\n",
       "    <path d=\"M18.56 5.44l.94 2.06.94-2.06 2.06-.94-2.06-.94-.94-2.06-.94 2.06-2.06.94zm-11 1L8.5 8.5l.94-2.06 2.06-.94-2.06-.94L8.5 2.5l-.94 2.06-2.06.94zm10 10l.94 2.06.94-2.06 2.06-.94-2.06-.94-.94-2.06-.94 2.06-2.06.94z\"/><path d=\"M17.41 7.96l-1.37-1.37c-.4-.4-.92-.59-1.43-.59-.52 0-1.04.2-1.43.59L10.3 9.45l-7.72 7.72c-.78.78-.78 2.05 0 2.83L4 21.41c.39.39.9.59 1.41.59.51 0 1.02-.2 1.41-.59l7.78-7.78 2.81-2.81c.8-.78.8-2.07 0-2.86zM5.41 20L4 18.59l7.72-7.72 1.47 1.35L5.41 20z\"/>\n",
       "  </svg>\n",
       "      </button>\n",
       "      \n",
       "  <style>\n",
       "    .colab-df-container {\n",
       "      display:flex;\n",
       "      flex-wrap:wrap;\n",
       "      gap: 12px;\n",
       "    }\n",
       "\n",
       "    .colab-df-convert {\n",
       "      background-color: #E8F0FE;\n",
       "      border: none;\n",
       "      border-radius: 50%;\n",
       "      cursor: pointer;\n",
       "      display: none;\n",
       "      fill: #1967D2;\n",
       "      height: 32px;\n",
       "      padding: 0 0 0 0;\n",
       "      width: 32px;\n",
       "    }\n",
       "\n",
       "    .colab-df-convert:hover {\n",
       "      background-color: #E2EBFA;\n",
       "      box-shadow: 0px 1px 2px rgba(60, 64, 67, 0.3), 0px 1px 3px 1px rgba(60, 64, 67, 0.15);\n",
       "      fill: #174EA6;\n",
       "    }\n",
       "\n",
       "    [theme=dark] .colab-df-convert {\n",
       "      background-color: #3B4455;\n",
       "      fill: #D2E3FC;\n",
       "    }\n",
       "\n",
       "    [theme=dark] .colab-df-convert:hover {\n",
       "      background-color: #434B5C;\n",
       "      box-shadow: 0px 1px 3px 1px rgba(0, 0, 0, 0.15);\n",
       "      filter: drop-shadow(0px 1px 2px rgba(0, 0, 0, 0.3));\n",
       "      fill: #FFFFFF;\n",
       "    }\n",
       "  </style>\n",
       "\n",
       "      <script>\n",
       "        const buttonEl =\n",
       "          document.querySelector('#df-0401fe83-3e43-41d5-9e6d-625bb78dddfd button.colab-df-convert');\n",
       "        buttonEl.style.display =\n",
       "          google.colab.kernel.accessAllowed ? 'block' : 'none';\n",
       "\n",
       "        async function convertToInteractive(key) {\n",
       "          const element = document.querySelector('#df-0401fe83-3e43-41d5-9e6d-625bb78dddfd');\n",
       "          const dataTable =\n",
       "            await google.colab.kernel.invokeFunction('convertToInteractive',\n",
       "                                                     [key], {});\n",
       "          if (!dataTable) return;\n",
       "\n",
       "          const docLinkHtml = 'Like what you see? Visit the ' +\n",
       "            '<a target=\"_blank\" href=https://colab.research.google.com/notebooks/data_table.ipynb>data table notebook</a>'\n",
       "            + ' to learn more about interactive tables.';\n",
       "          element.innerHTML = '';\n",
       "          dataTable['output_type'] = 'display_data';\n",
       "          await google.colab.output.renderOutput(dataTable, element);\n",
       "          const docLink = document.createElement('div');\n",
       "          docLink.innerHTML = docLinkHtml;\n",
       "          element.appendChild(docLink);\n",
       "        }\n",
       "      </script>\n",
       "    </div>\n",
       "  </div>\n",
       "  "
      ],
      "text/plain": [
       "       TARGET\n",
       "0           0\n",
       "1           0\n",
       "2           0\n",
       "3           0\n",
       "4           0\n",
       "...       ...\n",
       "76015       0\n",
       "76016       0\n",
       "76017       0\n",
       "76018       0\n",
       "76019       0\n",
       "\n",
       "[76020 rows x 1 columns]"
      ]
     },
     "execution_count": 9,
     "metadata": {},
     "output_type": "execute_result"
    }
   ],
   "source": [
    "y_train"
   ]
  },
  {
   "cell_type": "markdown",
   "metadata": {
    "id": "Zx2cfOwSK2bU"
   },
   "source": [
    "## Feature Selection and Hyperparameter tuning using smaller data points - 6000 Data points"
   ]
  },
  {
   "cell_type": "code",
   "execution_count": 184,
   "metadata": {
    "id": "0ZjYauPmK-M-"
   },
   "outputs": [],
   "source": [
    "# Data points size=6000\n",
    "train6k = df_train[:6000]"
   ]
  },
  {
   "cell_type": "code",
   "execution_count": 143,
   "metadata": {
    "id": "miPRq3VHN22Z"
   },
   "outputs": [],
   "source": [
    "ytrain6k = y_train[:6000]"
   ]
  },
  {
   "cell_type": "code",
   "execution_count": 155,
   "metadata": {
    "id": "rsNnp0N2QYkc"
   },
   "outputs": [],
   "source": [
    "mainFeatures = list(df_train.columns.values)"
   ]
  },
  {
   "cell_type": "code",
   "execution_count": 138,
   "metadata": {
    "id": "_-bAZ5psK-Vr"
   },
   "outputs": [],
   "source": [
    "rfc = RandomForestClassifier()\n",
    "params = {'min_weight_fraction_leaf': Continuous(0.01, 0.5, distribution='log-uniform'),\n",
    "          'bootstrap': Categorical([True, False]),\n",
    "          'max_depth': Integer(2, 30),\n",
    "          'max_leaf_nodes': Integer(2, 35),\n",
    "          'n_estimators': Integer(100, 300)}"
   ]
  },
  {
   "cell_type": "code",
   "execution_count": 139,
   "metadata": {
    "id": "gqkjGZiCNg_n"
   },
   "outputs": [],
   "source": [
    "mutation_adapter = ExponentialAdapter(initial_value=0.8, end_value=0.2, adaptive_rate=0.1)\n",
    "crossover_adapter = ExponentialAdapter(initial_value=0.2, end_value=0.8, adaptive_rate=0.1)"
   ]
  },
  {
   "cell_type": "code",
   "execution_count": 140,
   "metadata": {
    "id": "_ScKxaiFNhC6"
   },
   "outputs": [],
   "source": [
    "cv = StratifiedKFold(n_splits=3, shuffle=True)"
   ]
  },
  {
   "cell_type": "code",
   "execution_count": 141,
   "metadata": {
    "id": "2V7cyu_SNhFe"
   },
   "outputs": [],
   "source": [
    "evolved_estimator = GASearchCV(estimator=rfc,\n",
    "                               cv=cv,\n",
    "                               scoring='accuracy',\n",
    "                               population_size=20,\n",
    "                               generations=2,\n",
    "                               mutation_probability=mutation_adapter,\n",
    "                               crossover_probability=crossover_adapter,\n",
    "                               param_grid=params,\n",
    "                               n_jobs=-1)"
   ]
  },
  {
   "cell_type": "code",
   "execution_count": 145,
   "metadata": {
    "colab": {
     "base_uri": "https://localhost:8080/",
     "height": 0
    },
    "id": "d650daLSNhIg",
    "outputId": "6204ced6-8aff-4bbd-fb12-4fedf56b729f"
   },
   "outputs": [
    {
     "name": "stdout",
     "output_type": "stream",
     "text": [
      "gen\tnevals\tfitness \tfitness_std\tfitness_max\tfitness_min\n",
      "0  \t20    \t0.959167\t2.22045e-16\t0.959167   \t0.959167   \n",
      "1  \t40    \t0.959167\t2.22045e-16\t0.959167   \t0.959167   \n",
      "2  \t40    \t0.959167\t2.22045e-16\t0.959167   \t0.959167   \n"
     ]
    },
    {
     "data": {
      "text/plain": [
       "GASearchCV(crossover_probability=<sklearn_genetic.schedules.schedulers.ExponentialAdapter object at 0x7f3ffc70ae50>,\n",
       "           cv=StratifiedKFold(n_splits=3, random_state=None, shuffle=True),\n",
       "           estimator=RandomForestClassifier(bootstrap=False, max_depth=12,\n",
       "                                            max_leaf_nodes=13,\n",
       "                                            min_weight_fraction_leaf=0.055915906832559294,\n",
       "                                            n_estimators=245),\n",
       "           generations=2,\n",
       "           mutation_probabil...\n",
       "                       'max_depth': <sklearn_genetic.space.space.Integer object at 0x7f3ffc70aa90>,\n",
       "                       'max_leaf_nodes': <sklearn_genetic.space.space.Integer object at 0x7f3ffc70a910>,\n",
       "                       'min_weight_fraction_leaf': <sklearn_genetic.space.space.Continuous object at 0x7f3ffc73e7d0>,\n",
       "                       'n_estimators': <sklearn_genetic.space.space.Integer object at 0x7f3ffc70ac50>},\n",
       "           population_size=20, return_train_score=True, scoring='accuracy')"
      ]
     },
     "execution_count": 145,
     "metadata": {},
     "output_type": "execute_result"
    }
   ],
   "source": [
    "evolved_estimator.fit(train6k, ytrain6k)"
   ]
  },
  {
   "cell_type": "code",
   "execution_count": 149,
   "metadata": {
    "colab": {
     "base_uri": "https://localhost:8080/",
     "height": 0
    },
    "id": "IQ8S1RLXPN3K",
    "outputId": "f24e6cca-b4d0-4084-e99e-601da4be2b49"
   },
   "outputs": [
    {
     "data": {
      "text/plain": [
       "{'min_weight_fraction_leaf': 0.055915906832559294,\n",
       " 'bootstrap': False,\n",
       " 'max_depth': 12,\n",
       " 'max_leaf_nodes': 13,\n",
       " 'n_estimators': 245}"
      ]
     },
     "execution_count": 149,
     "metadata": {},
     "output_type": "execute_result"
    }
   ],
   "source": [
    "bestparams6k = evolved_estimator.best_params_\n",
    "bestparams6k"
   ]
  },
  {
   "cell_type": "code",
   "execution_count": 150,
   "metadata": {
    "id": "-8mVRwhGPN_t"
   },
   "outputs": [],
   "source": [
    "rfc = RandomForestClassifier(**bestparams6k)"
   ]
  },
  {
   "cell_type": "code",
   "execution_count": 151,
   "metadata": {
    "colab": {
     "base_uri": "https://localhost:8080/",
     "height": 0
    },
    "id": "OltWH5VBNhLR",
    "outputId": "abe3116f-2c01-4438-a58f-21994b0088d9"
   },
   "outputs": [
    {
     "data": {
      "text/plain": [
       "RandomForestClassifier(bootstrap=False, max_depth=12, max_leaf_nodes=13,\n",
       "                       min_weight_fraction_leaf=0.055915906832559294,\n",
       "                       n_estimators=245)"
      ]
     },
     "execution_count": 151,
     "metadata": {},
     "output_type": "execute_result"
    }
   ],
   "source": [
    "rfc.fit(train6k, ytrain6k)"
   ]
  },
  {
   "cell_type": "code",
   "execution_count": 156,
   "metadata": {
    "id": "_29GxFZZOJiq"
   },
   "outputs": [],
   "source": [
    "featureimp6k = rfc.feature_importances_\n",
    "RFfeatureImpValue6k = dict(zip(mainFeatures,rfc.feature_importances_))\n",
    "RFfeatureImpValue6k = OrderedDict(sorted(RFfeatureImpValue6k.items(),key=operator.itemgetter(1),reverse=True))\n",
    "rfcFullFeatureImportance6k = list(RFfeatureImpValue6k.keys())"
   ]
  },
  {
   "cell_type": "code",
   "execution_count": 181,
   "metadata": {
    "id": "60DMplhfQpSS"
   },
   "outputs": [],
   "source": [
    "rfcFullFeatureImportance6k = rfcFullFeatureImportance6k[:15]"
   ]
  },
  {
   "cell_type": "markdown",
   "metadata": {
    "id": "A97gyw9LMO9t"
   },
   "source": [
    "## Feature Selection and Hyperparameter tuning using smaller data points - 12000 Data points"
   ]
  },
  {
   "cell_type": "code",
   "execution_count": 185,
   "metadata": {
    "id": "w01VofoAK-cC"
   },
   "outputs": [],
   "source": [
    "# Data points size=12000\n",
    "train12k = df_train[:12000]"
   ]
  },
  {
   "cell_type": "code",
   "execution_count": 159,
   "metadata": {
    "id": "__P6CCtrK-iy"
   },
   "outputs": [],
   "source": [
    "ytrain12k = y_train[:12000]"
   ]
  },
  {
   "cell_type": "code",
   "execution_count": 160,
   "metadata": {
    "colab": {
     "base_uri": "https://localhost:8080/",
     "height": 0
    },
    "id": "LLD0IAG3OYMh",
    "outputId": "fef6c81a-69e0-4eef-ab56-d4b1123749e3"
   },
   "outputs": [
    {
     "name": "stdout",
     "output_type": "stream",
     "text": [
      "gen\tnevals\tfitness \tfitness_std\tfitness_max\tfitness_min\n",
      "0  \t20    \t0.960833\t1.11022e-16\t0.960833   \t0.960833   \n",
      "1  \t40    \t0.960833\t1.11022e-16\t0.960833   \t0.960833   \n",
      "2  \t40    \t0.960833\t1.11022e-16\t0.960833   \t0.960833   \n"
     ]
    },
    {
     "data": {
      "text/plain": [
       "GASearchCV(crossover_probability=<sklearn_genetic.schedules.schedulers.ExponentialAdapter object at 0x7f3ffc70ae50>,\n",
       "           cv=StratifiedKFold(n_splits=3, random_state=None, shuffle=True),\n",
       "           estimator=RandomForestClassifier(bootstrap=False, max_depth=26,\n",
       "                                            max_leaf_nodes=10,\n",
       "                                            min_weight_fraction_leaf=0.18081166385002856,\n",
       "                                            n_estimators=298),\n",
       "           generations=2,\n",
       "           mutation_probabili...\n",
       "                       'max_depth': <sklearn_genetic.space.space.Integer object at 0x7f3ffc70aa90>,\n",
       "                       'max_leaf_nodes': <sklearn_genetic.space.space.Integer object at 0x7f3ffc70a910>,\n",
       "                       'min_weight_fraction_leaf': <sklearn_genetic.space.space.Continuous object at 0x7f3ffc73e7d0>,\n",
       "                       'n_estimators': <sklearn_genetic.space.space.Integer object at 0x7f3ffc70ac50>},\n",
       "           population_size=20, return_train_score=True, scoring='accuracy')"
      ]
     },
     "execution_count": 160,
     "metadata": {},
     "output_type": "execute_result"
    }
   ],
   "source": [
    "evolved_estimator.fit(train12k, ytrain12k)"
   ]
  },
  {
   "cell_type": "code",
   "execution_count": 162,
   "metadata": {
    "colab": {
     "base_uri": "https://localhost:8080/",
     "height": 0
    },
    "id": "i7E4v2fqOYRa",
    "outputId": "8a18e385-1ce5-4be9-fe1f-0fdb1464c2b0"
   },
   "outputs": [
    {
     "data": {
      "text/plain": [
       "{'min_weight_fraction_leaf': 0.18081166385002856,\n",
       " 'bootstrap': False,\n",
       " 'max_depth': 26,\n",
       " 'max_leaf_nodes': 10,\n",
       " 'n_estimators': 298}"
      ]
     },
     "execution_count": 162,
     "metadata": {},
     "output_type": "execute_result"
    }
   ],
   "source": [
    "bestparams12k = evolved_estimator.best_params_\n",
    "bestparams12k"
   ]
  },
  {
   "cell_type": "code",
   "execution_count": 163,
   "metadata": {
    "id": "pGAOmgjbOYTV"
   },
   "outputs": [],
   "source": [
    "rfc = RandomForestClassifier(**bestparams12k)"
   ]
  },
  {
   "cell_type": "code",
   "execution_count": 164,
   "metadata": {
    "colab": {
     "base_uri": "https://localhost:8080/",
     "height": 0
    },
    "id": "mfVUF--dQ30y",
    "outputId": "dab91243-f5b3-4060-94e1-0d00c94477d1"
   },
   "outputs": [
    {
     "data": {
      "text/plain": [
       "RandomForestClassifier(bootstrap=False, max_depth=26, max_leaf_nodes=10,\n",
       "                       min_weight_fraction_leaf=0.18081166385002856,\n",
       "                       n_estimators=298)"
      ]
     },
     "execution_count": 164,
     "metadata": {},
     "output_type": "execute_result"
    }
   ],
   "source": [
    "rfc.fit(train12k, ytrain12k)"
   ]
  },
  {
   "cell_type": "code",
   "execution_count": 165,
   "metadata": {
    "id": "kCUEcdzYQ33l"
   },
   "outputs": [],
   "source": [
    "featureimp12k = rfc.feature_importances_\n",
    "RFfeatureImpValue12k = dict(zip(mainFeatures,rfc.feature_importances_))\n",
    "RFfeatureImpValue12k = OrderedDict(sorted(RFfeatureImpValue12k.items(),key=operator.itemgetter(1),reverse=True))\n",
    "rfcFullFeatureImportance12k = list(RFfeatureImpValue12k.keys())"
   ]
  },
  {
   "cell_type": "code",
   "execution_count": 180,
   "metadata": {
    "id": "_fRA3lEjQ36o"
   },
   "outputs": [],
   "source": [
    "rfcFullFeatureImportance12k = rfcFullFeatureImportance12k[:15]"
   ]
  },
  {
   "cell_type": "markdown",
   "metadata": {
    "id": "Glmd0GkRMRpK"
   },
   "source": [
    "## Feature Selection and Hyperparameter tuning using smaller data points - 18000 Data points"
   ]
  },
  {
   "cell_type": "code",
   "execution_count": 186,
   "metadata": {
    "id": "1C2mTDrQK-sp"
   },
   "outputs": [],
   "source": [
    "# Data points size=18000\n",
    "train18k = df_train[:18000]"
   ]
  },
  {
   "cell_type": "code",
   "execution_count": 168,
   "metadata": {
    "id": "Bd2Tn8T0LJKC"
   },
   "outputs": [],
   "source": [
    "ytrain18k = y_train[:18000]"
   ]
  },
  {
   "cell_type": "code",
   "execution_count": 169,
   "metadata": {
    "colab": {
     "base_uri": "https://localhost:8080/",
     "height": 0
    },
    "id": "Lclzmq8cOtge",
    "outputId": "4827c1a2-bee1-4e66-cd4a-67c53981c416"
   },
   "outputs": [
    {
     "name": "stdout",
     "output_type": "stream",
     "text": [
      "gen\tnevals\tfitness \tfitness_std\tfitness_max\tfitness_min\n",
      "0  \t20    \t0.959444\t1.11022e-16\t0.959444   \t0.959444   \n",
      "1  \t40    \t0.959444\t1.11022e-16\t0.959444   \t0.959444   \n",
      "2  \t40    \t0.959444\t1.11022e-16\t0.959444   \t0.959444   \n"
     ]
    },
    {
     "data": {
      "text/plain": [
       "GASearchCV(crossover_probability=<sklearn_genetic.schedules.schedulers.ExponentialAdapter object at 0x7f3ffc70ae50>,\n",
       "           cv=StratifiedKFold(n_splits=3, random_state=None, shuffle=True),\n",
       "           estimator=RandomForestClassifier(bootstrap=False, max_depth=10,\n",
       "                                            max_leaf_nodes=20,\n",
       "                                            min_weight_fraction_leaf=0.02070717958400921,\n",
       "                                            n_estimators=197),\n",
       "           generations=2,\n",
       "           mutation_probabili...\n",
       "                       'max_depth': <sklearn_genetic.space.space.Integer object at 0x7f3ffc70aa90>,\n",
       "                       'max_leaf_nodes': <sklearn_genetic.space.space.Integer object at 0x7f3ffc70a910>,\n",
       "                       'min_weight_fraction_leaf': <sklearn_genetic.space.space.Continuous object at 0x7f3ffc73e7d0>,\n",
       "                       'n_estimators': <sklearn_genetic.space.space.Integer object at 0x7f3ffc70ac50>},\n",
       "           population_size=20, return_train_score=True, scoring='accuracy')"
      ]
     },
     "execution_count": 169,
     "metadata": {},
     "output_type": "execute_result"
    }
   ],
   "source": [
    "evolved_estimator.fit(train18k, ytrain18k)"
   ]
  },
  {
   "cell_type": "code",
   "execution_count": 170,
   "metadata": {
    "colab": {
     "base_uri": "https://localhost:8080/",
     "height": 0
    },
    "id": "x4ungQWkOtjk",
    "outputId": "4fd91b01-13f0-4aa1-dc3a-278a56654384"
   },
   "outputs": [
    {
     "data": {
      "text/plain": [
       "{'min_weight_fraction_leaf': 0.02070717958400921,\n",
       " 'bootstrap': False,\n",
       " 'max_depth': 10,\n",
       " 'max_leaf_nodes': 20,\n",
       " 'n_estimators': 197}"
      ]
     },
     "execution_count": 170,
     "metadata": {},
     "output_type": "execute_result"
    }
   ],
   "source": [
    "bestparams18k = evolved_estimator.best_params_\n",
    "bestparams18k"
   ]
  },
  {
   "cell_type": "code",
   "execution_count": 171,
   "metadata": {
    "id": "5crwNOd0Otmw"
   },
   "outputs": [],
   "source": [
    "rfc = RandomForestClassifier(**bestparams18k)"
   ]
  },
  {
   "cell_type": "code",
   "execution_count": 172,
   "metadata": {
    "colab": {
     "base_uri": "https://localhost:8080/",
     "height": 0
    },
    "id": "LCtQSSaaRbeX",
    "outputId": "b972e547-8e1d-451f-d5e1-0c02dd0abd2a"
   },
   "outputs": [
    {
     "data": {
      "text/plain": [
       "RandomForestClassifier(bootstrap=False, max_depth=10, max_leaf_nodes=20,\n",
       "                       min_weight_fraction_leaf=0.02070717958400921,\n",
       "                       n_estimators=197)"
      ]
     },
     "execution_count": 172,
     "metadata": {},
     "output_type": "execute_result"
    }
   ],
   "source": [
    "rfc.fit(train18k, ytrain18k)"
   ]
  },
  {
   "cell_type": "code",
   "execution_count": 173,
   "metadata": {
    "id": "1xBpNKQlRbnY"
   },
   "outputs": [],
   "source": [
    "featureimp18k = rfc.feature_importances_\n",
    "RFfeatureImpValue18k = dict(zip(mainFeatures,rfc.feature_importances_))\n",
    "RFfeatureImpValue18k = OrderedDict(sorted(RFfeatureImpValue18k.items(),key=operator.itemgetter(1),reverse=True))\n",
    "rfcFullFeatureImportance18k = list(RFfeatureImpValue18k.keys())"
   ]
  },
  {
   "cell_type": "code",
   "execution_count": 179,
   "metadata": {
    "id": "Pg3vapt7Rb2A"
   },
   "outputs": [],
   "source": [
    "rfcFullFeatureImportance18k = rfcFullFeatureImportance18k[:25]"
   ]
  },
  {
   "cell_type": "markdown",
   "metadata": {
    "id": "aqI6BkYeSnsf"
   },
   "source": [
    "## Common Features between 6k, 12k and 18k data points"
   ]
  },
  {
   "cell_type": "code",
   "execution_count": 182,
   "metadata": {
    "id": "yvcETpjCSuuW"
   },
   "outputs": [],
   "source": [
    "commonfinalk = list(set(rfcFullFeatureImportance6k) & set(rfcFullFeatureImportance12k) & set(rfcFullFeatureImportance18k))"
   ]
  },
  {
   "cell_type": "code",
   "execution_count": 183,
   "metadata": {
    "colab": {
     "base_uri": "https://localhost:8080/",
     "height": 0
    },
    "id": "Hz_w__ZRU9rp",
    "outputId": "2c37aa50-0e2d-4611-bb1a-77b3d7ceb5d8"
   },
   "outputs": [
    {
     "data": {
      "text/plain": [
       "['saldo_var30',\n",
       " 'num_var35',\n",
       " 'var38',\n",
       " 'saldo_var5',\n",
       " 'saldo_var42',\n",
       " 'var15',\n",
       " 'saldo_medio_var5_ult3',\n",
       " 'num_meses_var5_ult3',\n",
       " 'ind_var30',\n",
       " 'num_var4',\n",
       " 'num_var5',\n",
       " 'num_var30',\n",
       " 'saldo_medio_var5_hace2']"
      ]
     },
     "execution_count": 183,
     "metadata": {},
     "output_type": "execute_result"
    }
   ],
   "source": [
    "commonfinalk"
   ]
  },
  {
   "cell_type": "markdown",
   "metadata": {
    "id": "H2-vd0czrOUw"
   },
   "source": [
    "## Train-Test Split"
   ]
  },
  {
   "cell_type": "code",
   "execution_count": 10,
   "metadata": {
    "id": "SvUdbUV-rRH9"
   },
   "outputs": [],
   "source": [
    "X_train, X_test, Y_train, Y_test = train_test_split(df_train, y_train, test_size=0.33, random_state=42)"
   ]
  },
  {
   "cell_type": "code",
   "execution_count": 11,
   "metadata": {
    "colab": {
     "base_uri": "https://localhost:8080/",
     "height": 0
    },
    "id": "92llgrmnTYfW",
    "outputId": "648f46b0-b9cd-4a0e-c50d-6f0b6b7f3a59"
   },
   "outputs": [
    {
     "data": {
      "text/plain": [
       "['ID',\n",
       " 'var3',\n",
       " 'var15',\n",
       " 'imp_ent_var16_ult1',\n",
       " 'imp_op_var39_comer_ult1',\n",
       " 'imp_op_var39_comer_ult3',\n",
       " 'imp_op_var40_comer_ult1',\n",
       " 'imp_op_var40_comer_ult3',\n",
       " 'imp_op_var40_efect_ult1',\n",
       " 'imp_op_var40_efect_ult3',\n",
       " 'imp_op_var40_ult1',\n",
       " 'imp_op_var41_comer_ult1',\n",
       " 'imp_op_var41_comer_ult3',\n",
       " 'imp_op_var41_efect_ult1',\n",
       " 'imp_op_var41_efect_ult3',\n",
       " 'imp_op_var41_ult1',\n",
       " 'imp_op_var39_efect_ult1',\n",
       " 'imp_op_var39_efect_ult3',\n",
       " 'imp_op_var39_ult1',\n",
       " 'imp_sal_var16_ult1',\n",
       " 'ind_var1_0',\n",
       " 'ind_var1',\n",
       " 'ind_var2_0',\n",
       " 'ind_var2',\n",
       " 'ind_var5_0',\n",
       " 'ind_var5',\n",
       " 'ind_var6_0',\n",
       " 'ind_var6',\n",
       " 'ind_var8_0',\n",
       " 'ind_var8',\n",
       " 'ind_var12_0',\n",
       " 'ind_var12',\n",
       " 'ind_var13_0',\n",
       " 'ind_var13_corto_0',\n",
       " 'ind_var13_corto',\n",
       " 'ind_var13_largo_0',\n",
       " 'ind_var13_largo',\n",
       " 'ind_var13_medio_0',\n",
       " 'ind_var13_medio',\n",
       " 'ind_var13',\n",
       " 'ind_var14_0',\n",
       " 'ind_var14',\n",
       " 'ind_var17_0',\n",
       " 'ind_var17',\n",
       " 'ind_var18_0',\n",
       " 'ind_var18',\n",
       " 'ind_var19',\n",
       " 'ind_var20_0',\n",
       " 'ind_var20',\n",
       " 'ind_var24_0',\n",
       " 'ind_var24',\n",
       " 'ind_var25_cte',\n",
       " 'ind_var26_0',\n",
       " 'ind_var26_cte',\n",
       " 'ind_var26',\n",
       " 'ind_var25_0',\n",
       " 'ind_var25',\n",
       " 'ind_var27_0',\n",
       " 'ind_var28_0',\n",
       " 'ind_var28',\n",
       " 'ind_var27',\n",
       " 'ind_var29_0',\n",
       " 'ind_var29',\n",
       " 'ind_var30_0',\n",
       " 'ind_var30',\n",
       " 'ind_var31_0',\n",
       " 'ind_var31',\n",
       " 'ind_var32_cte',\n",
       " 'ind_var32_0',\n",
       " 'ind_var32',\n",
       " 'ind_var33_0',\n",
       " 'ind_var33',\n",
       " 'ind_var34_0',\n",
       " 'ind_var34',\n",
       " 'ind_var37_cte',\n",
       " 'ind_var37_0',\n",
       " 'ind_var37',\n",
       " 'ind_var39_0',\n",
       " 'ind_var40_0',\n",
       " 'ind_var40',\n",
       " 'ind_var41_0',\n",
       " 'ind_var41',\n",
       " 'ind_var39',\n",
       " 'ind_var44_0',\n",
       " 'ind_var44',\n",
       " 'ind_var46_0',\n",
       " 'ind_var46',\n",
       " 'num_var1_0',\n",
       " 'num_var1',\n",
       " 'num_var4',\n",
       " 'num_var5_0',\n",
       " 'num_var5',\n",
       " 'num_var6_0',\n",
       " 'num_var6',\n",
       " 'num_var8_0',\n",
       " 'num_var8',\n",
       " 'num_var12_0',\n",
       " 'num_var12',\n",
       " 'num_var13_0',\n",
       " 'num_var13_corto_0',\n",
       " 'num_var13_corto',\n",
       " 'num_var13_largo_0',\n",
       " 'num_var13_largo',\n",
       " 'num_var13_medio_0',\n",
       " 'num_var13_medio',\n",
       " 'num_var13',\n",
       " 'num_var14_0',\n",
       " 'num_var14',\n",
       " 'num_var17_0',\n",
       " 'num_var17',\n",
       " 'num_var18_0',\n",
       " 'num_var18',\n",
       " 'num_var20_0',\n",
       " 'num_var20',\n",
       " 'num_var24_0',\n",
       " 'num_var24',\n",
       " 'num_var26_0',\n",
       " 'num_var26',\n",
       " 'num_var25_0',\n",
       " 'num_var25',\n",
       " 'num_op_var40_hace2',\n",
       " 'num_op_var40_hace3',\n",
       " 'num_op_var40_ult1',\n",
       " 'num_op_var40_ult3',\n",
       " 'num_op_var41_hace2',\n",
       " 'num_op_var41_hace3',\n",
       " 'num_op_var41_ult1',\n",
       " 'num_op_var41_ult3',\n",
       " 'num_op_var39_hace2',\n",
       " 'num_op_var39_hace3',\n",
       " 'num_op_var39_ult1',\n",
       " 'num_op_var39_ult3',\n",
       " 'num_var27_0',\n",
       " 'num_var28_0',\n",
       " 'num_var28',\n",
       " 'num_var27',\n",
       " 'num_var29_0',\n",
       " 'num_var29',\n",
       " 'num_var30_0',\n",
       " 'num_var30',\n",
       " 'num_var31_0',\n",
       " 'num_var31',\n",
       " 'num_var32_0',\n",
       " 'num_var32',\n",
       " 'num_var33_0',\n",
       " 'num_var33',\n",
       " 'num_var34_0',\n",
       " 'num_var34',\n",
       " 'num_var35',\n",
       " 'num_var37_med_ult2',\n",
       " 'num_var37_0',\n",
       " 'num_var37',\n",
       " 'num_var39_0',\n",
       " 'num_var40_0',\n",
       " 'num_var40',\n",
       " 'num_var41_0',\n",
       " 'num_var41',\n",
       " 'num_var39',\n",
       " 'num_var42_0',\n",
       " 'num_var42',\n",
       " 'num_var44_0',\n",
       " 'num_var44',\n",
       " 'num_var46_0',\n",
       " 'num_var46',\n",
       " 'saldo_var1',\n",
       " 'saldo_var5',\n",
       " 'saldo_var6',\n",
       " 'saldo_var8',\n",
       " 'saldo_var12',\n",
       " 'saldo_var13_corto',\n",
       " 'saldo_var13_largo',\n",
       " 'saldo_var13_medio',\n",
       " 'saldo_var13',\n",
       " 'saldo_var14',\n",
       " 'saldo_var17',\n",
       " 'saldo_var18',\n",
       " 'saldo_var20',\n",
       " 'saldo_var24',\n",
       " 'saldo_var26',\n",
       " 'saldo_var25',\n",
       " 'saldo_var28',\n",
       " 'saldo_var27',\n",
       " 'saldo_var29',\n",
       " 'saldo_var30',\n",
       " 'saldo_var31',\n",
       " 'saldo_var32',\n",
       " 'saldo_var33',\n",
       " 'saldo_var34',\n",
       " 'saldo_var37',\n",
       " 'saldo_var40',\n",
       " 'saldo_var41',\n",
       " 'saldo_var42',\n",
       " 'saldo_var44',\n",
       " 'saldo_var46',\n",
       " 'var36',\n",
       " 'delta_imp_amort_var18_1y3',\n",
       " 'delta_imp_amort_var34_1y3',\n",
       " 'delta_imp_aport_var13_1y3',\n",
       " 'delta_imp_aport_var17_1y3',\n",
       " 'delta_imp_aport_var33_1y3',\n",
       " 'delta_imp_compra_var44_1y3',\n",
       " 'delta_imp_reemb_var13_1y3',\n",
       " 'delta_imp_reemb_var17_1y3',\n",
       " 'delta_imp_reemb_var33_1y3',\n",
       " 'delta_imp_trasp_var17_in_1y3',\n",
       " 'delta_imp_trasp_var17_out_1y3',\n",
       " 'delta_imp_trasp_var33_in_1y3',\n",
       " 'delta_imp_trasp_var33_out_1y3',\n",
       " 'delta_imp_venta_var44_1y3',\n",
       " 'delta_num_aport_var13_1y3',\n",
       " 'delta_num_aport_var17_1y3',\n",
       " 'delta_num_aport_var33_1y3',\n",
       " 'delta_num_compra_var44_1y3',\n",
       " 'delta_num_reemb_var13_1y3',\n",
       " 'delta_num_reemb_var17_1y3',\n",
       " 'delta_num_reemb_var33_1y3',\n",
       " 'delta_num_trasp_var17_in_1y3',\n",
       " 'delta_num_trasp_var17_out_1y3',\n",
       " 'delta_num_trasp_var33_in_1y3',\n",
       " 'delta_num_trasp_var33_out_1y3',\n",
       " 'delta_num_venta_var44_1y3',\n",
       " 'imp_amort_var18_hace3',\n",
       " 'imp_amort_var18_ult1',\n",
       " 'imp_amort_var34_hace3',\n",
       " 'imp_amort_var34_ult1',\n",
       " 'imp_aport_var13_hace3',\n",
       " 'imp_aport_var13_ult1',\n",
       " 'imp_aport_var17_hace3',\n",
       " 'imp_aport_var17_ult1',\n",
       " 'imp_aport_var33_hace3',\n",
       " 'imp_aport_var33_ult1',\n",
       " 'imp_var7_emit_ult1',\n",
       " 'imp_var7_recib_ult1',\n",
       " 'imp_compra_var44_hace3',\n",
       " 'imp_compra_var44_ult1',\n",
       " 'imp_reemb_var13_hace3',\n",
       " 'imp_reemb_var13_ult1',\n",
       " 'imp_reemb_var17_hace3',\n",
       " 'imp_reemb_var17_ult1',\n",
       " 'imp_reemb_var33_hace3',\n",
       " 'imp_reemb_var33_ult1',\n",
       " 'imp_var43_emit_ult1',\n",
       " 'imp_trans_var37_ult1',\n",
       " 'imp_trasp_var17_in_hace3',\n",
       " 'imp_trasp_var17_in_ult1',\n",
       " 'imp_trasp_var17_out_hace3',\n",
       " 'imp_trasp_var17_out_ult1',\n",
       " 'imp_trasp_var33_in_hace3',\n",
       " 'imp_trasp_var33_in_ult1',\n",
       " 'imp_trasp_var33_out_hace3',\n",
       " 'imp_trasp_var33_out_ult1',\n",
       " 'imp_venta_var44_hace3',\n",
       " 'imp_venta_var44_ult1',\n",
       " 'ind_var7_emit_ult1',\n",
       " 'ind_var7_recib_ult1',\n",
       " 'ind_var10_ult1',\n",
       " 'ind_var10cte_ult1',\n",
       " 'ind_var9_cte_ult1',\n",
       " 'ind_var9_ult1',\n",
       " 'ind_var43_emit_ult1',\n",
       " 'ind_var43_recib_ult1',\n",
       " 'var21',\n",
       " 'num_var2_0_ult1',\n",
       " 'num_var2_ult1',\n",
       " 'num_aport_var13_hace3',\n",
       " 'num_aport_var13_ult1',\n",
       " 'num_aport_var17_hace3',\n",
       " 'num_aport_var17_ult1',\n",
       " 'num_aport_var33_hace3',\n",
       " 'num_aport_var33_ult1',\n",
       " 'num_var7_emit_ult1',\n",
       " 'num_var7_recib_ult1',\n",
       " 'num_compra_var44_hace3',\n",
       " 'num_compra_var44_ult1',\n",
       " 'num_ent_var16_ult1',\n",
       " 'num_var22_hace2',\n",
       " 'num_var22_hace3',\n",
       " 'num_var22_ult1',\n",
       " 'num_var22_ult3',\n",
       " 'num_med_var22_ult3',\n",
       " 'num_med_var45_ult3',\n",
       " 'num_meses_var5_ult3',\n",
       " 'num_meses_var8_ult3',\n",
       " 'num_meses_var12_ult3',\n",
       " 'num_meses_var13_corto_ult3',\n",
       " 'num_meses_var13_largo_ult3',\n",
       " 'num_meses_var13_medio_ult3',\n",
       " 'num_meses_var17_ult3',\n",
       " 'num_meses_var29_ult3',\n",
       " 'num_meses_var33_ult3',\n",
       " 'num_meses_var39_vig_ult3',\n",
       " 'num_meses_var44_ult3',\n",
       " 'num_op_var39_comer_ult1',\n",
       " 'num_op_var39_comer_ult3',\n",
       " 'num_op_var40_comer_ult1',\n",
       " 'num_op_var40_comer_ult3',\n",
       " 'num_op_var40_efect_ult1',\n",
       " 'num_op_var40_efect_ult3',\n",
       " 'num_op_var41_comer_ult1',\n",
       " 'num_op_var41_comer_ult3',\n",
       " 'num_op_var41_efect_ult1',\n",
       " 'num_op_var41_efect_ult3',\n",
       " 'num_op_var39_efect_ult1',\n",
       " 'num_op_var39_efect_ult3',\n",
       " 'num_reemb_var13_hace3',\n",
       " 'num_reemb_var13_ult1',\n",
       " 'num_reemb_var17_hace3',\n",
       " 'num_reemb_var17_ult1',\n",
       " 'num_reemb_var33_hace3',\n",
       " 'num_reemb_var33_ult1',\n",
       " 'num_sal_var16_ult1',\n",
       " 'num_var43_emit_ult1',\n",
       " 'num_var43_recib_ult1',\n",
       " 'num_trasp_var11_ult1',\n",
       " 'num_trasp_var17_in_hace3',\n",
       " 'num_trasp_var17_in_ult1',\n",
       " 'num_trasp_var17_out_hace3',\n",
       " 'num_trasp_var17_out_ult1',\n",
       " 'num_trasp_var33_in_hace3',\n",
       " 'num_trasp_var33_in_ult1',\n",
       " 'num_trasp_var33_out_hace3',\n",
       " 'num_trasp_var33_out_ult1',\n",
       " 'num_venta_var44_hace3',\n",
       " 'num_venta_var44_ult1',\n",
       " 'num_var45_hace2',\n",
       " 'num_var45_hace3',\n",
       " 'num_var45_ult1',\n",
       " 'num_var45_ult3',\n",
       " 'saldo_var2_ult1',\n",
       " 'saldo_medio_var5_hace2',\n",
       " 'saldo_medio_var5_hace3',\n",
       " 'saldo_medio_var5_ult1',\n",
       " 'saldo_medio_var5_ult3',\n",
       " 'saldo_medio_var8_hace2',\n",
       " 'saldo_medio_var8_hace3',\n",
       " 'saldo_medio_var8_ult1',\n",
       " 'saldo_medio_var8_ult3',\n",
       " 'saldo_medio_var12_hace2',\n",
       " 'saldo_medio_var12_hace3',\n",
       " 'saldo_medio_var12_ult1',\n",
       " 'saldo_medio_var12_ult3',\n",
       " 'saldo_medio_var13_corto_hace2',\n",
       " 'saldo_medio_var13_corto_hace3',\n",
       " 'saldo_medio_var13_corto_ult1',\n",
       " 'saldo_medio_var13_corto_ult3',\n",
       " 'saldo_medio_var13_largo_hace2',\n",
       " 'saldo_medio_var13_largo_hace3',\n",
       " 'saldo_medio_var13_largo_ult1',\n",
       " 'saldo_medio_var13_largo_ult3',\n",
       " 'saldo_medio_var13_medio_hace2',\n",
       " 'saldo_medio_var13_medio_hace3',\n",
       " 'saldo_medio_var13_medio_ult1',\n",
       " 'saldo_medio_var13_medio_ult3',\n",
       " 'saldo_medio_var17_hace2',\n",
       " 'saldo_medio_var17_hace3',\n",
       " 'saldo_medio_var17_ult1',\n",
       " 'saldo_medio_var17_ult3',\n",
       " 'saldo_medio_var29_hace2',\n",
       " 'saldo_medio_var29_hace3',\n",
       " 'saldo_medio_var29_ult1',\n",
       " 'saldo_medio_var29_ult3',\n",
       " 'saldo_medio_var33_hace2',\n",
       " 'saldo_medio_var33_hace3',\n",
       " 'saldo_medio_var33_ult1',\n",
       " 'saldo_medio_var33_ult3',\n",
       " 'saldo_medio_var44_hace2',\n",
       " 'saldo_medio_var44_hace3',\n",
       " 'saldo_medio_var44_ult1',\n",
       " 'saldo_medio_var44_ult3',\n",
       " 'var38']"
      ]
     },
     "execution_count": 11,
     "metadata": {},
     "output_type": "execute_result"
    }
   ],
   "source": [
    "originalFeatures = list(X_train.columns.values)\n",
    "originalFeatures"
   ]
  },
  {
   "cell_type": "markdown",
   "metadata": {
    "id": "4_ri1ufzqTqq"
   },
   "source": [
    "## Random Forest feature selection with Genetic Algorithm"
   ]
  },
  {
   "cell_type": "code",
   "execution_count": 12,
   "metadata": {
    "id": "vJGDEqSRrFHO"
   },
   "outputs": [],
   "source": [
    "rfc = RandomForestClassifier()\n",
    "params = {'min_weight_fraction_leaf': Continuous(0.01, 0.5, distribution='log-uniform'),\n",
    "          'bootstrap': Categorical([True, False]),\n",
    "          'max_depth': Integer(2, 30),\n",
    "          'max_leaf_nodes': Integer(2, 35),\n",
    "          'n_estimators': Integer(100, 300)}"
   ]
  },
  {
   "cell_type": "code",
   "execution_count": 13,
   "metadata": {
    "id": "zrVD83o3rFQV"
   },
   "outputs": [],
   "source": [
    "mutation_adapter = ExponentialAdapter(initial_value=0.8, end_value=0.2, adaptive_rate=0.1)\n",
    "crossover_adapter = ExponentialAdapter(initial_value=0.2, end_value=0.8, adaptive_rate=0.1)"
   ]
  },
  {
   "cell_type": "code",
   "execution_count": 14,
   "metadata": {
    "id": "tVD5atT7sGGH"
   },
   "outputs": [],
   "source": [
    "cv = StratifiedKFold(n_splits=3, shuffle=True)"
   ]
  },
  {
   "cell_type": "code",
   "execution_count": 15,
   "metadata": {
    "id": "99mIT7EsrFZg"
   },
   "outputs": [],
   "source": [
    "evolved_estimator = GASearchCV(estimator=rfc,\n",
    "                               cv=cv,\n",
    "                               scoring='accuracy',\n",
    "                               population_size=20,\n",
    "                               generations=2,\n",
    "                               mutation_probability=mutation_adapter,\n",
    "                               crossover_probability=crossover_adapter,\n",
    "                               param_grid=params,\n",
    "                               n_jobs=-1)"
   ]
  },
  {
   "cell_type": "code",
   "execution_count": 16,
   "metadata": {
    "colab": {
     "base_uri": "https://localhost:8080/",
     "height": 0
    },
    "id": "kzfCOoHlrFg5",
    "outputId": "3e8c127c-c94a-47c9-a64b-3bbbe51c9884"
   },
   "outputs": [
    {
     "data": {
      "text/plain": [
       "RandomForestClassifier()"
      ]
     },
     "execution_count": 16,
     "metadata": {},
     "output_type": "execute_result"
    }
   ],
   "source": [
    "rfc.fit(X_train, Y_train)"
   ]
  },
  {
   "cell_type": "code",
   "execution_count": 17,
   "metadata": {
    "id": "AePnhNDFcagr"
   },
   "outputs": [],
   "source": [
    "RFfeatureImpValue = dict(zip(originalFeatures,rfc.feature_importances_))\n",
    "RFfeatureImpValue = OrderedDict(sorted(RFfeatureImpValue.items(),key=operator.itemgetter(1),reverse=True))\n",
    "rfcFullFeatureImportance = list(RFfeatureImpValue.keys())"
   ]
  },
  {
   "cell_type": "code",
   "execution_count": 18,
   "metadata": {
    "colab": {
     "base_uri": "https://localhost:8080/",
     "height": 0
    },
    "id": "u1HFgTCICmQ2",
    "outputId": "a7f8260a-7790-4c36-92c9-b3e5e65bd19f"
   },
   "outputs": [
    {
     "data": {
      "text/plain": [
       "OrderedDict([('ID', 0.2455405357084641),\n",
       "             ('var38', 0.20480214987717144),\n",
       "             ('var15', 0.15301987118247),\n",
       "             ('saldo_medio_var5_ult3', 0.02311917736617181),\n",
       "             ('saldo_medio_var5_hace3', 0.021932113574790663),\n",
       "             ('num_var45_ult3', 0.0191689577469822),\n",
       "             ('num_var45_hace3', 0.015306776681034867),\n",
       "             ('saldo_var30', 0.014883008276719224),\n",
       "             ('saldo_medio_var5_hace2', 0.01401041438520931),\n",
       "             ('num_var22_ult3', 0.013647862505574912),\n",
       "             ('saldo_var42', 0.013198439475944148),\n",
       "             ('num_var45_hace2', 0.012888602513410143),\n",
       "             ('saldo_medio_var5_ult1', 0.012273564793723222),\n",
       "             ('saldo_var5', 0.010946468270784222),\n",
       "             ('num_var45_ult1', 0.009739657900870089),\n",
       "             ('num_var22_hace3', 0.009237403251693931),\n",
       "             ('num_med_var45_ult3', 0.009235604168771134),\n",
       "             ('num_var22_hace2', 0.009024087340504574),\n",
       "             ('var36', 0.0075787797701181514),\n",
       "             ('num_var22_ult1', 0.006962068807718285),\n",
       "             ('num_meses_var39_vig_ult3', 0.006596163956875608),\n",
       "             ('num_med_var22_ult3', 0.004735372515230448),\n",
       "             ('num_meses_var5_ult3', 0.004617408962850269),\n",
       "             ('imp_op_var41_ult1', 0.004217654264817494),\n",
       "             ('num_var35', 0.00421078935273858),\n",
       "             ('imp_op_var39_ult1', 0.004060866576271645),\n",
       "             ('imp_op_var41_comer_ult3', 0.003972832498979225),\n",
       "             ('imp_op_var41_efect_ult3', 0.003834920099362809),\n",
       "             ('imp_op_var39_comer_ult3', 0.003746856266678414),\n",
       "             ('imp_op_var39_efect_ult3', 0.0037189337455035315),\n",
       "             ('num_var4', 0.0036987127672631127),\n",
       "             ('imp_trans_var37_ult1', 0.003262286003379783),\n",
       "             ('num_op_var41_ult3', 0.0032491372726588326),\n",
       "             ('imp_op_var41_comer_ult1', 0.0032327455269166366),\n",
       "             ('var3', 0.003177965012718956),\n",
       "             ('imp_op_var39_comer_ult1', 0.0031324567018627364),\n",
       "             ('num_var30', 0.0030807422263162813),\n",
       "             ('num_op_var39_ult3', 0.002961567848013996),\n",
       "             ('saldo_var37', 0.002910470636494746),\n",
       "             ('imp_ent_var16_ult1', 0.0028686394009514978),\n",
       "             ('imp_op_var41_efect_ult1', 0.0028521616806655966),\n",
       "             ('imp_op_var39_efect_ult1', 0.0027483756515429693),\n",
       "             ('num_op_var39_comer_ult3', 0.002584702993943951),\n",
       "             ('num_op_var41_comer_ult3', 0.0025515532292062506),\n",
       "             ('num_op_var39_hace2', 0.002539661831435374),\n",
       "             ('num_op_var39_ult1', 0.0025140674933033565),\n",
       "             ('num_op_var41_ult1', 0.0024116659999950194),\n",
       "             ('num_op_var41_hace2', 0.0024076809909981583),\n",
       "             ('imp_var43_emit_ult1', 0.0023344915642819018),\n",
       "             ('num_op_var41_efect_ult3', 0.002312695604321697),\n",
       "             ('num_op_var39_efect_ult3', 0.002288906626233453),\n",
       "             ('num_op_var39_comer_ult1', 0.0022296016378848464),\n",
       "             ('num_var43_recib_ult1', 0.0021869837595646017),\n",
       "             ('num_op_var41_comer_ult1', 0.0021623901032201374),\n",
       "             ('num_var41_0', 0.0020643637604166407),\n",
       "             ('num_ent_var16_ult1', 0.0018893116720130143),\n",
       "             ('saldo_var8', 0.0018531355250954915),\n",
       "             ('num_var39_0', 0.0018516119239531431),\n",
       "             ('num_var42', 0.0018310722455850254),\n",
       "             ('ind_var30', 0.0018246720296828647),\n",
       "             ('ind_var5', 0.0018139145273764687),\n",
       "             ('saldo_medio_var8_ult3', 0.0016404725880291684),\n",
       "             ('num_op_var41_efect_ult1', 0.0015646249766427393),\n",
       "             ('num_op_var39_efect_ult1', 0.0015025509244717512),\n",
       "             ('num_var43_emit_ult1', 0.001487610833831566),\n",
       "             ('num_var37', 0.0014000377523191892),\n",
       "             ('saldo_medio_var8_ult1', 0.0013748288279447636),\n",
       "             ('num_var37_0', 0.0012873148133920869),\n",
       "             ('num_var37_med_ult2', 0.001267335829620736),\n",
       "             ('num_var5_0', 0.0012218632239347788),\n",
       "             ('num_var5', 0.0012109691931251909),\n",
       "             ('num_var30_0', 0.0012081289462414812),\n",
       "             ('ind_var43_recib_ult1', 0.001158668424292994),\n",
       "             ('ind_var41_0', 0.0011177593420674233),\n",
       "             ('ind_var39_0', 0.0010966542291377685),\n",
       "             ('saldo_medio_var8_hace2', 0.00103440171282945),\n",
       "             ('num_var8_0', 0.0009585173304916656),\n",
       "             ('num_var42_0', 0.0008942021814529094),\n",
       "             ('ind_var8_0', 0.000875353781447267),\n",
       "             ('ind_var43_emit_ult1', 0.0008655381720347462),\n",
       "             ('saldo_var26', 0.0008506738104953579),\n",
       "             ('saldo_var25', 0.0007593697904236169),\n",
       "             ('num_op_var39_hace3', 0.0007060697962832102),\n",
       "             ('ind_var37', 0.0006767601955403869),\n",
       "             ('ind_var37_cte', 0.0006636623661611156),\n",
       "             ('ind_var10cte_ult1', 0.0006326920354140524),\n",
       "             ('saldo_medio_var12_ult1', 0.0006266298817656324),\n",
       "             ('ind_var9_cte_ult1', 0.0006145252024289736),\n",
       "             ('ind_var9_ult1', 0.0005921787193477664),\n",
       "             ('ind_var37_0', 0.000580942792230698),\n",
       "             ('ind_var5_0', 0.0005582005320069945),\n",
       "             ('num_var12_0', 0.0005567771339664765),\n",
       "             ('saldo_medio_var12_ult3', 0.000543312025199982),\n",
       "             ('num_op_var41_hace3', 0.0005299729092462376),\n",
       "             ('ind_var10_ult1', 0.0005236681407380142),\n",
       "             ('num_trasp_var11_ult1', 0.0004998219795011472),\n",
       "             ('num_var26', 0.0004696811049964704),\n",
       "             ('num_meses_var8_ult3', 0.00044915712313319293),\n",
       "             ('saldo_medio_var12_hace2', 0.00042215548244677113),\n",
       "             ('ind_var12_0', 0.00041965947602700635),\n",
       "             ('num_var25_0', 0.00040718609927061633),\n",
       "             ('saldo_var24', 0.0003963502799225999),\n",
       "             ('num_var25', 0.0003674980227338924),\n",
       "             ('saldo_medio_var13_corto_ult3', 0.0003651291586684207),\n",
       "             ('saldo_var12', 0.0003638253053140492),\n",
       "             ('saldo_var13', 0.0003613823808213391),\n",
       "             ('num_var26_0', 0.0003603640285319595),\n",
       "             ('saldo_medio_var13_corto_hace2', 0.00033127741498516715),\n",
       "             ('ind_var13_0', 0.0003276624477287394),\n",
       "             ('ind_var26_cte', 0.00032347221735176825),\n",
       "             ('num_var24_0', 0.0003064449308122496),\n",
       "             ('saldo_medio_var13_corto_ult1', 0.000305437490325232),\n",
       "             ('ind_var24_0', 0.0003005238558792905),\n",
       "             ('imp_op_var40_efect_ult1', 0.0002985587086815759),\n",
       "             ('num_var13_0', 0.00029353492385669836),\n",
       "             ('saldo_medio_var8_hace3', 0.0002782088011454004),\n",
       "             ('imp_op_var40_efect_ult3', 0.00027317467716542405),\n",
       "             ('saldo_var13_corto', 0.0002684048202557261),\n",
       "             ('ind_var25_cte', 0.00026581612815561957),\n",
       "             ('ind_var8', 0.0002580545864278372),\n",
       "             ('num_var40_0', 0.00025773231038622377),\n",
       "             ('num_meses_var12_ult3', 0.00025468002624415374),\n",
       "             ('ind_var14_0', 0.00025463949044100755),\n",
       "             ('saldo_var40', 0.00025128951670801185),\n",
       "             ('ind_var13', 0.00024601229110698784),\n",
       "             ('ind_var25_0', 0.00023764097853759447),\n",
       "             ('saldo_var1', 0.00023759622252423888),\n",
       "             ('num_var1_0', 0.00022933305304379393),\n",
       "             ('num_var7_recib_ult1', 0.00022854986178600073),\n",
       "             ('imp_var7_recib_ult1', 0.00022708525192353105),\n",
       "             ('ind_var30_0', 0.00021707888012259654),\n",
       "             ('num_var8', 0.00021554965258968565),\n",
       "             ('num_var14_0', 0.00020934493810873434),\n",
       "             ('ind_var1_0', 0.00020106237969150264),\n",
       "             ('num_op_var40_efect_ult1', 0.0001951739128982828),\n",
       "             ('saldo_medio_var12_hace3', 0.00018824841694598034),\n",
       "             ('ind_var12', 0.00018015566112094118),\n",
       "             ('var21', 0.00017938714838163406),\n",
       "             ('ind_var25', 0.00017873171110978413),\n",
       "             ('ind_var7_recib_ult1', 0.00017448572458157046),\n",
       "             ('ind_var40_0', 0.00017242220499600857),\n",
       "             ('ind_var26', 0.00017147749282771775),\n",
       "             ('num_sal_var16_ult1', 0.00016784919572947104),\n",
       "             ('num_var12', 0.00016339587192058352),\n",
       "             ('num_var13', 0.00015433838231847387),\n",
       "             ('imp_op_var40_ult1', 0.0001404223042509354),\n",
       "             ('ind_var13_corto_0', 0.00013863326312496267),\n",
       "             ('num_op_var40_efect_ult3', 0.00013783488152605984),\n",
       "             ('num_op_var40_ult1', 0.0001332319443309967),\n",
       "             ('imp_aport_var13_ult1', 0.00013166715497708756),\n",
       "             ('num_meses_var13_corto_ult3', 0.00012710813663126643),\n",
       "             ('ind_var26_0', 0.00011471988817934281),\n",
       "             ('imp_sal_var16_ult1', 0.00011145393612704932),\n",
       "             ('num_var24', 0.0001091641380582202),\n",
       "             ('ind_var24', 0.00010804143486048394),\n",
       "             ('saldo_var14', 0.00010760452248554056),\n",
       "             ('num_op_var40_comer_ult3', 0.00010436921849629444),\n",
       "             ('ind_var32_cte', 0.00010034481310017813),\n",
       "             ('num_op_var40_ult3', 9.830610350598517e-05),\n",
       "             ('ind_var14', 9.528650685070412e-05),\n",
       "             ('num_op_var40_hace2', 8.946695952154063e-05),\n",
       "             ('num_var32_0', 8.825218210616883e-05),\n",
       "             ('ind_var13_corto', 8.286711728454084e-05),\n",
       "             ('num_var13_corto_0', 7.964038566179994e-05),\n",
       "             ('delta_imp_aport_var13_1y3', 7.634366722751182e-05),\n",
       "             ('num_var32', 7.627888733858345e-05),\n",
       "             ('num_var14', 7.375927029985532e-05),\n",
       "             ('num_var13_corto', 7.21079225740285e-05),\n",
       "             ('num_var31_0', 6.928301107082254e-05),\n",
       "             ('ind_var1', 6.796791084440554e-05),\n",
       "             ('imp_op_var40_comer_ult3', 6.551442413406394e-05),\n",
       "             ('num_aport_var17_ult1', 6.448994175258187e-05),\n",
       "             ('imp_reemb_var17_ult1', 6.432895637479026e-05),\n",
       "             ('num_reemb_var17_ult1', 6.320970527946075e-05),\n",
       "             ('saldo_var32', 6.306085847196835e-05),\n",
       "             ('ind_var32', 6.295324804606129e-05),\n",
       "             ('ind_var13_largo_0', 6.080671901937629e-05),\n",
       "             ('num_var17', 6.07521019624445e-05),\n",
       "             ('ind_var39', 5.7389014007867175e-05),\n",
       "             ('ind_var40', 5.6846797872098805e-05),\n",
       "             ('delta_num_aport_var13_1y3', 5.006476930569899e-05),\n",
       "             ('saldo_medio_var17_ult3', 4.9829118677247e-05),\n",
       "             ('num_var17_0', 4.90991893210416e-05),\n",
       "             ('ind_var19', 4.810667285743398e-05),\n",
       "             ('num_op_var40_comer_ult1', 4.787863300643935e-05),\n",
       "             ('imp_op_var40_comer_ult1', 4.458512204889378e-05),\n",
       "             ('saldo_medio_var13_corto_hace3', 4.4494766579845376e-05),\n",
       "             ('num_var13_largo_0', 4.4375902001013995e-05),\n",
       "             ('ind_var31_0', 4.1296933381238116e-05),\n",
       "             ('saldo_var13_largo', 3.777706490271845e-05),\n",
       "             ('imp_aport_var13_hace3', 3.611099959590879e-05),\n",
       "             ('num_aport_var13_hace3', 3.509904837664582e-05),\n",
       "             ('num_var1', 3.456309197855945e-05),\n",
       "             ('saldo_medio_var17_ult1', 3.411043237401356e-05),\n",
       "             ('num_var13_largo', 3.36655982976022e-05),\n",
       "             ('saldo_var31', 3.210889722702863e-05),\n",
       "             ('ind_var31', 3.0431557923744816e-05),\n",
       "             ('ind_var20_0', 2.939801435223127e-05),\n",
       "             ('ind_var32_0', 2.796124241770202e-05),\n",
       "             ('num_aport_var13_ult1', 2.6417420431605987e-05),\n",
       "             ('num_var31', 2.589114532612516e-05),\n",
       "             ('imp_compra_var44_ult1', 2.52048913126806e-05),\n",
       "             ('num_var39', 2.2617699818930402e-05),\n",
       "             ('imp_aport_var17_ult1', 2.2394954216186663e-05),\n",
       "             ('delta_num_reemb_var17_1y3', 2.159909036445396e-05),\n",
       "             ('num_var40', 2.038991618832399e-05),\n",
       "             ('num_meses_var17_ult3', 2.0309644526367554e-05),\n",
       "             ('delta_imp_reemb_var17_1y3', 1.9825865504924522e-05),\n",
       "             ('ind_var17_0', 1.9611260188094386e-05),\n",
       "             ('num_var44', 1.9290486225945645e-05),\n",
       "             ('ind_var44', 1.8572394491507333e-05),\n",
       "             ('num_var20_0', 1.7411264681043162e-05),\n",
       "             ('saldo_medio_var44_ult3', 1.7346403188369843e-05),\n",
       "             ('ind_var13_largo', 1.6982116984175688e-05),\n",
       "             ('saldo_var44', 1.3667605331209582e-05),\n",
       "             ('delta_imp_aport_var17_1y3', 1.3037330088721728e-05),\n",
       "             ('num_compra_var44_ult1', 1.2231111878391925e-05),\n",
       "             ('delta_imp_compra_var44_1y3', 1.2139913699032462e-05),\n",
       "             ('saldo_medio_var13_largo_ult1', 1.1815616967956566e-05),\n",
       "             ('saldo_var17', 1.15707076350617e-05),\n",
       "             ('ind_var17', 1.0997987535655445e-05),\n",
       "             ('saldo_medio_var13_largo_ult3', 1.0817500558877278e-05),\n",
       "             ('num_meses_var13_largo_ult3', 1.0711305090523823e-05),\n",
       "             ('delta_num_compra_var44_1y3', 1.0505752567716822e-05),\n",
       "             ('ind_var20', 9.387846721400922e-06),\n",
       "             ('num_var44_0', 8.63814316200225e-06),\n",
       "             ('ind_var44_0', 8.54455256004153e-06),\n",
       "             ('imp_aport_var33_ult1', 8.042106302056793e-06),\n",
       "             ('ind_var33_0', 7.86336004982924e-06),\n",
       "             ('imp_aport_var17_hace3', 6.8476755801913715e-06),\n",
       "             ('num_meses_var44_ult3', 6.342673820583567e-06),\n",
       "             ('imp_venta_var44_ult1', 6.255211842966756e-06),\n",
       "             ('saldo_medio_var17_hace2', 6.117840529694318e-06),\n",
       "             ('saldo_medio_var13_largo_hace2', 5.989421178196376e-06),\n",
       "             ('num_var33_0', 5.848682794410818e-06),\n",
       "             ('num_var33', 4.379515434259489e-06),\n",
       "             ('saldo_medio_var33_hace2', 4.0814025082836965e-06),\n",
       "             ('saldo_medio_var13_largo_hace3', 3.2722321679088766e-06),\n",
       "             ('num_var20', 2.96700384383422e-06),\n",
       "             ('delta_imp_aport_var33_1y3', 2.960407256102016e-06),\n",
       "             ('ind_var29_0', 2.707708950996561e-06),\n",
       "             ('delta_num_venta_var44_1y3', 2.380421357216171e-06),\n",
       "             ('num_meses_var33_ult3', 2.169677503619185e-06),\n",
       "             ('num_reemb_var13_ult1', 1.878849647781573e-06),\n",
       "             ('saldo_medio_var44_ult1', 1.7178509148506855e-06),\n",
       "             ('delta_num_trasp_var17_out_1y3', 1.2979782802640211e-06),\n",
       "             ('saldo_var20', 1.2877011009823585e-06),\n",
       "             ('delta_num_aport_var17_1y3', 1.1127477190064935e-06),\n",
       "             ('saldo_medio_var44_hace2', 1.064758518567735e-06),\n",
       "             ('delta_num_aport_var33_1y3', 9.37777858146937e-07),\n",
       "             ('imp_compra_var44_hace3', 9.13293514206719e-07),\n",
       "             ('saldo_medio_var33_hace3', 8.483674166016412e-07),\n",
       "             ('num_compra_var44_hace3', 5.750911818272496e-07),\n",
       "             ('saldo_medio_var33_ult1', 5.679856084324536e-07),\n",
       "             ('num_trasp_var33_in_ult1', 5.641060314576179e-07),\n",
       "             ('imp_reemb_var13_ult1', 5.290235263728718e-07),\n",
       "             ('imp_aport_var33_hace3', 5.16930382870704e-07),\n",
       "             ('ind_var33', 4.834921081698476e-07),\n",
       "             ('saldo_medio_var17_hace3', 4.357870781965597e-07),\n",
       "             ('delta_num_trasp_var33_in_1y3', 4.1303363507188863e-07),\n",
       "             ('saldo_var33', 2.2755885654735792e-07),\n",
       "             ('num_aport_var17_hace3', 1.7216330392456962e-07),\n",
       "             ('saldo_medio_var44_hace3', 1.2946495383184008e-07),\n",
       "             ('delta_imp_venta_var44_1y3', 1.1007465819379811e-07),\n",
       "             ('num_aport_var33_hace3', 8.987345399469874e-08),\n",
       "             ('num_op_var40_hace3', 6.875770793323644e-08),\n",
       "             ('imp_trasp_var17_out_ult1', 1.3414059204204912e-08),\n",
       "             ('num_venta_var44_ult1', 1.0905880856728475e-08),\n",
       "             ('num_var7_emit_ult1', 6.440203126054184e-09),\n",
       "             ('imp_trasp_var33_in_ult1', 6.412364319439457e-09),\n",
       "             ('imp_venta_var44_hace3', 2.505765978423139e-09),\n",
       "             ('num_venta_var44_hace3', 1.4844538675589806e-09),\n",
       "             ('ind_var2_0', 0.0),\n",
       "             ('ind_var2', 0.0),\n",
       "             ('ind_var6_0', 0.0),\n",
       "             ('ind_var6', 0.0),\n",
       "             ('ind_var13_medio_0', 0.0),\n",
       "             ('ind_var13_medio', 0.0),\n",
       "             ('ind_var18_0', 0.0),\n",
       "             ('ind_var18', 0.0),\n",
       "             ('ind_var27_0', 0.0),\n",
       "             ('ind_var28_0', 0.0),\n",
       "             ('ind_var28', 0.0),\n",
       "             ('ind_var27', 0.0),\n",
       "             ('ind_var29', 0.0),\n",
       "             ('ind_var34_0', 0.0),\n",
       "             ('ind_var34', 0.0),\n",
       "             ('ind_var41', 0.0),\n",
       "             ('ind_var46_0', 0.0),\n",
       "             ('ind_var46', 0.0),\n",
       "             ('num_var6_0', 0.0),\n",
       "             ('num_var6', 0.0),\n",
       "             ('num_var13_medio_0', 0.0),\n",
       "             ('num_var13_medio', 0.0),\n",
       "             ('num_var18_0', 0.0),\n",
       "             ('num_var18', 0.0),\n",
       "             ('num_var27_0', 0.0),\n",
       "             ('num_var28_0', 0.0),\n",
       "             ('num_var28', 0.0),\n",
       "             ('num_var27', 0.0),\n",
       "             ('num_var29_0', 0.0),\n",
       "             ('num_var29', 0.0),\n",
       "             ('num_var34_0', 0.0),\n",
       "             ('num_var34', 0.0),\n",
       "             ('num_var41', 0.0),\n",
       "             ('num_var46_0', 0.0),\n",
       "             ('num_var46', 0.0),\n",
       "             ('saldo_var6', 0.0),\n",
       "             ('saldo_var13_medio', 0.0),\n",
       "             ('saldo_var18', 0.0),\n",
       "             ('saldo_var28', 0.0),\n",
       "             ('saldo_var27', 0.0),\n",
       "             ('saldo_var29', 0.0),\n",
       "             ('saldo_var34', 0.0),\n",
       "             ('saldo_var41', 0.0),\n",
       "             ('saldo_var46', 0.0),\n",
       "             ('delta_imp_amort_var18_1y3', 0.0),\n",
       "             ('delta_imp_amort_var34_1y3', 0.0),\n",
       "             ('delta_imp_reemb_var13_1y3', 0.0),\n",
       "             ('delta_imp_reemb_var33_1y3', 0.0),\n",
       "             ('delta_imp_trasp_var17_in_1y3', 0.0),\n",
       "             ('delta_imp_trasp_var17_out_1y3', 0.0),\n",
       "             ('delta_imp_trasp_var33_in_1y3', 0.0),\n",
       "             ('delta_imp_trasp_var33_out_1y3', 0.0),\n",
       "             ('delta_num_reemb_var13_1y3', 0.0),\n",
       "             ('delta_num_reemb_var33_1y3', 0.0),\n",
       "             ('delta_num_trasp_var17_in_1y3', 0.0),\n",
       "             ('delta_num_trasp_var33_out_1y3', 0.0),\n",
       "             ('imp_amort_var18_hace3', 0.0),\n",
       "             ('imp_amort_var18_ult1', 0.0),\n",
       "             ('imp_amort_var34_hace3', 0.0),\n",
       "             ('imp_amort_var34_ult1', 0.0),\n",
       "             ('imp_var7_emit_ult1', 0.0),\n",
       "             ('imp_reemb_var13_hace3', 0.0),\n",
       "             ('imp_reemb_var17_hace3', 0.0),\n",
       "             ('imp_reemb_var33_hace3', 0.0),\n",
       "             ('imp_reemb_var33_ult1', 0.0),\n",
       "             ('imp_trasp_var17_in_hace3', 0.0),\n",
       "             ('imp_trasp_var17_in_ult1', 0.0),\n",
       "             ('imp_trasp_var17_out_hace3', 0.0),\n",
       "             ('imp_trasp_var33_in_hace3', 0.0),\n",
       "             ('imp_trasp_var33_out_hace3', 0.0),\n",
       "             ('imp_trasp_var33_out_ult1', 0.0),\n",
       "             ('ind_var7_emit_ult1', 0.0),\n",
       "             ('num_var2_0_ult1', 0.0),\n",
       "             ('num_var2_ult1', 0.0),\n",
       "             ('num_aport_var33_ult1', 0.0),\n",
       "             ('num_meses_var13_medio_ult3', 0.0),\n",
       "             ('num_meses_var29_ult3', 0.0),\n",
       "             ('num_reemb_var13_hace3', 0.0),\n",
       "             ('num_reemb_var17_hace3', 0.0),\n",
       "             ('num_reemb_var33_hace3', 0.0),\n",
       "             ('num_reemb_var33_ult1', 0.0),\n",
       "             ('num_trasp_var17_in_hace3', 0.0),\n",
       "             ('num_trasp_var17_in_ult1', 0.0),\n",
       "             ('num_trasp_var17_out_hace3', 0.0),\n",
       "             ('num_trasp_var17_out_ult1', 0.0),\n",
       "             ('num_trasp_var33_in_hace3', 0.0),\n",
       "             ('num_trasp_var33_out_hace3', 0.0),\n",
       "             ('num_trasp_var33_out_ult1', 0.0),\n",
       "             ('saldo_var2_ult1', 0.0),\n",
       "             ('saldo_medio_var13_medio_hace2', 0.0),\n",
       "             ('saldo_medio_var13_medio_hace3', 0.0),\n",
       "             ('saldo_medio_var13_medio_ult1', 0.0),\n",
       "             ('saldo_medio_var13_medio_ult3', 0.0),\n",
       "             ('saldo_medio_var29_hace2', 0.0),\n",
       "             ('saldo_medio_var29_hace3', 0.0),\n",
       "             ('saldo_medio_var29_ult1', 0.0),\n",
       "             ('saldo_medio_var29_ult3', 0.0),\n",
       "             ('saldo_medio_var33_ult3', 0.0)])"
      ]
     },
     "execution_count": 18,
     "metadata": {},
     "output_type": "execute_result"
    }
   ],
   "source": [
    "RFfeatureImpValue"
   ]
  },
  {
   "cell_type": "code",
   "execution_count": 19,
   "metadata": {
    "colab": {
     "base_uri": "https://localhost:8080/",
     "height": 0
    },
    "id": "DuVGCnW0k4Cq",
    "outputId": "602736f6-cef9-40bd-e223-e58da544d4a8"
   },
   "outputs": [
    {
     "name": "stdout",
     "output_type": "stream",
     "text": [
      "['ID', 'var38', 'var15', 'saldo_medio_var5_ult3', 'saldo_medio_var5_hace3', 'num_var45_ult3', 'num_var45_hace3', 'saldo_var30', 'saldo_medio_var5_hace2', 'num_var22_ult3', 'saldo_var42', 'num_var45_hace2', 'saldo_medio_var5_ult1', 'saldo_var5', 'num_var45_ult1', 'num_var22_hace3', 'num_med_var45_ult3', 'num_var22_hace2', 'var36', 'num_var22_ult1', 'num_meses_var39_vig_ult3', 'num_med_var22_ult3', 'num_meses_var5_ult3', 'imp_op_var41_ult1', 'num_var35']\n"
     ]
    }
   ],
   "source": [
    "# Top 25 Features\n",
    "rfcFeatureImportance25 = rfcFullFeatureImportance[:25]\n",
    "print(rfcFeatureImportance25)"
   ]
  },
  {
   "cell_type": "code",
   "execution_count": 20,
   "metadata": {
    "colab": {
     "base_uri": "https://localhost:8080/",
     "height": 0
    },
    "id": "qO56r-Ajk4HE",
    "outputId": "d5a291fe-6a74-4a7f-8ce8-a9bb17e86a1f"
   },
   "outputs": [
    {
     "name": "stdout",
     "output_type": "stream",
     "text": [
      "['ID', 'var38', 'var15', 'saldo_medio_var5_ult3', 'saldo_medio_var5_hace3', 'num_var45_ult3', 'num_var45_hace3', 'saldo_var30', 'saldo_medio_var5_hace2', 'num_var22_ult3', 'saldo_var42', 'num_var45_hace2', 'saldo_medio_var5_ult1', 'saldo_var5', 'num_var45_ult1', 'num_var22_hace3', 'num_med_var45_ult3', 'num_var22_hace2', 'var36', 'num_var22_ult1', 'num_meses_var39_vig_ult3', 'num_med_var22_ult3', 'num_meses_var5_ult3', 'imp_op_var41_ult1', 'num_var35', 'imp_op_var39_ult1', 'imp_op_var41_comer_ult3', 'imp_op_var41_efect_ult3', 'imp_op_var39_comer_ult3', 'imp_op_var39_efect_ult3', 'num_var4', 'imp_trans_var37_ult1', 'num_op_var41_ult3', 'imp_op_var41_comer_ult1', 'var3', 'imp_op_var39_comer_ult1', 'num_var30', 'num_op_var39_ult3', 'saldo_var37', 'imp_ent_var16_ult1', 'imp_op_var41_efect_ult1', 'imp_op_var39_efect_ult1', 'num_op_var39_comer_ult3', 'num_op_var41_comer_ult3', 'num_op_var39_hace2', 'num_op_var39_ult1', 'num_op_var41_ult1', 'num_op_var41_hace2', 'imp_var43_emit_ult1', 'num_op_var41_efect_ult3']\n"
     ]
    }
   ],
   "source": [
    "# Top 50 Features\n",
    "rfcFeatureImportance50 = rfcFullFeatureImportance[:50]\n",
    "print(rfcFeatureImportance50)"
   ]
  },
  {
   "cell_type": "markdown",
   "metadata": {
    "id": "6kb1UgHFlvIq"
   },
   "source": [
    "## Random Forest with top 25 Features"
   ]
  },
  {
   "cell_type": "code",
   "execution_count": 21,
   "metadata": {
    "colab": {
     "base_uri": "https://localhost:8080/",
     "height": 488
    },
    "id": "0aiQMiPyk4Km",
    "outputId": "d38b04ac-4c7c-4b98-a04e-d11f7ee8fa4d"
   },
   "outputs": [
    {
     "data": {
      "text/html": [
       "\n",
       "  <div id=\"df-bd4f21cc-249b-4948-87df-10349e0c3e37\">\n",
       "    <div class=\"colab-df-container\">\n",
       "      <div>\n",
       "<style scoped>\n",
       "    .dataframe tbody tr th:only-of-type {\n",
       "        vertical-align: middle;\n",
       "    }\n",
       "\n",
       "    .dataframe tbody tr th {\n",
       "        vertical-align: top;\n",
       "    }\n",
       "\n",
       "    .dataframe thead th {\n",
       "        text-align: right;\n",
       "    }\n",
       "</style>\n",
       "<table border=\"1\" class=\"dataframe\">\n",
       "  <thead>\n",
       "    <tr style=\"text-align: right;\">\n",
       "      <th></th>\n",
       "      <th>ID</th>\n",
       "      <th>var38</th>\n",
       "      <th>var15</th>\n",
       "      <th>saldo_medio_var5_ult3</th>\n",
       "      <th>saldo_medio_var5_hace3</th>\n",
       "      <th>num_var45_ult3</th>\n",
       "      <th>num_var45_hace3</th>\n",
       "      <th>saldo_var30</th>\n",
       "      <th>saldo_medio_var5_hace2</th>\n",
       "      <th>num_var22_ult3</th>\n",
       "      <th>...</th>\n",
       "      <th>num_var22_hace3</th>\n",
       "      <th>num_med_var45_ult3</th>\n",
       "      <th>num_var22_hace2</th>\n",
       "      <th>var36</th>\n",
       "      <th>num_var22_ult1</th>\n",
       "      <th>num_meses_var39_vig_ult3</th>\n",
       "      <th>num_med_var22_ult3</th>\n",
       "      <th>num_meses_var5_ult3</th>\n",
       "      <th>imp_op_var41_ult1</th>\n",
       "      <th>num_var35</th>\n",
       "    </tr>\n",
       "  </thead>\n",
       "  <tbody>\n",
       "    <tr>\n",
       "      <th>0</th>\n",
       "      <td>1</td>\n",
       "      <td>39205.170</td>\n",
       "      <td>23</td>\n",
       "      <td>0.00</td>\n",
       "      <td>0.00</td>\n",
       "      <td>0</td>\n",
       "      <td>0</td>\n",
       "      <td>0.00</td>\n",
       "      <td>0.00</td>\n",
       "      <td>0</td>\n",
       "      <td>...</td>\n",
       "      <td>0</td>\n",
       "      <td>0</td>\n",
       "      <td>0</td>\n",
       "      <td>99</td>\n",
       "      <td>0</td>\n",
       "      <td>2</td>\n",
       "      <td>0</td>\n",
       "      <td>0</td>\n",
       "      <td>0.0</td>\n",
       "      <td>0</td>\n",
       "    </tr>\n",
       "    <tr>\n",
       "      <th>1</th>\n",
       "      <td>3</td>\n",
       "      <td>49278.030</td>\n",
       "      <td>34</td>\n",
       "      <td>0.00</td>\n",
       "      <td>88.89</td>\n",
       "      <td>0</td>\n",
       "      <td>0</td>\n",
       "      <td>300.00</td>\n",
       "      <td>0.00</td>\n",
       "      <td>0</td>\n",
       "      <td>...</td>\n",
       "      <td>0</td>\n",
       "      <td>0</td>\n",
       "      <td>0</td>\n",
       "      <td>3</td>\n",
       "      <td>0</td>\n",
       "      <td>2</td>\n",
       "      <td>0</td>\n",
       "      <td>1</td>\n",
       "      <td>0.0</td>\n",
       "      <td>3</td>\n",
       "    </tr>\n",
       "    <tr>\n",
       "      <th>2</th>\n",
       "      <td>4</td>\n",
       "      <td>67333.770</td>\n",
       "      <td>23</td>\n",
       "      <td>2.07</td>\n",
       "      <td>0.18</td>\n",
       "      <td>0</td>\n",
       "      <td>0</td>\n",
       "      <td>3.00</td>\n",
       "      <td>3.00</td>\n",
       "      <td>0</td>\n",
       "      <td>...</td>\n",
       "      <td>0</td>\n",
       "      <td>0</td>\n",
       "      <td>0</td>\n",
       "      <td>99</td>\n",
       "      <td>0</td>\n",
       "      <td>1</td>\n",
       "      <td>0</td>\n",
       "      <td>3</td>\n",
       "      <td>0.0</td>\n",
       "      <td>3</td>\n",
       "    </tr>\n",
       "    <tr>\n",
       "      <th>3</th>\n",
       "      <td>8</td>\n",
       "      <td>64007.970</td>\n",
       "      <td>37</td>\n",
       "      <td>138.84</td>\n",
       "      <td>0.00</td>\n",
       "      <td>48</td>\n",
       "      <td>3</td>\n",
       "      <td>70.62</td>\n",
       "      <td>186.09</td>\n",
       "      <td>3</td>\n",
       "      <td>...</td>\n",
       "      <td>0</td>\n",
       "      <td>15</td>\n",
       "      <td>3</td>\n",
       "      <td>2</td>\n",
       "      <td>0</td>\n",
       "      <td>1</td>\n",
       "      <td>0</td>\n",
       "      <td>2</td>\n",
       "      <td>195.0</td>\n",
       "      <td>9</td>\n",
       "    </tr>\n",
       "    <tr>\n",
       "      <th>4</th>\n",
       "      <td>10</td>\n",
       "      <td>117310.979</td>\n",
       "      <td>39</td>\n",
       "      <td>13501.47</td>\n",
       "      <td>0.30</td>\n",
       "      <td>0</td>\n",
       "      <td>0</td>\n",
       "      <td>135003.00</td>\n",
       "      <td>3.00</td>\n",
       "      <td>9</td>\n",
       "      <td>...</td>\n",
       "      <td>0</td>\n",
       "      <td>0</td>\n",
       "      <td>3</td>\n",
       "      <td>1</td>\n",
       "      <td>6</td>\n",
       "      <td>2</td>\n",
       "      <td>3</td>\n",
       "      <td>3</td>\n",
       "      <td>0.0</td>\n",
       "      <td>3</td>\n",
       "    </tr>\n",
       "    <tr>\n",
       "      <th>...</th>\n",
       "      <td>...</td>\n",
       "      <td>...</td>\n",
       "      <td>...</td>\n",
       "      <td>...</td>\n",
       "      <td>...</td>\n",
       "      <td>...</td>\n",
       "      <td>...</td>\n",
       "      <td>...</td>\n",
       "      <td>...</td>\n",
       "      <td>...</td>\n",
       "      <td>...</td>\n",
       "      <td>...</td>\n",
       "      <td>...</td>\n",
       "      <td>...</td>\n",
       "      <td>...</td>\n",
       "      <td>...</td>\n",
       "      <td>...</td>\n",
       "      <td>...</td>\n",
       "      <td>...</td>\n",
       "      <td>...</td>\n",
       "      <td>...</td>\n",
       "    </tr>\n",
       "    <tr>\n",
       "      <th>76015</th>\n",
       "      <td>151829</td>\n",
       "      <td>60926.490</td>\n",
       "      <td>48</td>\n",
       "      <td>0.00</td>\n",
       "      <td>0.00</td>\n",
       "      <td>0</td>\n",
       "      <td>0</td>\n",
       "      <td>0.00</td>\n",
       "      <td>0.00</td>\n",
       "      <td>0</td>\n",
       "      <td>...</td>\n",
       "      <td>0</td>\n",
       "      <td>0</td>\n",
       "      <td>0</td>\n",
       "      <td>99</td>\n",
       "      <td>0</td>\n",
       "      <td>2</td>\n",
       "      <td>0</td>\n",
       "      <td>0</td>\n",
       "      <td>0.0</td>\n",
       "      <td>0</td>\n",
       "    </tr>\n",
       "    <tr>\n",
       "      <th>76016</th>\n",
       "      <td>151830</td>\n",
       "      <td>118634.520</td>\n",
       "      <td>39</td>\n",
       "      <td>0.00</td>\n",
       "      <td>0.00</td>\n",
       "      <td>48</td>\n",
       "      <td>3</td>\n",
       "      <td>48191.22</td>\n",
       "      <td>130.65</td>\n",
       "      <td>24</td>\n",
       "      <td>...</td>\n",
       "      <td>0</td>\n",
       "      <td>15</td>\n",
       "      <td>24</td>\n",
       "      <td>2</td>\n",
       "      <td>0</td>\n",
       "      <td>2</td>\n",
       "      <td>6</td>\n",
       "      <td>1</td>\n",
       "      <td>0.0</td>\n",
       "      <td>3</td>\n",
       "    </tr>\n",
       "    <tr>\n",
       "      <th>76017</th>\n",
       "      <td>151835</td>\n",
       "      <td>74028.150</td>\n",
       "      <td>23</td>\n",
       "      <td>3.00</td>\n",
       "      <td>0.00</td>\n",
       "      <td>0</td>\n",
       "      <td>0</td>\n",
       "      <td>3.00</td>\n",
       "      <td>3.00</td>\n",
       "      <td>0</td>\n",
       "      <td>...</td>\n",
       "      <td>0</td>\n",
       "      <td>0</td>\n",
       "      <td>0</td>\n",
       "      <td>99</td>\n",
       "      <td>0</td>\n",
       "      <td>1</td>\n",
       "      <td>0</td>\n",
       "      <td>2</td>\n",
       "      <td>0.0</td>\n",
       "      <td>3</td>\n",
       "    </tr>\n",
       "    <tr>\n",
       "      <th>76018</th>\n",
       "      <td>151836</td>\n",
       "      <td>84278.160</td>\n",
       "      <td>25</td>\n",
       "      <td>2.58</td>\n",
       "      <td>1.74</td>\n",
       "      <td>0</td>\n",
       "      <td>0</td>\n",
       "      <td>3.00</td>\n",
       "      <td>3.00</td>\n",
       "      <td>0</td>\n",
       "      <td>...</td>\n",
       "      <td>0</td>\n",
       "      <td>0</td>\n",
       "      <td>0</td>\n",
       "      <td>99</td>\n",
       "      <td>0</td>\n",
       "      <td>2</td>\n",
       "      <td>0</td>\n",
       "      <td>3</td>\n",
       "      <td>0.0</td>\n",
       "      <td>3</td>\n",
       "    </tr>\n",
       "    <tr>\n",
       "      <th>76019</th>\n",
       "      <td>151838</td>\n",
       "      <td>117310.979</td>\n",
       "      <td>46</td>\n",
       "      <td>0.00</td>\n",
       "      <td>0.00</td>\n",
       "      <td>0</td>\n",
       "      <td>0</td>\n",
       "      <td>0.00</td>\n",
       "      <td>0.00</td>\n",
       "      <td>0</td>\n",
       "      <td>...</td>\n",
       "      <td>0</td>\n",
       "      <td>0</td>\n",
       "      <td>0</td>\n",
       "      <td>99</td>\n",
       "      <td>0</td>\n",
       "      <td>2</td>\n",
       "      <td>0</td>\n",
       "      <td>0</td>\n",
       "      <td>0.0</td>\n",
       "      <td>0</td>\n",
       "    </tr>\n",
       "  </tbody>\n",
       "</table>\n",
       "<p>76020 rows × 25 columns</p>\n",
       "</div>\n",
       "      <button class=\"colab-df-convert\" onclick=\"convertToInteractive('df-bd4f21cc-249b-4948-87df-10349e0c3e37')\"\n",
       "              title=\"Convert this dataframe to an interactive table.\"\n",
       "              style=\"display:none;\">\n",
       "        \n",
       "  <svg xmlns=\"http://www.w3.org/2000/svg\" height=\"24px\"viewBox=\"0 0 24 24\"\n",
       "       width=\"24px\">\n",
       "    <path d=\"M0 0h24v24H0V0z\" fill=\"none\"/>\n",
       "    <path d=\"M18.56 5.44l.94 2.06.94-2.06 2.06-.94-2.06-.94-.94-2.06-.94 2.06-2.06.94zm-11 1L8.5 8.5l.94-2.06 2.06-.94-2.06-.94L8.5 2.5l-.94 2.06-2.06.94zm10 10l.94 2.06.94-2.06 2.06-.94-2.06-.94-.94-2.06-.94 2.06-2.06.94z\"/><path d=\"M17.41 7.96l-1.37-1.37c-.4-.4-.92-.59-1.43-.59-.52 0-1.04.2-1.43.59L10.3 9.45l-7.72 7.72c-.78.78-.78 2.05 0 2.83L4 21.41c.39.39.9.59 1.41.59.51 0 1.02-.2 1.41-.59l7.78-7.78 2.81-2.81c.8-.78.8-2.07 0-2.86zM5.41 20L4 18.59l7.72-7.72 1.47 1.35L5.41 20z\"/>\n",
       "  </svg>\n",
       "      </button>\n",
       "      \n",
       "  <style>\n",
       "    .colab-df-container {\n",
       "      display:flex;\n",
       "      flex-wrap:wrap;\n",
       "      gap: 12px;\n",
       "    }\n",
       "\n",
       "    .colab-df-convert {\n",
       "      background-color: #E8F0FE;\n",
       "      border: none;\n",
       "      border-radius: 50%;\n",
       "      cursor: pointer;\n",
       "      display: none;\n",
       "      fill: #1967D2;\n",
       "      height: 32px;\n",
       "      padding: 0 0 0 0;\n",
       "      width: 32px;\n",
       "    }\n",
       "\n",
       "    .colab-df-convert:hover {\n",
       "      background-color: #E2EBFA;\n",
       "      box-shadow: 0px 1px 2px rgba(60, 64, 67, 0.3), 0px 1px 3px 1px rgba(60, 64, 67, 0.15);\n",
       "      fill: #174EA6;\n",
       "    }\n",
       "\n",
       "    [theme=dark] .colab-df-convert {\n",
       "      background-color: #3B4455;\n",
       "      fill: #D2E3FC;\n",
       "    }\n",
       "\n",
       "    [theme=dark] .colab-df-convert:hover {\n",
       "      background-color: #434B5C;\n",
       "      box-shadow: 0px 1px 3px 1px rgba(0, 0, 0, 0.15);\n",
       "      filter: drop-shadow(0px 1px 2px rgba(0, 0, 0, 0.3));\n",
       "      fill: #FFFFFF;\n",
       "    }\n",
       "  </style>\n",
       "\n",
       "      <script>\n",
       "        const buttonEl =\n",
       "          document.querySelector('#df-bd4f21cc-249b-4948-87df-10349e0c3e37 button.colab-df-convert');\n",
       "        buttonEl.style.display =\n",
       "          google.colab.kernel.accessAllowed ? 'block' : 'none';\n",
       "\n",
       "        async function convertToInteractive(key) {\n",
       "          const element = document.querySelector('#df-bd4f21cc-249b-4948-87df-10349e0c3e37');\n",
       "          const dataTable =\n",
       "            await google.colab.kernel.invokeFunction('convertToInteractive',\n",
       "                                                     [key], {});\n",
       "          if (!dataTable) return;\n",
       "\n",
       "          const docLinkHtml = 'Like what you see? Visit the ' +\n",
       "            '<a target=\"_blank\" href=https://colab.research.google.com/notebooks/data_table.ipynb>data table notebook</a>'\n",
       "            + ' to learn more about interactive tables.';\n",
       "          element.innerHTML = '';\n",
       "          dataTable['output_type'] = 'display_data';\n",
       "          await google.colab.output.renderOutput(dataTable, element);\n",
       "          const docLink = document.createElement('div');\n",
       "          docLink.innerHTML = docLinkHtml;\n",
       "          element.appendChild(docLink);\n",
       "        }\n",
       "      </script>\n",
       "    </div>\n",
       "  </div>\n",
       "  "
      ],
      "text/plain": [
       "           ID       var38  var15  saldo_medio_var5_ult3  \\\n",
       "0           1   39205.170     23                   0.00   \n",
       "1           3   49278.030     34                   0.00   \n",
       "2           4   67333.770     23                   2.07   \n",
       "3           8   64007.970     37                 138.84   \n",
       "4          10  117310.979     39               13501.47   \n",
       "...       ...         ...    ...                    ...   \n",
       "76015  151829   60926.490     48                   0.00   \n",
       "76016  151830  118634.520     39                   0.00   \n",
       "76017  151835   74028.150     23                   3.00   \n",
       "76018  151836   84278.160     25                   2.58   \n",
       "76019  151838  117310.979     46                   0.00   \n",
       "\n",
       "       saldo_medio_var5_hace3  num_var45_ult3  num_var45_hace3  saldo_var30  \\\n",
       "0                        0.00               0                0         0.00   \n",
       "1                       88.89               0                0       300.00   \n",
       "2                        0.18               0                0         3.00   \n",
       "3                        0.00              48                3        70.62   \n",
       "4                        0.30               0                0    135003.00   \n",
       "...                       ...             ...              ...          ...   \n",
       "76015                    0.00               0                0         0.00   \n",
       "76016                    0.00              48                3     48191.22   \n",
       "76017                    0.00               0                0         3.00   \n",
       "76018                    1.74               0                0         3.00   \n",
       "76019                    0.00               0                0         0.00   \n",
       "\n",
       "       saldo_medio_var5_hace2  num_var22_ult3  ...  num_var22_hace3  \\\n",
       "0                        0.00               0  ...                0   \n",
       "1                        0.00               0  ...                0   \n",
       "2                        3.00               0  ...                0   \n",
       "3                      186.09               3  ...                0   \n",
       "4                        3.00               9  ...                0   \n",
       "...                       ...             ...  ...              ...   \n",
       "76015                    0.00               0  ...                0   \n",
       "76016                  130.65              24  ...                0   \n",
       "76017                    3.00               0  ...                0   \n",
       "76018                    3.00               0  ...                0   \n",
       "76019                    0.00               0  ...                0   \n",
       "\n",
       "       num_med_var45_ult3  num_var22_hace2  var36  num_var22_ult1  \\\n",
       "0                       0                0     99               0   \n",
       "1                       0                0      3               0   \n",
       "2                       0                0     99               0   \n",
       "3                      15                3      2               0   \n",
       "4                       0                3      1               6   \n",
       "...                   ...              ...    ...             ...   \n",
       "76015                   0                0     99               0   \n",
       "76016                  15               24      2               0   \n",
       "76017                   0                0     99               0   \n",
       "76018                   0                0     99               0   \n",
       "76019                   0                0     99               0   \n",
       "\n",
       "       num_meses_var39_vig_ult3  num_med_var22_ult3  num_meses_var5_ult3  \\\n",
       "0                             2                   0                    0   \n",
       "1                             2                   0                    1   \n",
       "2                             1                   0                    3   \n",
       "3                             1                   0                    2   \n",
       "4                             2                   3                    3   \n",
       "...                         ...                 ...                  ...   \n",
       "76015                         2                   0                    0   \n",
       "76016                         2                   6                    1   \n",
       "76017                         1                   0                    2   \n",
       "76018                         2                   0                    3   \n",
       "76019                         2                   0                    0   \n",
       "\n",
       "       imp_op_var41_ult1  num_var35  \n",
       "0                    0.0          0  \n",
       "1                    0.0          3  \n",
       "2                    0.0          3  \n",
       "3                  195.0          9  \n",
       "4                    0.0          3  \n",
       "...                  ...        ...  \n",
       "76015                0.0          0  \n",
       "76016                0.0          3  \n",
       "76017                0.0          3  \n",
       "76018                0.0          3  \n",
       "76019                0.0          0  \n",
       "\n",
       "[76020 rows x 25 columns]"
      ]
     },
     "execution_count": 21,
     "metadata": {},
     "output_type": "execute_result"
    }
   ],
   "source": [
    "rfk25_train = pd.DataFrame()\n",
    "for i in rfcFeatureImportance25:\n",
    "  rfk25_train[i] = df_train[i]\n",
    "rfk25_train"
   ]
  },
  {
   "cell_type": "code",
   "execution_count": 22,
   "metadata": {
    "id": "Ok7VdByFk4VS"
   },
   "outputs": [],
   "source": [
    "RF25_X_train, RF25_X_test, RF25_Y_train, RF25_Y_test = train_test_split(rfk25_train, y_train, test_size=0.33, random_state=42)"
   ]
  },
  {
   "cell_type": "code",
   "execution_count": 23,
   "metadata": {
    "colab": {
     "base_uri": "https://localhost:8080/",
     "height": 0
    },
    "id": "q-OCwPc9k4Yn",
    "outputId": "e146a8a6-379c-45ec-f75f-c2ac629b2263"
   },
   "outputs": [
    {
     "name": "stdout",
     "output_type": "stream",
     "text": [
      "gen\tnevals\tfitness \tfitness_std\tfitness_max\tfitness_min\n",
      "0  \t20    \t0.960399\t0          \t0.960399   \t0.960399   \n",
      "1  \t40    \t0.960399\t0          \t0.960399   \t0.960399   \n",
      "2  \t40    \t0.960399\t0          \t0.960399   \t0.960399   \n",
      "Best Parameters: {'min_weight_fraction_leaf': 0.040629958355022186, 'bootstrap': True, 'max_depth': 17, 'max_leaf_nodes': 21, 'n_estimators': 300}\n"
     ]
    }
   ],
   "source": [
    "evolved_estimator.fit(RF25_X_train, RF25_Y_train)\n",
    "print('Best Parameters:',evolved_estimator.best_params_)"
   ]
  },
  {
   "cell_type": "code",
   "execution_count": 24,
   "metadata": {
    "colab": {
     "base_uri": "https://localhost:8080/",
     "height": 0
    },
    "id": "_tHy8WHytwRR",
    "outputId": "dbf54673-1685-4feb-f5b5-acab1012525a"
   },
   "outputs": [
    {
     "name": "stdout",
     "output_type": "stream",
     "text": [
      "Stats achieved in each generation:  {'gen': [0, 1, 2], 'fitness': [0.9603989558455023, 0.9603989558455023, 0.9603989558455023], 'fitness_std': [0.0, 0.0, 0.0], 'fitness_max': [0.9603989558455023, 0.9603989558455023, 0.9603989558455023], 'fitness_min': [0.9603989558455023, 0.9603989558455023, 0.9603989558455023]}\n",
      "Best k solutions:  {0: {'min_weight_fraction_leaf': 0.040629958355022186, 'bootstrap': True, 'max_depth': 17, 'max_leaf_nodes': 21, 'n_estimators': 300}}\n"
     ]
    }
   ],
   "source": [
    "print(\"Stats achieved in each generation: \", evolved_estimator.history)\n",
    "print(\"Best k solutions: \", evolved_estimator.hof)"
   ]
  },
  {
   "cell_type": "code",
   "execution_count": 25,
   "metadata": {
    "colab": {
     "base_uri": "https://localhost:8080/",
     "height": 0
    },
    "id": "BMG_dQPak4dB",
    "outputId": "77eedf05-d4ec-4989-83ca-dbdc1dead55c"
   },
   "outputs": [
    {
     "data": {
      "text/plain": [
       "{'min_weight_fraction_leaf': 0.040629958355022186,\n",
       " 'bootstrap': True,\n",
       " 'max_depth': 17,\n",
       " 'max_leaf_nodes': 21,\n",
       " 'n_estimators': 300}"
      ]
     },
     "execution_count": 25,
     "metadata": {},
     "output_type": "execute_result"
    }
   ],
   "source": [
    "rfk25_bestParams = evolved_estimator.best_params_\n",
    "rfk25_bestParams"
   ]
  },
  {
   "cell_type": "code",
   "execution_count": 26,
   "metadata": {
    "id": "OHOMwcU9k4g5"
   },
   "outputs": [],
   "source": [
    "rfk25 = RandomForestClassifier(**rfk25_bestParams)"
   ]
  },
  {
   "cell_type": "code",
   "execution_count": 27,
   "metadata": {
    "colab": {
     "base_uri": "https://localhost:8080/",
     "height": 0
    },
    "id": "Cq-3vX4yk4lW",
    "outputId": "f83d0490-c0d6-4463-ff08-8b1c82a7de4c"
   },
   "outputs": [
    {
     "data": {
      "text/plain": [
       "RandomForestClassifier(max_depth=17, max_leaf_nodes=21,\n",
       "                       min_weight_fraction_leaf=0.040629958355022186,\n",
       "                       n_estimators=300)"
      ]
     },
     "execution_count": 27,
     "metadata": {},
     "output_type": "execute_result"
    }
   ],
   "source": [
    "rfk25.fit(RF25_X_train, RF25_Y_train)"
   ]
  },
  {
   "cell_type": "code",
   "execution_count": 28,
   "metadata": {
    "colab": {
     "base_uri": "https://localhost:8080/",
     "height": 0
    },
    "id": "rYktzlQyPNuR",
    "outputId": "b783ceaf-a9ff-4a0d-f344-93c38b125c78"
   },
   "outputs": [
    {
     "name": "stdout",
     "output_type": "stream",
     "text": [
      "0.9603989554905464\n"
     ]
    }
   ],
   "source": [
    "# Train Accuracy\n",
    "\n",
    "RF25_X_Pred = rfk25.predict(RF25_X_train)\n",
    "print(accuracy_score(RF25_Y_train, RF25_X_Pred))"
   ]
  },
  {
   "cell_type": "code",
   "execution_count": 29,
   "metadata": {
    "colab": {
     "base_uri": "https://localhost:8080/",
     "height": 0
    },
    "id": "MD_5yuqek4pk",
    "outputId": "a078cb00-23a9-4e7c-fc81-12a4e4a3461f"
   },
   "outputs": [
    {
     "name": "stdout",
     "output_type": "stream",
     "text": [
      "0.9604974688085463\n"
     ]
    }
   ],
   "source": [
    "# Test Accuracy\n",
    "\n",
    "RF25_Y_Pred = rfk25.predict(RF25_X_test)\n",
    "print(accuracy_score(RF25_Y_test, RF25_Y_Pred))"
   ]
  },
  {
   "cell_type": "markdown",
   "metadata": {
    "id": "UHenAe3PoNNZ"
   },
   "source": [
    "## Random Forest with top 50 Features"
   ]
  },
  {
   "cell_type": "code",
   "execution_count": 30,
   "metadata": {
    "colab": {
     "base_uri": "https://localhost:8080/",
     "height": 488
    },
    "id": "xkE6t7HMoRxV",
    "outputId": "67e378cb-691e-4f4b-ae80-97f1e2a9bbbf"
   },
   "outputs": [
    {
     "data": {
      "text/html": [
       "\n",
       "  <div id=\"df-4575613f-bddb-4645-a0c3-e38056812fcc\">\n",
       "    <div class=\"colab-df-container\">\n",
       "      <div>\n",
       "<style scoped>\n",
       "    .dataframe tbody tr th:only-of-type {\n",
       "        vertical-align: middle;\n",
       "    }\n",
       "\n",
       "    .dataframe tbody tr th {\n",
       "        vertical-align: top;\n",
       "    }\n",
       "\n",
       "    .dataframe thead th {\n",
       "        text-align: right;\n",
       "    }\n",
       "</style>\n",
       "<table border=\"1\" class=\"dataframe\">\n",
       "  <thead>\n",
       "    <tr style=\"text-align: right;\">\n",
       "      <th></th>\n",
       "      <th>ID</th>\n",
       "      <th>var38</th>\n",
       "      <th>var15</th>\n",
       "      <th>saldo_medio_var5_ult3</th>\n",
       "      <th>saldo_medio_var5_hace3</th>\n",
       "      <th>num_var45_ult3</th>\n",
       "      <th>num_var45_hace3</th>\n",
       "      <th>saldo_var30</th>\n",
       "      <th>saldo_medio_var5_hace2</th>\n",
       "      <th>num_var22_ult3</th>\n",
       "      <th>...</th>\n",
       "      <th>imp_op_var41_efect_ult1</th>\n",
       "      <th>imp_op_var39_efect_ult1</th>\n",
       "      <th>num_op_var39_comer_ult3</th>\n",
       "      <th>num_op_var41_comer_ult3</th>\n",
       "      <th>num_op_var39_hace2</th>\n",
       "      <th>num_op_var39_ult1</th>\n",
       "      <th>num_op_var41_ult1</th>\n",
       "      <th>num_op_var41_hace2</th>\n",
       "      <th>imp_var43_emit_ult1</th>\n",
       "      <th>num_op_var41_efect_ult3</th>\n",
       "    </tr>\n",
       "  </thead>\n",
       "  <tbody>\n",
       "    <tr>\n",
       "      <th>0</th>\n",
       "      <td>1</td>\n",
       "      <td>39205.170</td>\n",
       "      <td>23</td>\n",
       "      <td>0.00</td>\n",
       "      <td>0.00</td>\n",
       "      <td>0</td>\n",
       "      <td>0</td>\n",
       "      <td>0.00</td>\n",
       "      <td>0.00</td>\n",
       "      <td>0</td>\n",
       "      <td>...</td>\n",
       "      <td>0.0</td>\n",
       "      <td>0.0</td>\n",
       "      <td>0</td>\n",
       "      <td>0</td>\n",
       "      <td>0</td>\n",
       "      <td>0</td>\n",
       "      <td>0</td>\n",
       "      <td>0</td>\n",
       "      <td>0.0</td>\n",
       "      <td>0</td>\n",
       "    </tr>\n",
       "    <tr>\n",
       "      <th>1</th>\n",
       "      <td>3</td>\n",
       "      <td>49278.030</td>\n",
       "      <td>34</td>\n",
       "      <td>0.00</td>\n",
       "      <td>88.89</td>\n",
       "      <td>0</td>\n",
       "      <td>0</td>\n",
       "      <td>300.00</td>\n",
       "      <td>0.00</td>\n",
       "      <td>0</td>\n",
       "      <td>...</td>\n",
       "      <td>0.0</td>\n",
       "      <td>0.0</td>\n",
       "      <td>0</td>\n",
       "      <td>0</td>\n",
       "      <td>0</td>\n",
       "      <td>0</td>\n",
       "      <td>0</td>\n",
       "      <td>0</td>\n",
       "      <td>0.0</td>\n",
       "      <td>0</td>\n",
       "    </tr>\n",
       "    <tr>\n",
       "      <th>2</th>\n",
       "      <td>4</td>\n",
       "      <td>67333.770</td>\n",
       "      <td>23</td>\n",
       "      <td>2.07</td>\n",
       "      <td>0.18</td>\n",
       "      <td>0</td>\n",
       "      <td>0</td>\n",
       "      <td>3.00</td>\n",
       "      <td>3.00</td>\n",
       "      <td>0</td>\n",
       "      <td>...</td>\n",
       "      <td>0.0</td>\n",
       "      <td>0.0</td>\n",
       "      <td>0</td>\n",
       "      <td>0</td>\n",
       "      <td>0</td>\n",
       "      <td>0</td>\n",
       "      <td>0</td>\n",
       "      <td>0</td>\n",
       "      <td>0.0</td>\n",
       "      <td>0</td>\n",
       "    </tr>\n",
       "    <tr>\n",
       "      <th>3</th>\n",
       "      <td>8</td>\n",
       "      <td>64007.970</td>\n",
       "      <td>37</td>\n",
       "      <td>138.84</td>\n",
       "      <td>0.00</td>\n",
       "      <td>48</td>\n",
       "      <td>3</td>\n",
       "      <td>70.62</td>\n",
       "      <td>186.09</td>\n",
       "      <td>3</td>\n",
       "      <td>...</td>\n",
       "      <td>0.0</td>\n",
       "      <td>0.0</td>\n",
       "      <td>9</td>\n",
       "      <td>9</td>\n",
       "      <td>0</td>\n",
       "      <td>9</td>\n",
       "      <td>9</td>\n",
       "      <td>0</td>\n",
       "      <td>0.0</td>\n",
       "      <td>0</td>\n",
       "    </tr>\n",
       "    <tr>\n",
       "      <th>4</th>\n",
       "      <td>10</td>\n",
       "      <td>117310.979</td>\n",
       "      <td>39</td>\n",
       "      <td>13501.47</td>\n",
       "      <td>0.30</td>\n",
       "      <td>0</td>\n",
       "      <td>0</td>\n",
       "      <td>135003.00</td>\n",
       "      <td>3.00</td>\n",
       "      <td>9</td>\n",
       "      <td>...</td>\n",
       "      <td>0.0</td>\n",
       "      <td>0.0</td>\n",
       "      <td>0</td>\n",
       "      <td>0</td>\n",
       "      <td>0</td>\n",
       "      <td>0</td>\n",
       "      <td>0</td>\n",
       "      <td>0</td>\n",
       "      <td>135003.0</td>\n",
       "      <td>0</td>\n",
       "    </tr>\n",
       "    <tr>\n",
       "      <th>...</th>\n",
       "      <td>...</td>\n",
       "      <td>...</td>\n",
       "      <td>...</td>\n",
       "      <td>...</td>\n",
       "      <td>...</td>\n",
       "      <td>...</td>\n",
       "      <td>...</td>\n",
       "      <td>...</td>\n",
       "      <td>...</td>\n",
       "      <td>...</td>\n",
       "      <td>...</td>\n",
       "      <td>...</td>\n",
       "      <td>...</td>\n",
       "      <td>...</td>\n",
       "      <td>...</td>\n",
       "      <td>...</td>\n",
       "      <td>...</td>\n",
       "      <td>...</td>\n",
       "      <td>...</td>\n",
       "      <td>...</td>\n",
       "      <td>...</td>\n",
       "    </tr>\n",
       "    <tr>\n",
       "      <th>76015</th>\n",
       "      <td>151829</td>\n",
       "      <td>60926.490</td>\n",
       "      <td>48</td>\n",
       "      <td>0.00</td>\n",
       "      <td>0.00</td>\n",
       "      <td>0</td>\n",
       "      <td>0</td>\n",
       "      <td>0.00</td>\n",
       "      <td>0.00</td>\n",
       "      <td>0</td>\n",
       "      <td>...</td>\n",
       "      <td>0.0</td>\n",
       "      <td>0.0</td>\n",
       "      <td>0</td>\n",
       "      <td>0</td>\n",
       "      <td>0</td>\n",
       "      <td>0</td>\n",
       "      <td>0</td>\n",
       "      <td>0</td>\n",
       "      <td>0.0</td>\n",
       "      <td>0</td>\n",
       "    </tr>\n",
       "    <tr>\n",
       "      <th>76016</th>\n",
       "      <td>151830</td>\n",
       "      <td>118634.520</td>\n",
       "      <td>39</td>\n",
       "      <td>0.00</td>\n",
       "      <td>0.00</td>\n",
       "      <td>48</td>\n",
       "      <td>3</td>\n",
       "      <td>48191.22</td>\n",
       "      <td>130.65</td>\n",
       "      <td>24</td>\n",
       "      <td>...</td>\n",
       "      <td>0.0</td>\n",
       "      <td>0.0</td>\n",
       "      <td>0</td>\n",
       "      <td>0</td>\n",
       "      <td>0</td>\n",
       "      <td>0</td>\n",
       "      <td>0</td>\n",
       "      <td>0</td>\n",
       "      <td>0.0</td>\n",
       "      <td>0</td>\n",
       "    </tr>\n",
       "    <tr>\n",
       "      <th>76017</th>\n",
       "      <td>151835</td>\n",
       "      <td>74028.150</td>\n",
       "      <td>23</td>\n",
       "      <td>3.00</td>\n",
       "      <td>0.00</td>\n",
       "      <td>0</td>\n",
       "      <td>0</td>\n",
       "      <td>3.00</td>\n",
       "      <td>3.00</td>\n",
       "      <td>0</td>\n",
       "      <td>...</td>\n",
       "      <td>0.0</td>\n",
       "      <td>0.0</td>\n",
       "      <td>0</td>\n",
       "      <td>0</td>\n",
       "      <td>0</td>\n",
       "      <td>0</td>\n",
       "      <td>0</td>\n",
       "      <td>0</td>\n",
       "      <td>0.0</td>\n",
       "      <td>0</td>\n",
       "    </tr>\n",
       "    <tr>\n",
       "      <th>76018</th>\n",
       "      <td>151836</td>\n",
       "      <td>84278.160</td>\n",
       "      <td>25</td>\n",
       "      <td>2.58</td>\n",
       "      <td>1.74</td>\n",
       "      <td>0</td>\n",
       "      <td>0</td>\n",
       "      <td>3.00</td>\n",
       "      <td>3.00</td>\n",
       "      <td>0</td>\n",
       "      <td>...</td>\n",
       "      <td>0.0</td>\n",
       "      <td>0.0</td>\n",
       "      <td>0</td>\n",
       "      <td>0</td>\n",
       "      <td>0</td>\n",
       "      <td>0</td>\n",
       "      <td>0</td>\n",
       "      <td>0</td>\n",
       "      <td>0.0</td>\n",
       "      <td>0</td>\n",
       "    </tr>\n",
       "    <tr>\n",
       "      <th>76019</th>\n",
       "      <td>151838</td>\n",
       "      <td>117310.979</td>\n",
       "      <td>46</td>\n",
       "      <td>0.00</td>\n",
       "      <td>0.00</td>\n",
       "      <td>0</td>\n",
       "      <td>0</td>\n",
       "      <td>0.00</td>\n",
       "      <td>0.00</td>\n",
       "      <td>0</td>\n",
       "      <td>...</td>\n",
       "      <td>0.0</td>\n",
       "      <td>0.0</td>\n",
       "      <td>0</td>\n",
       "      <td>0</td>\n",
       "      <td>0</td>\n",
       "      <td>0</td>\n",
       "      <td>0</td>\n",
       "      <td>0</td>\n",
       "      <td>0.0</td>\n",
       "      <td>0</td>\n",
       "    </tr>\n",
       "  </tbody>\n",
       "</table>\n",
       "<p>76020 rows × 50 columns</p>\n",
       "</div>\n",
       "      <button class=\"colab-df-convert\" onclick=\"convertToInteractive('df-4575613f-bddb-4645-a0c3-e38056812fcc')\"\n",
       "              title=\"Convert this dataframe to an interactive table.\"\n",
       "              style=\"display:none;\">\n",
       "        \n",
       "  <svg xmlns=\"http://www.w3.org/2000/svg\" height=\"24px\"viewBox=\"0 0 24 24\"\n",
       "       width=\"24px\">\n",
       "    <path d=\"M0 0h24v24H0V0z\" fill=\"none\"/>\n",
       "    <path d=\"M18.56 5.44l.94 2.06.94-2.06 2.06-.94-2.06-.94-.94-2.06-.94 2.06-2.06.94zm-11 1L8.5 8.5l.94-2.06 2.06-.94-2.06-.94L8.5 2.5l-.94 2.06-2.06.94zm10 10l.94 2.06.94-2.06 2.06-.94-2.06-.94-.94-2.06-.94 2.06-2.06.94z\"/><path d=\"M17.41 7.96l-1.37-1.37c-.4-.4-.92-.59-1.43-.59-.52 0-1.04.2-1.43.59L10.3 9.45l-7.72 7.72c-.78.78-.78 2.05 0 2.83L4 21.41c.39.39.9.59 1.41.59.51 0 1.02-.2 1.41-.59l7.78-7.78 2.81-2.81c.8-.78.8-2.07 0-2.86zM5.41 20L4 18.59l7.72-7.72 1.47 1.35L5.41 20z\"/>\n",
       "  </svg>\n",
       "      </button>\n",
       "      \n",
       "  <style>\n",
       "    .colab-df-container {\n",
       "      display:flex;\n",
       "      flex-wrap:wrap;\n",
       "      gap: 12px;\n",
       "    }\n",
       "\n",
       "    .colab-df-convert {\n",
       "      background-color: #E8F0FE;\n",
       "      border: none;\n",
       "      border-radius: 50%;\n",
       "      cursor: pointer;\n",
       "      display: none;\n",
       "      fill: #1967D2;\n",
       "      height: 32px;\n",
       "      padding: 0 0 0 0;\n",
       "      width: 32px;\n",
       "    }\n",
       "\n",
       "    .colab-df-convert:hover {\n",
       "      background-color: #E2EBFA;\n",
       "      box-shadow: 0px 1px 2px rgba(60, 64, 67, 0.3), 0px 1px 3px 1px rgba(60, 64, 67, 0.15);\n",
       "      fill: #174EA6;\n",
       "    }\n",
       "\n",
       "    [theme=dark] .colab-df-convert {\n",
       "      background-color: #3B4455;\n",
       "      fill: #D2E3FC;\n",
       "    }\n",
       "\n",
       "    [theme=dark] .colab-df-convert:hover {\n",
       "      background-color: #434B5C;\n",
       "      box-shadow: 0px 1px 3px 1px rgba(0, 0, 0, 0.15);\n",
       "      filter: drop-shadow(0px 1px 2px rgba(0, 0, 0, 0.3));\n",
       "      fill: #FFFFFF;\n",
       "    }\n",
       "  </style>\n",
       "\n",
       "      <script>\n",
       "        const buttonEl =\n",
       "          document.querySelector('#df-4575613f-bddb-4645-a0c3-e38056812fcc button.colab-df-convert');\n",
       "        buttonEl.style.display =\n",
       "          google.colab.kernel.accessAllowed ? 'block' : 'none';\n",
       "\n",
       "        async function convertToInteractive(key) {\n",
       "          const element = document.querySelector('#df-4575613f-bddb-4645-a0c3-e38056812fcc');\n",
       "          const dataTable =\n",
       "            await google.colab.kernel.invokeFunction('convertToInteractive',\n",
       "                                                     [key], {});\n",
       "          if (!dataTable) return;\n",
       "\n",
       "          const docLinkHtml = 'Like what you see? Visit the ' +\n",
       "            '<a target=\"_blank\" href=https://colab.research.google.com/notebooks/data_table.ipynb>data table notebook</a>'\n",
       "            + ' to learn more about interactive tables.';\n",
       "          element.innerHTML = '';\n",
       "          dataTable['output_type'] = 'display_data';\n",
       "          await google.colab.output.renderOutput(dataTable, element);\n",
       "          const docLink = document.createElement('div');\n",
       "          docLink.innerHTML = docLinkHtml;\n",
       "          element.appendChild(docLink);\n",
       "        }\n",
       "      </script>\n",
       "    </div>\n",
       "  </div>\n",
       "  "
      ],
      "text/plain": [
       "           ID       var38  var15  saldo_medio_var5_ult3  \\\n",
       "0           1   39205.170     23                   0.00   \n",
       "1           3   49278.030     34                   0.00   \n",
       "2           4   67333.770     23                   2.07   \n",
       "3           8   64007.970     37                 138.84   \n",
       "4          10  117310.979     39               13501.47   \n",
       "...       ...         ...    ...                    ...   \n",
       "76015  151829   60926.490     48                   0.00   \n",
       "76016  151830  118634.520     39                   0.00   \n",
       "76017  151835   74028.150     23                   3.00   \n",
       "76018  151836   84278.160     25                   2.58   \n",
       "76019  151838  117310.979     46                   0.00   \n",
       "\n",
       "       saldo_medio_var5_hace3  num_var45_ult3  num_var45_hace3  saldo_var30  \\\n",
       "0                        0.00               0                0         0.00   \n",
       "1                       88.89               0                0       300.00   \n",
       "2                        0.18               0                0         3.00   \n",
       "3                        0.00              48                3        70.62   \n",
       "4                        0.30               0                0    135003.00   \n",
       "...                       ...             ...              ...          ...   \n",
       "76015                    0.00               0                0         0.00   \n",
       "76016                    0.00              48                3     48191.22   \n",
       "76017                    0.00               0                0         3.00   \n",
       "76018                    1.74               0                0         3.00   \n",
       "76019                    0.00               0                0         0.00   \n",
       "\n",
       "       saldo_medio_var5_hace2  num_var22_ult3  ...  imp_op_var41_efect_ult1  \\\n",
       "0                        0.00               0  ...                      0.0   \n",
       "1                        0.00               0  ...                      0.0   \n",
       "2                        3.00               0  ...                      0.0   \n",
       "3                      186.09               3  ...                      0.0   \n",
       "4                        3.00               9  ...                      0.0   \n",
       "...                       ...             ...  ...                      ...   \n",
       "76015                    0.00               0  ...                      0.0   \n",
       "76016                  130.65              24  ...                      0.0   \n",
       "76017                    3.00               0  ...                      0.0   \n",
       "76018                    3.00               0  ...                      0.0   \n",
       "76019                    0.00               0  ...                      0.0   \n",
       "\n",
       "       imp_op_var39_efect_ult1  num_op_var39_comer_ult3  \\\n",
       "0                          0.0                        0   \n",
       "1                          0.0                        0   \n",
       "2                          0.0                        0   \n",
       "3                          0.0                        9   \n",
       "4                          0.0                        0   \n",
       "...                        ...                      ...   \n",
       "76015                      0.0                        0   \n",
       "76016                      0.0                        0   \n",
       "76017                      0.0                        0   \n",
       "76018                      0.0                        0   \n",
       "76019                      0.0                        0   \n",
       "\n",
       "       num_op_var41_comer_ult3  num_op_var39_hace2  num_op_var39_ult1  \\\n",
       "0                            0                   0                  0   \n",
       "1                            0                   0                  0   \n",
       "2                            0                   0                  0   \n",
       "3                            9                   0                  9   \n",
       "4                            0                   0                  0   \n",
       "...                        ...                 ...                ...   \n",
       "76015                        0                   0                  0   \n",
       "76016                        0                   0                  0   \n",
       "76017                        0                   0                  0   \n",
       "76018                        0                   0                  0   \n",
       "76019                        0                   0                  0   \n",
       "\n",
       "       num_op_var41_ult1  num_op_var41_hace2  imp_var43_emit_ult1  \\\n",
       "0                      0                   0                  0.0   \n",
       "1                      0                   0                  0.0   \n",
       "2                      0                   0                  0.0   \n",
       "3                      9                   0                  0.0   \n",
       "4                      0                   0             135003.0   \n",
       "...                  ...                 ...                  ...   \n",
       "76015                  0                   0                  0.0   \n",
       "76016                  0                   0                  0.0   \n",
       "76017                  0                   0                  0.0   \n",
       "76018                  0                   0                  0.0   \n",
       "76019                  0                   0                  0.0   \n",
       "\n",
       "       num_op_var41_efect_ult3  \n",
       "0                            0  \n",
       "1                            0  \n",
       "2                            0  \n",
       "3                            0  \n",
       "4                            0  \n",
       "...                        ...  \n",
       "76015                        0  \n",
       "76016                        0  \n",
       "76017                        0  \n",
       "76018                        0  \n",
       "76019                        0  \n",
       "\n",
       "[76020 rows x 50 columns]"
      ]
     },
     "execution_count": 30,
     "metadata": {},
     "output_type": "execute_result"
    }
   ],
   "source": [
    "rfk50_train = pd.DataFrame()\n",
    "for i in rfcFeatureImportance50:\n",
    "  rfk50_train[i] = df_train[i]\n",
    "rfk50_train"
   ]
  },
  {
   "cell_type": "code",
   "execution_count": 31,
   "metadata": {
    "id": "0Kl2x4GeoR4T"
   },
   "outputs": [],
   "source": [
    "RF50_X_train, RF50_X_test, RF50_Y_train, RF50_Y_test = train_test_split(rfk50_train, y_train, test_size=0.33, random_state=42)"
   ]
  },
  {
   "cell_type": "code",
   "execution_count": 32,
   "metadata": {
    "colab": {
     "base_uri": "https://localhost:8080/",
     "height": 0
    },
    "id": "7s3UvFtqoR8Q",
    "outputId": "1da2fab7-6875-4db9-8074-cd0eba3f51e2"
   },
   "outputs": [
    {
     "name": "stdout",
     "output_type": "stream",
     "text": [
      "gen\tnevals\tfitness \tfitness_std\tfitness_max\tfitness_min\n",
      "0  \t20    \t0.960399\t0          \t0.960399   \t0.960399   \n",
      "1  \t40    \t0.960399\t0          \t0.960399   \t0.960399   \n",
      "2  \t40    \t0.960399\t0          \t0.960399   \t0.960399   \n",
      "Best Parameters: {'min_weight_fraction_leaf': 0.17720174580896128, 'bootstrap': True, 'max_depth': 29, 'max_leaf_nodes': 30, 'n_estimators': 287}\n"
     ]
    }
   ],
   "source": [
    "evolved_estimator.fit(RF50_X_train, RF50_Y_train)\n",
    "print('Best Parameters:',evolved_estimator.best_params_)"
   ]
  },
  {
   "cell_type": "code",
   "execution_count": 33,
   "metadata": {
    "colab": {
     "base_uri": "https://localhost:8080/",
     "height": 0
    },
    "id": "Dgh78cUCtyrm",
    "outputId": "af583d1f-3c8f-4d26-cf15-2ee467cbed18"
   },
   "outputs": [
    {
     "name": "stdout",
     "output_type": "stream",
     "text": [
      "Stats achieved in each generation:  {'gen': [0, 1, 2], 'fitness': [0.9603989558455023, 0.9603989558455023, 0.9603989558455023], 'fitness_std': [0.0, 0.0, 0.0], 'fitness_max': [0.9603989558455023, 0.9603989558455023, 0.9603989558455023], 'fitness_min': [0.9603989558455023, 0.9603989558455023, 0.9603989558455023]}\n",
      "Best k solutions:  {0: {'min_weight_fraction_leaf': 0.17720174580896128, 'bootstrap': True, 'max_depth': 29, 'max_leaf_nodes': 30, 'n_estimators': 287}}\n"
     ]
    }
   ],
   "source": [
    "print(\"Stats achieved in each generation: \", evolved_estimator.history)\n",
    "print(\"Best k solutions: \", evolved_estimator.hof)"
   ]
  },
  {
   "cell_type": "code",
   "execution_count": 34,
   "metadata": {
    "colab": {
     "base_uri": "https://localhost:8080/",
     "height": 0
    },
    "id": "HQbms-cXoSAu",
    "outputId": "e05dafb9-3903-4ff8-ab51-6ea9feedfda6"
   },
   "outputs": [
    {
     "data": {
      "text/plain": [
       "{'min_weight_fraction_leaf': 0.17720174580896128,\n",
       " 'bootstrap': True,\n",
       " 'max_depth': 29,\n",
       " 'max_leaf_nodes': 30,\n",
       " 'n_estimators': 287}"
      ]
     },
     "execution_count": 34,
     "metadata": {},
     "output_type": "execute_result"
    }
   ],
   "source": [
    "rfk50_bestParams = evolved_estimator.best_params_\n",
    "rfk50_bestParams"
   ]
  },
  {
   "cell_type": "code",
   "execution_count": 35,
   "metadata": {
    "id": "9CaV7Jj4pVUM"
   },
   "outputs": [],
   "source": [
    "rfk50 = RandomForestClassifier(**rfk50_bestParams)"
   ]
  },
  {
   "cell_type": "code",
   "execution_count": 36,
   "metadata": {
    "colab": {
     "base_uri": "https://localhost:8080/",
     "height": 0
    },
    "id": "3W2De-dEojHO",
    "outputId": "27494918-4406-4745-cd86-e5041e3c058e"
   },
   "outputs": [
    {
     "data": {
      "text/plain": [
       "RandomForestClassifier(max_depth=29, max_leaf_nodes=30,\n",
       "                       min_weight_fraction_leaf=0.17720174580896128,\n",
       "                       n_estimators=287)"
      ]
     },
     "execution_count": 36,
     "metadata": {},
     "output_type": "execute_result"
    }
   ],
   "source": [
    "rfk50.fit(RF50_X_train, RF50_Y_train)"
   ]
  },
  {
   "cell_type": "code",
   "execution_count": 37,
   "metadata": {
    "colab": {
     "base_uri": "https://localhost:8080/",
     "height": 0
    },
    "id": "RsdcYOE7Pthr",
    "outputId": "2ef340f9-bd1d-4787-8831-ff8c760b61bb"
   },
   "outputs": [
    {
     "name": "stdout",
     "output_type": "stream",
     "text": [
      "0.9603989554905464\n"
     ]
    }
   ],
   "source": [
    "# Train Accuracy\n",
    "\n",
    "RF50_X_Pred = rfk50.predict(RF50_X_train)\n",
    "print(accuracy_score(RF50_Y_train, RF50_X_Pred))"
   ]
  },
  {
   "cell_type": "code",
   "execution_count": 38,
   "metadata": {
    "colab": {
     "base_uri": "https://localhost:8080/",
     "height": 0
    },
    "id": "7foB5qhVojKd",
    "outputId": "5f0fa668-76e1-4abf-8534-236dd24d9762"
   },
   "outputs": [
    {
     "name": "stdout",
     "output_type": "stream",
     "text": [
      "0.9604974688085463\n"
     ]
    }
   ],
   "source": [
    "# Test Accuracy\n",
    "\n",
    "RF50_Y_Pred = rfk50.predict(RF50_X_test)\n",
    "print(accuracy_score(RF50_Y_test, RF50_Y_Pred))"
   ]
  },
  {
   "cell_type": "markdown",
   "metadata": {
    "id": "l8RKZvnWqauh"
   },
   "source": [
    "## Decision Tree feature selection with Genetic Algorithm"
   ]
  },
  {
   "cell_type": "code",
   "execution_count": 39,
   "metadata": {
    "id": "5xsM65E1t2ZP"
   },
   "outputs": [],
   "source": [
    "dtc = DecisionTreeClassifier()\n",
    "params = {\n",
    "    \"criterion\": Categorical(['gini','entropy']),\n",
    "    \"max_depth\": Integer(1,10),\n",
    "    \"min_samples_split\": Integer(1,10),\n",
    "    \"min_samples_leaf\": Integer(1,5),\n",
    "}"
   ]
  },
  {
   "cell_type": "code",
   "execution_count": 40,
   "metadata": {
    "id": "nL6t46WUhQpb"
   },
   "outputs": [],
   "source": [
    "mutation_adapter = ExponentialAdapter(initial_value=0.8, end_value=0.2, adaptive_rate=0.1)\n",
    "crossover_adapter = ExponentialAdapter(initial_value=0.2, end_value=0.8, adaptive_rate=0.1)"
   ]
  },
  {
   "cell_type": "code",
   "execution_count": 41,
   "metadata": {
    "id": "cP6QP82YhgUE"
   },
   "outputs": [],
   "source": [
    "cv = StratifiedKFold(n_splits=3, shuffle=True)"
   ]
  },
  {
   "cell_type": "code",
   "execution_count": 42,
   "metadata": {
    "id": "0S2ZrJzQt2c6"
   },
   "outputs": [],
   "source": [
    "evolved_estimator1 = GASearchCV(estimator=dtc,\n",
    "                               cv=cv,\n",
    "                               scoring='accuracy',\n",
    "                               population_size=15,\n",
    "                               generations=2,\n",
    "                               mutation_probability=mutation_adapter,\n",
    "                               crossover_probability=crossover_adapter,\n",
    "                               param_grid=params,\n",
    "                               n_jobs=-1)"
   ]
  },
  {
   "cell_type": "code",
   "execution_count": 43,
   "metadata": {
    "colab": {
     "base_uri": "https://localhost:8080/",
     "height": 0
    },
    "id": "Qf8fWFV1t2gt",
    "outputId": "cf7e8abc-fff9-4b1f-a1a5-95b848734e1d"
   },
   "outputs": [
    {
     "data": {
      "text/plain": [
       "DecisionTreeClassifier()"
      ]
     },
     "execution_count": 43,
     "metadata": {},
     "output_type": "execute_result"
    }
   ],
   "source": [
    "dtc.fit(X_train, Y_train)"
   ]
  },
  {
   "cell_type": "code",
   "execution_count": 44,
   "metadata": {
    "id": "cyGCNqfvwSAZ"
   },
   "outputs": [],
   "source": [
    "DTfeatureImpValue = dict(zip(originalFeatures,dtc.feature_importances_))\n",
    "DTfeatureImpValue = dict(sorted(DTfeatureImpValue.items(),key=operator.itemgetter(1),reverse=True))\n",
    "dtcFullFeatureImportance = list(DTfeatureImpValue.keys())"
   ]
  },
  {
   "cell_type": "code",
   "execution_count": 45,
   "metadata": {
    "colab": {
     "base_uri": "https://localhost:8080/",
     "height": 0
    },
    "id": "E5ePSLmPwSDZ",
    "outputId": "eb68aefa-2a68-42dd-fdac-8d386861745b"
   },
   "outputs": [
    {
     "name": "stdout",
     "output_type": "stream",
     "text": [
      "['ID', 'var38', 'var15', 'saldo_var30', 'saldo_medio_var5_ult3', 'saldo_medio_var5_hace3', 'num_var45_ult3', 'saldo_medio_var5_hace2', 'num_var45_hace3', 'num_var45_hace2', 'num_var22_ult3', 'num_var22_hace3', 'num_var45_ult1', 'num_meses_var39_vig_ult3', 'num_var22_hace2', 'var36', 'saldo_var5', 'saldo_var42', 'saldo_medio_var5_ult1', 'num_med_var45_ult3', 'num_var41_0', 'var3', 'imp_op_var39_efect_ult1', 'num_var39_0', 'num_var22_ult1']\n"
     ]
    }
   ],
   "source": [
    "# Top 25 Features\n",
    "dtcFeatureImportance25 = dtcFullFeatureImportance[:25]\n",
    "print(dtcFeatureImportance25)"
   ]
  },
  {
   "cell_type": "code",
   "execution_count": 46,
   "metadata": {
    "colab": {
     "base_uri": "https://localhost:8080/",
     "height": 0
    },
    "id": "mYBtPNfcwSGK",
    "outputId": "90567197-dd6d-4856-879b-243d98c7b1f5"
   },
   "outputs": [
    {
     "name": "stdout",
     "output_type": "stream",
     "text": [
      "['ID', 'var38', 'var15', 'saldo_var30', 'saldo_medio_var5_ult3', 'saldo_medio_var5_hace3', 'num_var45_ult3', 'saldo_medio_var5_hace2', 'num_var45_hace3', 'num_var45_hace2', 'num_var22_ult3', 'num_var22_hace3', 'num_var45_ult1', 'num_meses_var39_vig_ult3', 'num_var22_hace2', 'var36', 'saldo_var5', 'saldo_var42', 'saldo_medio_var5_ult1', 'num_med_var45_ult3', 'num_var41_0', 'var3', 'imp_op_var39_efect_ult1', 'num_var39_0', 'num_var22_ult1', 'num_op_var39_ult1', 'imp_var43_emit_ult1', 'saldo_medio_var8_ult1', 'imp_op_var39_comer_ult3', 'ind_var41_0', 'imp_ent_var16_ult1', 'saldo_var37', 'ind_var39_0', 'num_op_var39_hace2', 'num_op_var39_comer_ult1', 'imp_op_var39_comer_ult1', 'ind_var8_0', 'imp_trans_var37_ult1', 'num_var37_med_ult2', 'num_meses_var5_ult3', 'imp_op_var41_efect_ult3', 'num_med_var22_ult3', 'imp_op_var39_efect_ult3', 'imp_op_var41_efect_ult1', 'imp_op_var41_comer_ult1', 'num_var5_0', 'imp_op_var39_ult1', 'num_var35', 'num_op_var41_hace2', 'num_meses_var8_ult3']\n"
     ]
    }
   ],
   "source": [
    "# Top 50 Features\n",
    "dtcFeatureImportance50 = dtcFullFeatureImportance[:50]\n",
    "print(dtcFeatureImportance50)"
   ]
  },
  {
   "cell_type": "markdown",
   "metadata": {
    "id": "zV4rVFYlwo06"
   },
   "source": [
    "## Decision Tree with top 25 Features"
   ]
  },
  {
   "cell_type": "code",
   "execution_count": 187,
   "metadata": {
    "id": "Y6-H1LKtwSLa"
   },
   "outputs": [],
   "source": [
    "dtc25_train = pd.DataFrame()\n",
    "for i in dtcFeatureImportance25:\n",
    "  dtc25_train[i] = df_train[i]"
   ]
  },
  {
   "cell_type": "code",
   "execution_count": 48,
   "metadata": {
    "id": "rZF5unbMwSOc"
   },
   "outputs": [],
   "source": [
    "DT25_X_train, DT25_X_test, DT25_Y_train, DT25_Y_test = train_test_split(dtc25_train, y_train, test_size=0.33, random_state=42)"
   ]
  },
  {
   "cell_type": "code",
   "execution_count": 49,
   "metadata": {
    "colab": {
     "base_uri": "https://localhost:8080/",
     "height": 0
    },
    "id": "y-zOCtGgwSRZ",
    "outputId": "fe55bfb5-638a-4693-afe8-49f962ffcb86"
   },
   "outputs": [
    {
     "name": "stdout",
     "output_type": "stream",
     "text": [
      "gen\tnevals\tfitness\tfitness_std\tfitness_max\tfitness_min\n",
      "0  \t15    \tnan    \tnan        \tnan        \tnan        \n",
      "1  \t30    \tnan    \tnan        \tnan        \tnan        \n",
      "2  \t30    \tnan    \tnan        \tnan        \tnan        \n",
      "Best Parameters: {'criterion': 'gini', 'max_depth': 4, 'min_samples_split': 5, 'min_samples_leaf': 4}\n"
     ]
    }
   ],
   "source": [
    "evolved_estimator1.fit(DT25_X_train, DT25_Y_train)\n",
    "print('Best Parameters:',evolved_estimator1.best_params_)"
   ]
  },
  {
   "cell_type": "code",
   "execution_count": 50,
   "metadata": {
    "colab": {
     "base_uri": "https://localhost:8080/",
     "height": 0
    },
    "id": "KoFSL1ZNt1vJ",
    "outputId": "1622e12e-c261-4d4b-c6b5-2016196df8c1"
   },
   "outputs": [
    {
     "name": "stdout",
     "output_type": "stream",
     "text": [
      "Stats achieved in each generation:  {'gen': [0, 1, 2], 'fitness': [nan, nan, nan], 'fitness_std': [nan, nan, nan], 'fitness_max': [nan, nan, nan], 'fitness_min': [nan, nan, nan]}\n",
      "Best k solutions:  {0: {'criterion': 'gini', 'max_depth': 4, 'min_samples_split': 5, 'min_samples_leaf': 4}}\n"
     ]
    }
   ],
   "source": [
    "print(\"Stats achieved in each generation: \", evolved_estimator1.history)\n",
    "print(\"Best k solutions: \", evolved_estimator1.hof)"
   ]
  },
  {
   "cell_type": "code",
   "execution_count": 51,
   "metadata": {
    "colab": {
     "base_uri": "https://localhost:8080/",
     "height": 0
    },
    "id": "zlKzDP0UwSUF",
    "outputId": "0a0ba9a0-bd8e-4125-8b56-754052bacf1c"
   },
   "outputs": [
    {
     "data": {
      "text/plain": [
       "{'criterion': 'gini',\n",
       " 'max_depth': 4,\n",
       " 'min_samples_split': 5,\n",
       " 'min_samples_leaf': 4}"
      ]
     },
     "execution_count": 51,
     "metadata": {},
     "output_type": "execute_result"
    }
   ],
   "source": [
    "dtk25_bestParams = evolved_estimator1.best_params_\n",
    "dtk25_bestParams"
   ]
  },
  {
   "cell_type": "code",
   "execution_count": 52,
   "metadata": {
    "id": "Hrl5SD7IxAhi"
   },
   "outputs": [],
   "source": [
    "dtc25 = DecisionTreeClassifier(**dtk25_bestParams)"
   ]
  },
  {
   "cell_type": "code",
   "execution_count": 53,
   "metadata": {
    "colab": {
     "base_uri": "https://localhost:8080/",
     "height": 0
    },
    "id": "p1V3hnYuxAkw",
    "outputId": "62ce3e91-48fa-4b46-e817-33bf0c7bf444"
   },
   "outputs": [
    {
     "data": {
      "text/plain": [
       "DecisionTreeClassifier(max_depth=4, min_samples_leaf=4, min_samples_split=5)"
      ]
     },
     "execution_count": 53,
     "metadata": {},
     "output_type": "execute_result"
    }
   ],
   "source": [
    "dtc25.fit(DT25_X_train, DT25_Y_train)"
   ]
  },
  {
   "cell_type": "code",
   "execution_count": 54,
   "metadata": {
    "colab": {
     "base_uri": "https://localhost:8080/",
     "height": 0
    },
    "id": "hsSGtMfUQA0M",
    "outputId": "5f4c7526-5367-4d94-c45d-c09657431c0e"
   },
   "outputs": [
    {
     "name": "stdout",
     "output_type": "stream",
     "text": [
      "0.9604578563995838\n"
     ]
    }
   ],
   "source": [
    "# Train Accuracy\n",
    "\n",
    "DT25_X_Pred = dtc25.predict(DT25_X_train)\n",
    "print(accuracy_score(DT25_Y_train, DT25_X_Pred))"
   ]
  },
  {
   "cell_type": "code",
   "execution_count": 55,
   "metadata": {
    "colab": {
     "base_uri": "https://localhost:8080/",
     "height": 0
    },
    "id": "g4LL4TdbxAnz",
    "outputId": "9d938df1-655e-45d9-c234-4a5293165feb"
   },
   "outputs": [
    {
     "name": "stdout",
     "output_type": "stream",
     "text": [
      "0.9605373300912823\n"
     ]
    }
   ],
   "source": [
    "# Test Accuracy\n",
    "\n",
    "DT25_Y_Pred = dtc25.predict(DT25_X_test)\n",
    "print(accuracy_score(DT25_Y_test, DT25_Y_Pred))"
   ]
  },
  {
   "cell_type": "markdown",
   "metadata": {
    "id": "UqDEq175xIO1"
   },
   "source": [
    "## Decision Tree with top 50 Features"
   ]
  },
  {
   "cell_type": "code",
   "execution_count": 188,
   "metadata": {
    "id": "Qozz1IlvxODx"
   },
   "outputs": [],
   "source": [
    "dtc50_train = pd.DataFrame()\n",
    "for i in dtcFeatureImportance50:\n",
    "  dtc50_train[i] = df_train[i]"
   ]
  },
  {
   "cell_type": "code",
   "execution_count": 57,
   "metadata": {
    "id": "hXYYV30GxOIy"
   },
   "outputs": [],
   "source": [
    "DT50_X_train, DT50_X_test, DT50_Y_train, DT50_Y_test = train_test_split(dtc50_train, y_train, test_size=0.33, random_state=42)"
   ]
  },
  {
   "cell_type": "code",
   "execution_count": 58,
   "metadata": {
    "colab": {
     "base_uri": "https://localhost:8080/",
     "height": 0
    },
    "id": "4kl0en4zxOMi",
    "outputId": "2dad52bd-2044-4693-92b9-c4f927beff14"
   },
   "outputs": [
    {
     "name": "stdout",
     "output_type": "stream",
     "text": [
      "gen\tnevals\tfitness\tfitness_std\tfitness_max\tfitness_min\n",
      "0  \t15    \t0.95993\t0.00109557 \t0.960399   \t0.95606    \n",
      "1  \t30    \t0.960399\t2.88472e-10\t0.960399   \t0.960399   \n",
      "2  \t30    \t0.960399\t1.11022e-16\t0.960399   \t0.960399   \n",
      "Best Parameters: {'criterion': 'entropy', 'max_depth': 5, 'min_samples_split': 7, 'min_samples_leaf': 5}\n"
     ]
    }
   ],
   "source": [
    "evolved_estimator1.fit(DT50_X_train, DT50_Y_train)\n",
    "print('Best Parameters:',evolved_estimator1.best_params_)"
   ]
  },
  {
   "cell_type": "code",
   "execution_count": 59,
   "metadata": {
    "colab": {
     "base_uri": "https://localhost:8080/",
     "height": 0
    },
    "id": "pYOYJwVFt5ZU",
    "outputId": "d910fc8d-0b15-462c-944a-df9547c787aa"
   },
   "outputs": [
    {
     "name": "stdout",
     "output_type": "stream",
     "text": [
      "Stats achieved in each generation:  {'gen': [0, 1, 2], 'fitness': [0.9599303674189875, 0.9603989559225996, 0.9603989558455022], 'fitness_std': [0.0010955686987732711, 2.8847223186370636e-10, 1.1102230246251565e-16], 'fitness_max': [0.960398957001964, 0.960398957001964, 0.9603989558455023], 'fitness_min': [0.9560599299194829, 0.9603989558455023, 0.9603989558455023]}\n",
      "Best k solutions:  {0: {'criterion': 'entropy', 'max_depth': 5, 'min_samples_split': 7, 'min_samples_leaf': 5}}\n"
     ]
    }
   ],
   "source": [
    "print(\"Stats achieved in each generation: \", evolved_estimator1.history)\n",
    "print(\"Best k solutions: \", evolved_estimator1.hof)"
   ]
  },
  {
   "cell_type": "code",
   "execution_count": 60,
   "metadata": {
    "colab": {
     "base_uri": "https://localhost:8080/",
     "height": 0
    },
    "id": "GvpPpg1fxOTC",
    "outputId": "b1618024-9461-439d-8817-32bbb77e39c0"
   },
   "outputs": [
    {
     "data": {
      "text/plain": [
       "{'criterion': 'entropy',\n",
       " 'max_depth': 5,\n",
       " 'min_samples_split': 7,\n",
       " 'min_samples_leaf': 5}"
      ]
     },
     "execution_count": 60,
     "metadata": {},
     "output_type": "execute_result"
    }
   ],
   "source": [
    "dtk50_bestParams = evolved_estimator1.best_params_\n",
    "dtk50_bestParams"
   ]
  },
  {
   "cell_type": "code",
   "execution_count": 61,
   "metadata": {
    "id": "PafFCSJjxOYJ"
   },
   "outputs": [],
   "source": [
    "dtc50 = DecisionTreeClassifier(**dtk50_bestParams)"
   ]
  },
  {
   "cell_type": "code",
   "execution_count": 62,
   "metadata": {
    "colab": {
     "base_uri": "https://localhost:8080/",
     "height": 0
    },
    "id": "_MSvUaJ3xOc_",
    "outputId": "4e5ae928-50e9-4034-abb7-caad952b42b5"
   },
   "outputs": [
    {
     "data": {
      "text/plain": [
       "DecisionTreeClassifier(criterion='entropy', max_depth=5, min_samples_leaf=5,\n",
       "                       min_samples_split=7)"
      ]
     },
     "execution_count": 62,
     "metadata": {},
     "output_type": "execute_result"
    }
   ],
   "source": [
    "dtc50.fit(DT50_X_train, DT50_Y_train)"
   ]
  },
  {
   "cell_type": "code",
   "execution_count": 63,
   "metadata": {
    "colab": {
     "base_uri": "https://localhost:8080/",
     "height": 0
    },
    "id": "95lloH-AQUV8",
    "outputId": "8da07c09-9951-41f9-e87b-a89c7184092e"
   },
   "outputs": [
    {
     "name": "stdout",
     "output_type": "stream",
     "text": [
      "0.9604185891268922\n"
     ]
    }
   ],
   "source": [
    "# Train Accuracy\n",
    "\n",
    "DT50_X_Pred = dtc50.predict(DT50_X_train)\n",
    "print(accuracy_score(DT50_Y_train, DT50_X_Pred))"
   ]
  },
  {
   "cell_type": "code",
   "execution_count": 64,
   "metadata": {
    "colab": {
     "base_uri": "https://localhost:8080/",
     "height": 0
    },
    "id": "4gzwZsNZxVo5",
    "outputId": "7865c325-fdec-4fea-b2a8-0554613c0c53"
   },
   "outputs": [
    {
     "name": "stdout",
     "output_type": "stream",
     "text": [
      "0.9603380236776019\n"
     ]
    }
   ],
   "source": [
    "# Test Accuracy\n",
    "\n",
    "DT50_Y_Pred = dtc50.predict(DT50_X_test)\n",
    "print(accuracy_score(DT50_Y_test, DT50_Y_Pred))"
   ]
  },
  {
   "cell_type": "markdown",
   "metadata": {
    "id": "4UX3MGUhu1oJ"
   },
   "source": [
    "## Select K-Best Feature selection k=25"
   ]
  },
  {
   "cell_type": "code",
   "execution_count": 65,
   "metadata": {
    "id": "gCsG3WC7VnRR"
   },
   "outputs": [],
   "source": [
    "selector = SelectKBest(score_func=f_classif, k=25)\n",
    "Selectk25_train = selector.fit_transform(df_train, y_train)"
   ]
  },
  {
   "cell_type": "code",
   "execution_count": 66,
   "metadata": {
    "colab": {
     "base_uri": "https://localhost:8080/",
     "height": 0
    },
    "id": "oFyDuxvfMuud",
    "outputId": "f919bb94-e35f-4256-801c-01e449a2a1af"
   },
   "outputs": [
    {
     "data": {
      "text/plain": [
       "(76020, 25)"
      ]
     },
     "execution_count": 66,
     "metadata": {},
     "output_type": "execute_result"
    }
   ],
   "source": [
    "Selectk25_train.shape"
   ]
  },
  {
   "cell_type": "code",
   "execution_count": 67,
   "metadata": {
    "colab": {
     "base_uri": "https://localhost:8080/",
     "height": 0
    },
    "id": "rsz1NRPnMuxO",
    "outputId": "b4813dd6-9077-48ff-9940-3ebe3f6ed900"
   },
   "outputs": [
    {
     "data": {
      "text/plain": [
       "['var15',\n",
       " 'ind_var5',\n",
       " 'ind_var8_0',\n",
       " 'ind_var12_0',\n",
       " 'ind_var12',\n",
       " 'ind_var13_0',\n",
       " 'ind_var13_corto_0',\n",
       " 'ind_var13_corto',\n",
       " 'ind_var13',\n",
       " 'ind_var30',\n",
       " 'ind_var39_0',\n",
       " 'num_var4',\n",
       " 'num_var5',\n",
       " 'num_var8_0',\n",
       " 'num_var13_0',\n",
       " 'num_var13_corto_0',\n",
       " 'num_var13_corto',\n",
       " 'num_var13',\n",
       " 'num_var30',\n",
       " 'num_var35',\n",
       " 'num_var42',\n",
       " 'saldo_var30',\n",
       " 'var36',\n",
       " 'num_meses_var5_ult3',\n",
       " 'num_meses_var13_corto_ult3']"
      ]
     },
     "execution_count": 67,
     "metadata": {},
     "output_type": "execute_result"
    }
   ],
   "source": [
    "selected_featuresk25 = list(df_train.columns[(selector.get_support())])\n",
    "selected_featuresk25"
   ]
  },
  {
   "cell_type": "markdown",
   "metadata": {
    "id": "UveM50Pf9UNZ"
   },
   "source": [
    "## Select K-Best Feature selection k=50"
   ]
  },
  {
   "cell_type": "code",
   "execution_count": 68,
   "metadata": {
    "id": "EFsPTuaV9PCs"
   },
   "outputs": [],
   "source": [
    "selector = SelectKBest(score_func=f_classif, k=50)\n",
    "Selectk50_train = selector.fit_transform(df_train, y_train)"
   ]
  },
  {
   "cell_type": "code",
   "execution_count": 69,
   "metadata": {
    "colab": {
     "base_uri": "https://localhost:8080/",
     "height": 0
    },
    "id": "eMQGPFYv9PI_",
    "outputId": "344eb150-7cd9-4c9f-f134-d06813e4424d"
   },
   "outputs": [
    {
     "data": {
      "text/plain": [
       "(76020, 50)"
      ]
     },
     "execution_count": 69,
     "metadata": {},
     "output_type": "execute_result"
    }
   ],
   "source": [
    "Selectk50_train.shape"
   ]
  },
  {
   "cell_type": "code",
   "execution_count": 70,
   "metadata": {
    "colab": {
     "base_uri": "https://localhost:8080/",
     "height": 0
    },
    "id": "7BxRQaUC9PQe",
    "outputId": "7ba821d3-5a7a-475f-bc19-e5867001386a"
   },
   "outputs": [
    {
     "data": {
      "text/plain": [
       "['var15',\n",
       " 'imp_op_var41_efect_ult1',\n",
       " 'imp_op_var41_ult1',\n",
       " 'imp_op_var39_efect_ult1',\n",
       " 'imp_op_var39_ult1',\n",
       " 'ind_var5_0',\n",
       " 'ind_var5',\n",
       " 'ind_var8_0',\n",
       " 'ind_var8',\n",
       " 'ind_var12_0',\n",
       " 'ind_var12',\n",
       " 'ind_var13_0',\n",
       " 'ind_var13_corto_0',\n",
       " 'ind_var13_corto',\n",
       " 'ind_var13',\n",
       " 'ind_var24_0',\n",
       " 'ind_var24',\n",
       " 'ind_var30',\n",
       " 'ind_var39_0',\n",
       " 'ind_var41_0',\n",
       " 'num_var4',\n",
       " 'num_var5_0',\n",
       " 'num_var5',\n",
       " 'num_var8_0',\n",
       " 'num_var8',\n",
       " 'num_var12_0',\n",
       " 'num_var12',\n",
       " 'num_var13_0',\n",
       " 'num_var13_corto_0',\n",
       " 'num_var13_corto',\n",
       " 'num_var13',\n",
       " 'num_var24_0',\n",
       " 'num_var24',\n",
       " 'num_var30_0',\n",
       " 'num_var30',\n",
       " 'num_var35',\n",
       " 'num_var39_0',\n",
       " 'num_var41_0',\n",
       " 'num_var42',\n",
       " 'saldo_var13_corto',\n",
       " 'saldo_var13',\n",
       " 'saldo_var30',\n",
       " 'var36',\n",
       " 'num_aport_var13_hace3',\n",
       " 'num_var22_ult1',\n",
       " 'num_meses_var5_ult3',\n",
       " 'num_meses_var8_ult3',\n",
       " 'num_meses_var12_ult3',\n",
       " 'num_meses_var13_corto_ult3',\n",
       " 'saldo_medio_var13_corto_ult1']"
      ]
     },
     "execution_count": 70,
     "metadata": {},
     "output_type": "execute_result"
    }
   ],
   "source": [
    "selected_featuresk50 = list(df_train.columns[(selector.get_support())])\n",
    "selected_featuresk50"
   ]
  },
  {
   "cell_type": "markdown",
   "metadata": {
    "id": "Id8X532m9y2y"
   },
   "source": [
    "## Common Features between Random Forest, Decision Tree and Select K-Best where k=25"
   ]
  },
  {
   "cell_type": "code",
   "execution_count": 71,
   "metadata": {
    "colab": {
     "base_uri": "https://localhost:8080/",
     "height": 0
    },
    "id": "ymlFlXp3-IKG",
    "outputId": "3c8b26fa-a47f-4547-d0f3-5ce312e189ed"
   },
   "outputs": [
    {
     "name": "stdout",
     "output_type": "stream",
     "text": [
      "['num_var8_0', 'num_var13', 'num_med_var22_ult3', 'imp_op_var39_efect_ult1', 'num_var22_ult3', 'var36', 'num_var22_hace3', 'num_var45_hace2', 'ind_var13', 'num_var13_0', 'num_meses_var39_vig_ult3', 'num_var41_0', 'saldo_medio_var5_hace3', 'ind_var13_corto', 'ind_var13_0', 'num_var22_ult1', 'ind_var39_0', 'num_meses_var13_corto_ult3', 'ind_var12_0', 'saldo_var30', 'saldo_medio_var5_ult1', 'ind_var8_0', 'var3', 'num_var39_0', 'ind_var12', 'saldo_var5', 'num_var45_ult1', 'num_var45_ult3', 'var15', 'ID', 'var38', 'saldo_medio_var5_hace2', 'num_var4', 'ind_var30', 'num_var30', 'ind_var13_corto_0', 'num_var13_corto', 'ind_var5', 'num_var35', 'num_var42', 'num_var22_hace2', 'saldo_var42', 'num_var13_corto_0', 'saldo_medio_var5_ult3', 'num_meses_var5_ult3', 'imp_op_var41_ult1', 'num_var5', 'num_med_var45_ult3', 'num_var45_hace3']\n",
      "49\n"
     ]
    }
   ],
   "source": [
    "# rfcFeatureImportance25, dtk25_bestParams, selected_featuresk25\n",
    "commonFeatures25 = list( set(rfcFeatureImportance25) | set(dtcFeatureImportance25) | set(selected_featuresk25))\n",
    "print(commonFeatures25)\n",
    "print(len(commonFeatures25))"
   ]
  },
  {
   "cell_type": "code",
   "execution_count": 90,
   "metadata": {
    "colab": {
     "base_uri": "https://localhost:8080/",
     "height": 488
    },
    "id": "v6kpWXK_-ITh",
    "outputId": "5c5e7244-3f0e-40a4-fdeb-4ff6b92d1c1f"
   },
   "outputs": [
    {
     "data": {
      "text/html": [
       "\n",
       "  <div id=\"df-c71e3a16-5f1b-4eab-97b6-a4cd0a09a7b6\">\n",
       "    <div class=\"colab-df-container\">\n",
       "      <div>\n",
       "<style scoped>\n",
       "    .dataframe tbody tr th:only-of-type {\n",
       "        vertical-align: middle;\n",
       "    }\n",
       "\n",
       "    .dataframe tbody tr th {\n",
       "        vertical-align: top;\n",
       "    }\n",
       "\n",
       "    .dataframe thead th {\n",
       "        text-align: right;\n",
       "    }\n",
       "</style>\n",
       "<table border=\"1\" class=\"dataframe\">\n",
       "  <thead>\n",
       "    <tr style=\"text-align: right;\">\n",
       "      <th></th>\n",
       "      <th>num_var8_0</th>\n",
       "      <th>num_var13</th>\n",
       "      <th>num_med_var22_ult3</th>\n",
       "      <th>imp_op_var39_efect_ult1</th>\n",
       "      <th>num_var22_ult3</th>\n",
       "      <th>var36</th>\n",
       "      <th>num_var22_hace3</th>\n",
       "      <th>num_var45_hace2</th>\n",
       "      <th>ind_var13</th>\n",
       "      <th>num_var13_0</th>\n",
       "      <th>...</th>\n",
       "      <th>num_var42</th>\n",
       "      <th>num_var22_hace2</th>\n",
       "      <th>saldo_var42</th>\n",
       "      <th>num_var13_corto_0</th>\n",
       "      <th>saldo_medio_var5_ult3</th>\n",
       "      <th>num_meses_var5_ult3</th>\n",
       "      <th>imp_op_var41_ult1</th>\n",
       "      <th>num_var5</th>\n",
       "      <th>num_med_var45_ult3</th>\n",
       "      <th>num_var45_hace3</th>\n",
       "    </tr>\n",
       "  </thead>\n",
       "  <tbody>\n",
       "    <tr>\n",
       "      <th>0</th>\n",
       "      <td>0</td>\n",
       "      <td>0</td>\n",
       "      <td>0</td>\n",
       "      <td>0.0</td>\n",
       "      <td>0</td>\n",
       "      <td>99</td>\n",
       "      <td>0</td>\n",
       "      <td>0</td>\n",
       "      <td>0</td>\n",
       "      <td>0</td>\n",
       "      <td>...</td>\n",
       "      <td>0</td>\n",
       "      <td>0</td>\n",
       "      <td>0.00</td>\n",
       "      <td>0</td>\n",
       "      <td>0.00</td>\n",
       "      <td>0</td>\n",
       "      <td>0.0</td>\n",
       "      <td>0</td>\n",
       "      <td>0</td>\n",
       "      <td>0</td>\n",
       "    </tr>\n",
       "    <tr>\n",
       "      <th>1</th>\n",
       "      <td>0</td>\n",
       "      <td>3</td>\n",
       "      <td>0</td>\n",
       "      <td>0.0</td>\n",
       "      <td>0</td>\n",
       "      <td>3</td>\n",
       "      <td>0</td>\n",
       "      <td>0</td>\n",
       "      <td>1</td>\n",
       "      <td>3</td>\n",
       "      <td>...</td>\n",
       "      <td>0</td>\n",
       "      <td>0</td>\n",
       "      <td>0.00</td>\n",
       "      <td>3</td>\n",
       "      <td>0.00</td>\n",
       "      <td>1</td>\n",
       "      <td>0.0</td>\n",
       "      <td>0</td>\n",
       "      <td>0</td>\n",
       "      <td>0</td>\n",
       "    </tr>\n",
       "    <tr>\n",
       "      <th>2</th>\n",
       "      <td>0</td>\n",
       "      <td>0</td>\n",
       "      <td>0</td>\n",
       "      <td>0.0</td>\n",
       "      <td>0</td>\n",
       "      <td>99</td>\n",
       "      <td>0</td>\n",
       "      <td>0</td>\n",
       "      <td>0</td>\n",
       "      <td>0</td>\n",
       "      <td>...</td>\n",
       "      <td>3</td>\n",
       "      <td>0</td>\n",
       "      <td>3.00</td>\n",
       "      <td>0</td>\n",
       "      <td>2.07</td>\n",
       "      <td>3</td>\n",
       "      <td>0.0</td>\n",
       "      <td>3</td>\n",
       "      <td>0</td>\n",
       "      <td>0</td>\n",
       "    </tr>\n",
       "    <tr>\n",
       "      <th>3</th>\n",
       "      <td>0</td>\n",
       "      <td>0</td>\n",
       "      <td>0</td>\n",
       "      <td>0.0</td>\n",
       "      <td>3</td>\n",
       "      <td>2</td>\n",
       "      <td>0</td>\n",
       "      <td>27</td>\n",
       "      <td>0</td>\n",
       "      <td>0</td>\n",
       "      <td>...</td>\n",
       "      <td>3</td>\n",
       "      <td>3</td>\n",
       "      <td>70.62</td>\n",
       "      <td>0</td>\n",
       "      <td>138.84</td>\n",
       "      <td>2</td>\n",
       "      <td>195.0</td>\n",
       "      <td>3</td>\n",
       "      <td>15</td>\n",
       "      <td>3</td>\n",
       "    </tr>\n",
       "    <tr>\n",
       "      <th>4</th>\n",
       "      <td>0</td>\n",
       "      <td>0</td>\n",
       "      <td>3</td>\n",
       "      <td>0.0</td>\n",
       "      <td>9</td>\n",
       "      <td>1</td>\n",
       "      <td>0</td>\n",
       "      <td>0</td>\n",
       "      <td>0</td>\n",
       "      <td>0</td>\n",
       "      <td>...</td>\n",
       "      <td>3</td>\n",
       "      <td>3</td>\n",
       "      <td>135003.00</td>\n",
       "      <td>0</td>\n",
       "      <td>13501.47</td>\n",
       "      <td>3</td>\n",
       "      <td>0.0</td>\n",
       "      <td>0</td>\n",
       "      <td>0</td>\n",
       "      <td>0</td>\n",
       "    </tr>\n",
       "    <tr>\n",
       "      <th>...</th>\n",
       "      <td>...</td>\n",
       "      <td>...</td>\n",
       "      <td>...</td>\n",
       "      <td>...</td>\n",
       "      <td>...</td>\n",
       "      <td>...</td>\n",
       "      <td>...</td>\n",
       "      <td>...</td>\n",
       "      <td>...</td>\n",
       "      <td>...</td>\n",
       "      <td>...</td>\n",
       "      <td>...</td>\n",
       "      <td>...</td>\n",
       "      <td>...</td>\n",
       "      <td>...</td>\n",
       "      <td>...</td>\n",
       "      <td>...</td>\n",
       "      <td>...</td>\n",
       "      <td>...</td>\n",
       "      <td>...</td>\n",
       "      <td>...</td>\n",
       "    </tr>\n",
       "    <tr>\n",
       "      <th>76015</th>\n",
       "      <td>0</td>\n",
       "      <td>0</td>\n",
       "      <td>0</td>\n",
       "      <td>0.0</td>\n",
       "      <td>0</td>\n",
       "      <td>99</td>\n",
       "      <td>0</td>\n",
       "      <td>0</td>\n",
       "      <td>0</td>\n",
       "      <td>0</td>\n",
       "      <td>...</td>\n",
       "      <td>0</td>\n",
       "      <td>0</td>\n",
       "      <td>0.00</td>\n",
       "      <td>0</td>\n",
       "      <td>0.00</td>\n",
       "      <td>0</td>\n",
       "      <td>0.0</td>\n",
       "      <td>0</td>\n",
       "      <td>0</td>\n",
       "      <td>0</td>\n",
       "    </tr>\n",
       "    <tr>\n",
       "      <th>76016</th>\n",
       "      <td>0</td>\n",
       "      <td>0</td>\n",
       "      <td>6</td>\n",
       "      <td>0.0</td>\n",
       "      <td>24</td>\n",
       "      <td>2</td>\n",
       "      <td>0</td>\n",
       "      <td>36</td>\n",
       "      <td>0</td>\n",
       "      <td>0</td>\n",
       "      <td>...</td>\n",
       "      <td>3</td>\n",
       "      <td>24</td>\n",
       "      <td>48191.22</td>\n",
       "      <td>0</td>\n",
       "      <td>0.00</td>\n",
       "      <td>1</td>\n",
       "      <td>0.0</td>\n",
       "      <td>0</td>\n",
       "      <td>15</td>\n",
       "      <td>3</td>\n",
       "    </tr>\n",
       "    <tr>\n",
       "      <th>76017</th>\n",
       "      <td>0</td>\n",
       "      <td>0</td>\n",
       "      <td>0</td>\n",
       "      <td>0.0</td>\n",
       "      <td>0</td>\n",
       "      <td>99</td>\n",
       "      <td>0</td>\n",
       "      <td>0</td>\n",
       "      <td>0</td>\n",
       "      <td>0</td>\n",
       "      <td>...</td>\n",
       "      <td>3</td>\n",
       "      <td>0</td>\n",
       "      <td>3.00</td>\n",
       "      <td>0</td>\n",
       "      <td>3.00</td>\n",
       "      <td>2</td>\n",
       "      <td>0.0</td>\n",
       "      <td>3</td>\n",
       "      <td>0</td>\n",
       "      <td>0</td>\n",
       "    </tr>\n",
       "    <tr>\n",
       "      <th>76018</th>\n",
       "      <td>0</td>\n",
       "      <td>0</td>\n",
       "      <td>0</td>\n",
       "      <td>0.0</td>\n",
       "      <td>0</td>\n",
       "      <td>99</td>\n",
       "      <td>0</td>\n",
       "      <td>0</td>\n",
       "      <td>0</td>\n",
       "      <td>0</td>\n",
       "      <td>...</td>\n",
       "      <td>3</td>\n",
       "      <td>0</td>\n",
       "      <td>3.00</td>\n",
       "      <td>0</td>\n",
       "      <td>2.58</td>\n",
       "      <td>3</td>\n",
       "      <td>0.0</td>\n",
       "      <td>3</td>\n",
       "      <td>0</td>\n",
       "      <td>0</td>\n",
       "    </tr>\n",
       "    <tr>\n",
       "      <th>76019</th>\n",
       "      <td>0</td>\n",
       "      <td>0</td>\n",
       "      <td>0</td>\n",
       "      <td>0.0</td>\n",
       "      <td>0</td>\n",
       "      <td>99</td>\n",
       "      <td>0</td>\n",
       "      <td>0</td>\n",
       "      <td>0</td>\n",
       "      <td>0</td>\n",
       "      <td>...</td>\n",
       "      <td>0</td>\n",
       "      <td>0</td>\n",
       "      <td>0.00</td>\n",
       "      <td>0</td>\n",
       "      <td>0.00</td>\n",
       "      <td>0</td>\n",
       "      <td>0.0</td>\n",
       "      <td>0</td>\n",
       "      <td>0</td>\n",
       "      <td>0</td>\n",
       "    </tr>\n",
       "  </tbody>\n",
       "</table>\n",
       "<p>76020 rows × 49 columns</p>\n",
       "</div>\n",
       "      <button class=\"colab-df-convert\" onclick=\"convertToInteractive('df-c71e3a16-5f1b-4eab-97b6-a4cd0a09a7b6')\"\n",
       "              title=\"Convert this dataframe to an interactive table.\"\n",
       "              style=\"display:none;\">\n",
       "        \n",
       "  <svg xmlns=\"http://www.w3.org/2000/svg\" height=\"24px\"viewBox=\"0 0 24 24\"\n",
       "       width=\"24px\">\n",
       "    <path d=\"M0 0h24v24H0V0z\" fill=\"none\"/>\n",
       "    <path d=\"M18.56 5.44l.94 2.06.94-2.06 2.06-.94-2.06-.94-.94-2.06-.94 2.06-2.06.94zm-11 1L8.5 8.5l.94-2.06 2.06-.94-2.06-.94L8.5 2.5l-.94 2.06-2.06.94zm10 10l.94 2.06.94-2.06 2.06-.94-2.06-.94-.94-2.06-.94 2.06-2.06.94z\"/><path d=\"M17.41 7.96l-1.37-1.37c-.4-.4-.92-.59-1.43-.59-.52 0-1.04.2-1.43.59L10.3 9.45l-7.72 7.72c-.78.78-.78 2.05 0 2.83L4 21.41c.39.39.9.59 1.41.59.51 0 1.02-.2 1.41-.59l7.78-7.78 2.81-2.81c.8-.78.8-2.07 0-2.86zM5.41 20L4 18.59l7.72-7.72 1.47 1.35L5.41 20z\"/>\n",
       "  </svg>\n",
       "      </button>\n",
       "      \n",
       "  <style>\n",
       "    .colab-df-container {\n",
       "      display:flex;\n",
       "      flex-wrap:wrap;\n",
       "      gap: 12px;\n",
       "    }\n",
       "\n",
       "    .colab-df-convert {\n",
       "      background-color: #E8F0FE;\n",
       "      border: none;\n",
       "      border-radius: 50%;\n",
       "      cursor: pointer;\n",
       "      display: none;\n",
       "      fill: #1967D2;\n",
       "      height: 32px;\n",
       "      padding: 0 0 0 0;\n",
       "      width: 32px;\n",
       "    }\n",
       "\n",
       "    .colab-df-convert:hover {\n",
       "      background-color: #E2EBFA;\n",
       "      box-shadow: 0px 1px 2px rgba(60, 64, 67, 0.3), 0px 1px 3px 1px rgba(60, 64, 67, 0.15);\n",
       "      fill: #174EA6;\n",
       "    }\n",
       "\n",
       "    [theme=dark] .colab-df-convert {\n",
       "      background-color: #3B4455;\n",
       "      fill: #D2E3FC;\n",
       "    }\n",
       "\n",
       "    [theme=dark] .colab-df-convert:hover {\n",
       "      background-color: #434B5C;\n",
       "      box-shadow: 0px 1px 3px 1px rgba(0, 0, 0, 0.15);\n",
       "      filter: drop-shadow(0px 1px 2px rgba(0, 0, 0, 0.3));\n",
       "      fill: #FFFFFF;\n",
       "    }\n",
       "  </style>\n",
       "\n",
       "      <script>\n",
       "        const buttonEl =\n",
       "          document.querySelector('#df-c71e3a16-5f1b-4eab-97b6-a4cd0a09a7b6 button.colab-df-convert');\n",
       "        buttonEl.style.display =\n",
       "          google.colab.kernel.accessAllowed ? 'block' : 'none';\n",
       "\n",
       "        async function convertToInteractive(key) {\n",
       "          const element = document.querySelector('#df-c71e3a16-5f1b-4eab-97b6-a4cd0a09a7b6');\n",
       "          const dataTable =\n",
       "            await google.colab.kernel.invokeFunction('convertToInteractive',\n",
       "                                                     [key], {});\n",
       "          if (!dataTable) return;\n",
       "\n",
       "          const docLinkHtml = 'Like what you see? Visit the ' +\n",
       "            '<a target=\"_blank\" href=https://colab.research.google.com/notebooks/data_table.ipynb>data table notebook</a>'\n",
       "            + ' to learn more about interactive tables.';\n",
       "          element.innerHTML = '';\n",
       "          dataTable['output_type'] = 'display_data';\n",
       "          await google.colab.output.renderOutput(dataTable, element);\n",
       "          const docLink = document.createElement('div');\n",
       "          docLink.innerHTML = docLinkHtml;\n",
       "          element.appendChild(docLink);\n",
       "        }\n",
       "      </script>\n",
       "    </div>\n",
       "  </div>\n",
       "  "
      ],
      "text/plain": [
       "       num_var8_0  num_var13  num_med_var22_ult3  imp_op_var39_efect_ult1  \\\n",
       "0               0          0                   0                      0.0   \n",
       "1               0          3                   0                      0.0   \n",
       "2               0          0                   0                      0.0   \n",
       "3               0          0                   0                      0.0   \n",
       "4               0          0                   3                      0.0   \n",
       "...           ...        ...                 ...                      ...   \n",
       "76015           0          0                   0                      0.0   \n",
       "76016           0          0                   6                      0.0   \n",
       "76017           0          0                   0                      0.0   \n",
       "76018           0          0                   0                      0.0   \n",
       "76019           0          0                   0                      0.0   \n",
       "\n",
       "       num_var22_ult3  var36  num_var22_hace3  num_var45_hace2  ind_var13  \\\n",
       "0                   0     99                0                0          0   \n",
       "1                   0      3                0                0          1   \n",
       "2                   0     99                0                0          0   \n",
       "3                   3      2                0               27          0   \n",
       "4                   9      1                0                0          0   \n",
       "...               ...    ...              ...              ...        ...   \n",
       "76015               0     99                0                0          0   \n",
       "76016              24      2                0               36          0   \n",
       "76017               0     99                0                0          0   \n",
       "76018               0     99                0                0          0   \n",
       "76019               0     99                0                0          0   \n",
       "\n",
       "       num_var13_0  ...  num_var42  num_var22_hace2  saldo_var42  \\\n",
       "0                0  ...          0                0         0.00   \n",
       "1                3  ...          0                0         0.00   \n",
       "2                0  ...          3                0         3.00   \n",
       "3                0  ...          3                3        70.62   \n",
       "4                0  ...          3                3    135003.00   \n",
       "...            ...  ...        ...              ...          ...   \n",
       "76015            0  ...          0                0         0.00   \n",
       "76016            0  ...          3               24     48191.22   \n",
       "76017            0  ...          3                0         3.00   \n",
       "76018            0  ...          3                0         3.00   \n",
       "76019            0  ...          0                0         0.00   \n",
       "\n",
       "       num_var13_corto_0  saldo_medio_var5_ult3  num_meses_var5_ult3  \\\n",
       "0                      0                   0.00                    0   \n",
       "1                      3                   0.00                    1   \n",
       "2                      0                   2.07                    3   \n",
       "3                      0                 138.84                    2   \n",
       "4                      0               13501.47                    3   \n",
       "...                  ...                    ...                  ...   \n",
       "76015                  0                   0.00                    0   \n",
       "76016                  0                   0.00                    1   \n",
       "76017                  0                   3.00                    2   \n",
       "76018                  0                   2.58                    3   \n",
       "76019                  0                   0.00                    0   \n",
       "\n",
       "       imp_op_var41_ult1  num_var5  num_med_var45_ult3  num_var45_hace3  \n",
       "0                    0.0         0                   0                0  \n",
       "1                    0.0         0                   0                0  \n",
       "2                    0.0         3                   0                0  \n",
       "3                  195.0         3                  15                3  \n",
       "4                    0.0         0                   0                0  \n",
       "...                  ...       ...                 ...              ...  \n",
       "76015                0.0         0                   0                0  \n",
       "76016                0.0         0                  15                3  \n",
       "76017                0.0         3                   0                0  \n",
       "76018                0.0         3                   0                0  \n",
       "76019                0.0         0                   0                0  \n",
       "\n",
       "[76020 rows x 49 columns]"
      ]
     },
     "execution_count": 90,
     "metadata": {},
     "output_type": "execute_result"
    }
   ],
   "source": [
    "commonData25 = pd.DataFrame()\n",
    "commonTest25 = pd.DataFrame()\n",
    "for i in commonFeatures25:\n",
    "  commonData25[i] = df_train[i]\n",
    "for i in commonFeatures25:\n",
    "  commonTest25[i] = df_test[i]\n",
    "commonData25"
   ]
  },
  {
   "cell_type": "code",
   "execution_count": 91,
   "metadata": {
    "colab": {
     "base_uri": "https://localhost:8080/",
     "height": 488
    },
    "id": "RIjGN0Fw5pRF",
    "outputId": "93b94714-c731-4cd1-c0ba-46f2bf8f0d6c"
   },
   "outputs": [
    {
     "data": {
      "text/html": [
       "\n",
       "  <div id=\"df-0233f4c2-9543-4b40-bec3-c7aa30fdf8cd\">\n",
       "    <div class=\"colab-df-container\">\n",
       "      <div>\n",
       "<style scoped>\n",
       "    .dataframe tbody tr th:only-of-type {\n",
       "        vertical-align: middle;\n",
       "    }\n",
       "\n",
       "    .dataframe tbody tr th {\n",
       "        vertical-align: top;\n",
       "    }\n",
       "\n",
       "    .dataframe thead th {\n",
       "        text-align: right;\n",
       "    }\n",
       "</style>\n",
       "<table border=\"1\" class=\"dataframe\">\n",
       "  <thead>\n",
       "    <tr style=\"text-align: right;\">\n",
       "      <th></th>\n",
       "      <th>num_var8_0</th>\n",
       "      <th>num_var13</th>\n",
       "      <th>num_med_var22_ult3</th>\n",
       "      <th>imp_op_var39_efect_ult1</th>\n",
       "      <th>num_var22_ult3</th>\n",
       "      <th>var36</th>\n",
       "      <th>num_var22_hace3</th>\n",
       "      <th>num_var45_hace2</th>\n",
       "      <th>ind_var13</th>\n",
       "      <th>num_var13_0</th>\n",
       "      <th>...</th>\n",
       "      <th>num_var42</th>\n",
       "      <th>num_var22_hace2</th>\n",
       "      <th>saldo_var42</th>\n",
       "      <th>num_var13_corto_0</th>\n",
       "      <th>saldo_medio_var5_ult3</th>\n",
       "      <th>num_meses_var5_ult3</th>\n",
       "      <th>imp_op_var41_ult1</th>\n",
       "      <th>num_var5</th>\n",
       "      <th>num_med_var45_ult3</th>\n",
       "      <th>num_var45_hace3</th>\n",
       "    </tr>\n",
       "  </thead>\n",
       "  <tbody>\n",
       "    <tr>\n",
       "      <th>0</th>\n",
       "      <td>0</td>\n",
       "      <td>0</td>\n",
       "      <td>0</td>\n",
       "      <td>0.0</td>\n",
       "      <td>3</td>\n",
       "      <td>3</td>\n",
       "      <td>3</td>\n",
       "      <td>0</td>\n",
       "      <td>0</td>\n",
       "      <td>0</td>\n",
       "      <td>...</td>\n",
       "      <td>3</td>\n",
       "      <td>0</td>\n",
       "      <td>6.0</td>\n",
       "      <td>0</td>\n",
       "      <td>4.80</td>\n",
       "      <td>3</td>\n",
       "      <td>0.0</td>\n",
       "      <td>3</td>\n",
       "      <td>0</td>\n",
       "      <td>0</td>\n",
       "    </tr>\n",
       "    <tr>\n",
       "      <th>1</th>\n",
       "      <td>0</td>\n",
       "      <td>0</td>\n",
       "      <td>0</td>\n",
       "      <td>0.0</td>\n",
       "      <td>3</td>\n",
       "      <td>3</td>\n",
       "      <td>3</td>\n",
       "      <td>0</td>\n",
       "      <td>0</td>\n",
       "      <td>0</td>\n",
       "      <td>...</td>\n",
       "      <td>3</td>\n",
       "      <td>0</td>\n",
       "      <td>3.0</td>\n",
       "      <td>0</td>\n",
       "      <td>2.85</td>\n",
       "      <td>3</td>\n",
       "      <td>0.0</td>\n",
       "      <td>3</td>\n",
       "      <td>0</td>\n",
       "      <td>6</td>\n",
       "    </tr>\n",
       "    <tr>\n",
       "      <th>2</th>\n",
       "      <td>0</td>\n",
       "      <td>0</td>\n",
       "      <td>0</td>\n",
       "      <td>60.0</td>\n",
       "      <td>0</td>\n",
       "      <td>3</td>\n",
       "      <td>0</td>\n",
       "      <td>3</td>\n",
       "      <td>0</td>\n",
       "      <td>0</td>\n",
       "      <td>...</td>\n",
       "      <td>3</td>\n",
       "      <td>0</td>\n",
       "      <td>30.0</td>\n",
       "      <td>0</td>\n",
       "      <td>66.15</td>\n",
       "      <td>3</td>\n",
       "      <td>60.0</td>\n",
       "      <td>3</td>\n",
       "      <td>3</td>\n",
       "      <td>6</td>\n",
       "    </tr>\n",
       "    <tr>\n",
       "      <th>3</th>\n",
       "      <td>0</td>\n",
       "      <td>0</td>\n",
       "      <td>0</td>\n",
       "      <td>0.0</td>\n",
       "      <td>0</td>\n",
       "      <td>99</td>\n",
       "      <td>0</td>\n",
       "      <td>0</td>\n",
       "      <td>0</td>\n",
       "      <td>0</td>\n",
       "      <td>...</td>\n",
       "      <td>0</td>\n",
       "      <td>0</td>\n",
       "      <td>0.0</td>\n",
       "      <td>0</td>\n",
       "      <td>0.00</td>\n",
       "      <td>0</td>\n",
       "      <td>0.0</td>\n",
       "      <td>0</td>\n",
       "      <td>0</td>\n",
       "      <td>0</td>\n",
       "    </tr>\n",
       "    <tr>\n",
       "      <th>4</th>\n",
       "      <td>0</td>\n",
       "      <td>0</td>\n",
       "      <td>0</td>\n",
       "      <td>0.0</td>\n",
       "      <td>0</td>\n",
       "      <td>3</td>\n",
       "      <td>0</td>\n",
       "      <td>0</td>\n",
       "      <td>0</td>\n",
       "      <td>0</td>\n",
       "      <td>...</td>\n",
       "      <td>3</td>\n",
       "      <td>0</td>\n",
       "      <td>30.0</td>\n",
       "      <td>0</td>\n",
       "      <td>21.30</td>\n",
       "      <td>3</td>\n",
       "      <td>0.0</td>\n",
       "      <td>3</td>\n",
       "      <td>0</td>\n",
       "      <td>0</td>\n",
       "    </tr>\n",
       "    <tr>\n",
       "      <th>...</th>\n",
       "      <td>...</td>\n",
       "      <td>...</td>\n",
       "      <td>...</td>\n",
       "      <td>...</td>\n",
       "      <td>...</td>\n",
       "      <td>...</td>\n",
       "      <td>...</td>\n",
       "      <td>...</td>\n",
       "      <td>...</td>\n",
       "      <td>...</td>\n",
       "      <td>...</td>\n",
       "      <td>...</td>\n",
       "      <td>...</td>\n",
       "      <td>...</td>\n",
       "      <td>...</td>\n",
       "      <td>...</td>\n",
       "      <td>...</td>\n",
       "      <td>...</td>\n",
       "      <td>...</td>\n",
       "      <td>...</td>\n",
       "      <td>...</td>\n",
       "    </tr>\n",
       "    <tr>\n",
       "      <th>75813</th>\n",
       "      <td>0</td>\n",
       "      <td>0</td>\n",
       "      <td>0</td>\n",
       "      <td>0.0</td>\n",
       "      <td>0</td>\n",
       "      <td>99</td>\n",
       "      <td>0</td>\n",
       "      <td>0</td>\n",
       "      <td>0</td>\n",
       "      <td>0</td>\n",
       "      <td>...</td>\n",
       "      <td>0</td>\n",
       "      <td>0</td>\n",
       "      <td>0.0</td>\n",
       "      <td>0</td>\n",
       "      <td>0.00</td>\n",
       "      <td>0</td>\n",
       "      <td>0.0</td>\n",
       "      <td>0</td>\n",
       "      <td>0</td>\n",
       "      <td>6</td>\n",
       "    </tr>\n",
       "    <tr>\n",
       "      <th>75814</th>\n",
       "      <td>0</td>\n",
       "      <td>0</td>\n",
       "      <td>0</td>\n",
       "      <td>0.0</td>\n",
       "      <td>0</td>\n",
       "      <td>3</td>\n",
       "      <td>0</td>\n",
       "      <td>0</td>\n",
       "      <td>0</td>\n",
       "      <td>0</td>\n",
       "      <td>...</td>\n",
       "      <td>3</td>\n",
       "      <td>0</td>\n",
       "      <td>3.0</td>\n",
       "      <td>0</td>\n",
       "      <td>2.40</td>\n",
       "      <td>3</td>\n",
       "      <td>0.0</td>\n",
       "      <td>3</td>\n",
       "      <td>0</td>\n",
       "      <td>0</td>\n",
       "    </tr>\n",
       "    <tr>\n",
       "      <th>75815</th>\n",
       "      <td>0</td>\n",
       "      <td>0</td>\n",
       "      <td>0</td>\n",
       "      <td>0.0</td>\n",
       "      <td>0</td>\n",
       "      <td>99</td>\n",
       "      <td>0</td>\n",
       "      <td>0</td>\n",
       "      <td>0</td>\n",
       "      <td>0</td>\n",
       "      <td>...</td>\n",
       "      <td>3</td>\n",
       "      <td>0</td>\n",
       "      <td>90.0</td>\n",
       "      <td>0</td>\n",
       "      <td>69.69</td>\n",
       "      <td>3</td>\n",
       "      <td>0.0</td>\n",
       "      <td>3</td>\n",
       "      <td>0</td>\n",
       "      <td>0</td>\n",
       "    </tr>\n",
       "    <tr>\n",
       "      <th>75816</th>\n",
       "      <td>0</td>\n",
       "      <td>0</td>\n",
       "      <td>0</td>\n",
       "      <td>0.0</td>\n",
       "      <td>0</td>\n",
       "      <td>3</td>\n",
       "      <td>0</td>\n",
       "      <td>0</td>\n",
       "      <td>0</td>\n",
       "      <td>0</td>\n",
       "      <td>...</td>\n",
       "      <td>3</td>\n",
       "      <td>0</td>\n",
       "      <td>3.0</td>\n",
       "      <td>0</td>\n",
       "      <td>2.64</td>\n",
       "      <td>3</td>\n",
       "      <td>0.0</td>\n",
       "      <td>3</td>\n",
       "      <td>0</td>\n",
       "      <td>0</td>\n",
       "    </tr>\n",
       "    <tr>\n",
       "      <th>75817</th>\n",
       "      <td>0</td>\n",
       "      <td>0</td>\n",
       "      <td>0</td>\n",
       "      <td>0.0</td>\n",
       "      <td>0</td>\n",
       "      <td>3</td>\n",
       "      <td>0</td>\n",
       "      <td>0</td>\n",
       "      <td>0</td>\n",
       "      <td>0</td>\n",
       "      <td>...</td>\n",
       "      <td>3</td>\n",
       "      <td>0</td>\n",
       "      <td>90.0</td>\n",
       "      <td>0</td>\n",
       "      <td>85.14</td>\n",
       "      <td>3</td>\n",
       "      <td>0.0</td>\n",
       "      <td>3</td>\n",
       "      <td>0</td>\n",
       "      <td>0</td>\n",
       "    </tr>\n",
       "  </tbody>\n",
       "</table>\n",
       "<p>75818 rows × 49 columns</p>\n",
       "</div>\n",
       "      <button class=\"colab-df-convert\" onclick=\"convertToInteractive('df-0233f4c2-9543-4b40-bec3-c7aa30fdf8cd')\"\n",
       "              title=\"Convert this dataframe to an interactive table.\"\n",
       "              style=\"display:none;\">\n",
       "        \n",
       "  <svg xmlns=\"http://www.w3.org/2000/svg\" height=\"24px\"viewBox=\"0 0 24 24\"\n",
       "       width=\"24px\">\n",
       "    <path d=\"M0 0h24v24H0V0z\" fill=\"none\"/>\n",
       "    <path d=\"M18.56 5.44l.94 2.06.94-2.06 2.06-.94-2.06-.94-.94-2.06-.94 2.06-2.06.94zm-11 1L8.5 8.5l.94-2.06 2.06-.94-2.06-.94L8.5 2.5l-.94 2.06-2.06.94zm10 10l.94 2.06.94-2.06 2.06-.94-2.06-.94-.94-2.06-.94 2.06-2.06.94z\"/><path d=\"M17.41 7.96l-1.37-1.37c-.4-.4-.92-.59-1.43-.59-.52 0-1.04.2-1.43.59L10.3 9.45l-7.72 7.72c-.78.78-.78 2.05 0 2.83L4 21.41c.39.39.9.59 1.41.59.51 0 1.02-.2 1.41-.59l7.78-7.78 2.81-2.81c.8-.78.8-2.07 0-2.86zM5.41 20L4 18.59l7.72-7.72 1.47 1.35L5.41 20z\"/>\n",
       "  </svg>\n",
       "      </button>\n",
       "      \n",
       "  <style>\n",
       "    .colab-df-container {\n",
       "      display:flex;\n",
       "      flex-wrap:wrap;\n",
       "      gap: 12px;\n",
       "    }\n",
       "\n",
       "    .colab-df-convert {\n",
       "      background-color: #E8F0FE;\n",
       "      border: none;\n",
       "      border-radius: 50%;\n",
       "      cursor: pointer;\n",
       "      display: none;\n",
       "      fill: #1967D2;\n",
       "      height: 32px;\n",
       "      padding: 0 0 0 0;\n",
       "      width: 32px;\n",
       "    }\n",
       "\n",
       "    .colab-df-convert:hover {\n",
       "      background-color: #E2EBFA;\n",
       "      box-shadow: 0px 1px 2px rgba(60, 64, 67, 0.3), 0px 1px 3px 1px rgba(60, 64, 67, 0.15);\n",
       "      fill: #174EA6;\n",
       "    }\n",
       "\n",
       "    [theme=dark] .colab-df-convert {\n",
       "      background-color: #3B4455;\n",
       "      fill: #D2E3FC;\n",
       "    }\n",
       "\n",
       "    [theme=dark] .colab-df-convert:hover {\n",
       "      background-color: #434B5C;\n",
       "      box-shadow: 0px 1px 3px 1px rgba(0, 0, 0, 0.15);\n",
       "      filter: drop-shadow(0px 1px 2px rgba(0, 0, 0, 0.3));\n",
       "      fill: #FFFFFF;\n",
       "    }\n",
       "  </style>\n",
       "\n",
       "      <script>\n",
       "        const buttonEl =\n",
       "          document.querySelector('#df-0233f4c2-9543-4b40-bec3-c7aa30fdf8cd button.colab-df-convert');\n",
       "        buttonEl.style.display =\n",
       "          google.colab.kernel.accessAllowed ? 'block' : 'none';\n",
       "\n",
       "        async function convertToInteractive(key) {\n",
       "          const element = document.querySelector('#df-0233f4c2-9543-4b40-bec3-c7aa30fdf8cd');\n",
       "          const dataTable =\n",
       "            await google.colab.kernel.invokeFunction('convertToInteractive',\n",
       "                                                     [key], {});\n",
       "          if (!dataTable) return;\n",
       "\n",
       "          const docLinkHtml = 'Like what you see? Visit the ' +\n",
       "            '<a target=\"_blank\" href=https://colab.research.google.com/notebooks/data_table.ipynb>data table notebook</a>'\n",
       "            + ' to learn more about interactive tables.';\n",
       "          element.innerHTML = '';\n",
       "          dataTable['output_type'] = 'display_data';\n",
       "          await google.colab.output.renderOutput(dataTable, element);\n",
       "          const docLink = document.createElement('div');\n",
       "          docLink.innerHTML = docLinkHtml;\n",
       "          element.appendChild(docLink);\n",
       "        }\n",
       "      </script>\n",
       "    </div>\n",
       "  </div>\n",
       "  "
      ],
      "text/plain": [
       "       num_var8_0  num_var13  num_med_var22_ult3  imp_op_var39_efect_ult1  \\\n",
       "0               0          0                   0                      0.0   \n",
       "1               0          0                   0                      0.0   \n",
       "2               0          0                   0                     60.0   \n",
       "3               0          0                   0                      0.0   \n",
       "4               0          0                   0                      0.0   \n",
       "...           ...        ...                 ...                      ...   \n",
       "75813           0          0                   0                      0.0   \n",
       "75814           0          0                   0                      0.0   \n",
       "75815           0          0                   0                      0.0   \n",
       "75816           0          0                   0                      0.0   \n",
       "75817           0          0                   0                      0.0   \n",
       "\n",
       "       num_var22_ult3  var36  num_var22_hace3  num_var45_hace2  ind_var13  \\\n",
       "0                   3      3                3                0          0   \n",
       "1                   3      3                3                0          0   \n",
       "2                   0      3                0                3          0   \n",
       "3                   0     99                0                0          0   \n",
       "4                   0      3                0                0          0   \n",
       "...               ...    ...              ...              ...        ...   \n",
       "75813               0     99                0                0          0   \n",
       "75814               0      3                0                0          0   \n",
       "75815               0     99                0                0          0   \n",
       "75816               0      3                0                0          0   \n",
       "75817               0      3                0                0          0   \n",
       "\n",
       "       num_var13_0  ...  num_var42  num_var22_hace2  saldo_var42  \\\n",
       "0                0  ...          3                0          6.0   \n",
       "1                0  ...          3                0          3.0   \n",
       "2                0  ...          3                0         30.0   \n",
       "3                0  ...          0                0          0.0   \n",
       "4                0  ...          3                0         30.0   \n",
       "...            ...  ...        ...              ...          ...   \n",
       "75813            0  ...          0                0          0.0   \n",
       "75814            0  ...          3                0          3.0   \n",
       "75815            0  ...          3                0         90.0   \n",
       "75816            0  ...          3                0          3.0   \n",
       "75817            0  ...          3                0         90.0   \n",
       "\n",
       "       num_var13_corto_0  saldo_medio_var5_ult3  num_meses_var5_ult3  \\\n",
       "0                      0                   4.80                    3   \n",
       "1                      0                   2.85                    3   \n",
       "2                      0                  66.15                    3   \n",
       "3                      0                   0.00                    0   \n",
       "4                      0                  21.30                    3   \n",
       "...                  ...                    ...                  ...   \n",
       "75813                  0                   0.00                    0   \n",
       "75814                  0                   2.40                    3   \n",
       "75815                  0                  69.69                    3   \n",
       "75816                  0                   2.64                    3   \n",
       "75817                  0                  85.14                    3   \n",
       "\n",
       "       imp_op_var41_ult1  num_var5  num_med_var45_ult3  num_var45_hace3  \n",
       "0                    0.0         3                   0                0  \n",
       "1                    0.0         3                   0                6  \n",
       "2                   60.0         3                   3                6  \n",
       "3                    0.0         0                   0                0  \n",
       "4                    0.0         3                   0                0  \n",
       "...                  ...       ...                 ...              ...  \n",
       "75813                0.0         0                   0                6  \n",
       "75814                0.0         3                   0                0  \n",
       "75815                0.0         3                   0                0  \n",
       "75816                0.0         3                   0                0  \n",
       "75817                0.0         3                   0                0  \n",
       "\n",
       "[75818 rows x 49 columns]"
      ]
     },
     "execution_count": 91,
     "metadata": {},
     "output_type": "execute_result"
    }
   ],
   "source": [
    "commonTest25"
   ]
  },
  {
   "cell_type": "code",
   "execution_count": 76,
   "metadata": {
    "id": "hvPfgzl7-Ibp"
   },
   "outputs": [],
   "source": [
    "Common25_X_train, Common25_X_test, Common25_Y_train, Common25_Y_test = train_test_split(commonData25, y_train, test_size=0.33, random_state=42)"
   ]
  },
  {
   "cell_type": "markdown",
   "metadata": {
    "id": "9fmI5UcO19AV"
   },
   "source": [
    "## Random Forest on common features where k=25"
   ]
  },
  {
   "cell_type": "code",
   "execution_count": 77,
   "metadata": {
    "colab": {
     "base_uri": "https://localhost:8080/",
     "height": 0
    },
    "id": "e-WujOAg2GUD",
    "outputId": "5e06448c-e1aa-4b1f-acd1-724780801633"
   },
   "outputs": [
    {
     "name": "stdout",
     "output_type": "stream",
     "text": [
      "gen\tnevals\tfitness \tfitness_std\tfitness_max\tfitness_min\n",
      "0  \t20    \t0.960399\t0          \t0.960399   \t0.960399   \n",
      "1  \t40    \t0.960399\t0          \t0.960399   \t0.960399   \n",
      "2  \t40    \t0.960399\t0          \t0.960399   \t0.960399   \n",
      "Best Parameters: {'min_weight_fraction_leaf': 0.04191075201124449, 'bootstrap': False, 'max_depth': 11, 'max_leaf_nodes': 3, 'n_estimators': 152}\n"
     ]
    }
   ],
   "source": [
    "evolved_estimator.fit(Common25_X_train, Common25_Y_train)\n",
    "print('Best Parameters:',evolved_estimator.best_params_)"
   ]
  },
  {
   "cell_type": "code",
   "execution_count": 78,
   "metadata": {
    "colab": {
     "base_uri": "https://localhost:8080/",
     "height": 0
    },
    "id": "7NQLtSr32GY2",
    "outputId": "9faac1bc-120b-4c3d-ac94-b3f911ae22e5"
   },
   "outputs": [
    {
     "data": {
      "text/plain": [
       "{'min_weight_fraction_leaf': 0.04191075201124449,\n",
       " 'bootstrap': False,\n",
       " 'max_depth': 11,\n",
       " 'max_leaf_nodes': 3,\n",
       " 'n_estimators': 152}"
      ]
     },
     "execution_count": 78,
     "metadata": {},
     "output_type": "execute_result"
    }
   ],
   "source": [
    "RFcommonk25_bestParams = evolved_estimator.best_params_\n",
    "RFcommonk25_bestParams"
   ]
  },
  {
   "cell_type": "code",
   "execution_count": 79,
   "metadata": {
    "id": "BUXqCgB_2Gct"
   },
   "outputs": [],
   "source": [
    "RFcommonk25 = RandomForestClassifier(**RFcommonk25_bestParams)"
   ]
  },
  {
   "cell_type": "code",
   "execution_count": 80,
   "metadata": {
    "colab": {
     "base_uri": "https://localhost:8080/",
     "height": 0
    },
    "id": "hQfk-gfa2Ggc",
    "outputId": "01585e1c-14f1-4018-d80a-16a169f57f33"
   },
   "outputs": [
    {
     "data": {
      "text/plain": [
       "RandomForestClassifier(bootstrap=False, max_depth=11, max_leaf_nodes=3,\n",
       "                       min_weight_fraction_leaf=0.04191075201124449,\n",
       "                       n_estimators=152)"
      ]
     },
     "execution_count": 80,
     "metadata": {},
     "output_type": "execute_result"
    }
   ],
   "source": [
    "RFcommonk25.fit(Common25_X_train, Common25_Y_train)"
   ]
  },
  {
   "cell_type": "code",
   "execution_count": 81,
   "metadata": {
    "colab": {
     "base_uri": "https://localhost:8080/",
     "height": 0
    },
    "id": "WyFuH6NC2Gji",
    "outputId": "3cfe0669-b57c-4e93-d7d3-a57ff4d99d51"
   },
   "outputs": [
    {
     "name": "stdout",
     "output_type": "stream",
     "text": [
      "0.9603989554905464\n"
     ]
    }
   ],
   "source": [
    "# Train Accuracy\n",
    "\n",
    "RFCommon25_X_Pred = RFcommonk25.predict(Common25_X_train)\n",
    "print(accuracy_score(Common25_Y_train, RFCommon25_X_Pred))"
   ]
  },
  {
   "cell_type": "code",
   "execution_count": 82,
   "metadata": {
    "colab": {
     "base_uri": "https://localhost:8080/",
     "height": 0
    },
    "id": "UBH-Qd6I2Gmu",
    "outputId": "6d5a2b71-5b18-464b-988e-c2bed651455e"
   },
   "outputs": [
    {
     "name": "stdout",
     "output_type": "stream",
     "text": [
      "0.9604974688085463\n"
     ]
    }
   ],
   "source": [
    "# Test Accuracy\n",
    "\n",
    "RFCommon25_Y_Pred = RFcommonk25.predict(Common25_X_test)\n",
    "print(accuracy_score(Common25_Y_test, RFCommon25_Y_Pred))"
   ]
  },
  {
   "cell_type": "code",
   "execution_count": 103,
   "metadata": {
    "id": "P3AQM0c4XDeS"
   },
   "outputs": [],
   "source": [
    "RF25Preds = RFcommonk25.predict(commonTest25)\n",
    "Pred_clf = []\n",
    "\n",
    "for vals in RF25Preds:\n",
    "    Pred_clf.append(vals)\n",
    "\n",
    "    \n",
    "Pred_clf = pd.DataFrame(Pred_clf,columns=['TARGET'])\n",
    "Pred_clf['ID'] = df_test['ID']\n",
    "Pred_clf = Pred_clf[['ID', 'TARGET']]\n",
    "Pred_clf.to_csv(\"/content/drive/MyDrive/A4-2/RFCommon25_Y_Pred.csv\", index=False)"
   ]
  },
  {
   "cell_type": "markdown",
   "metadata": {
    "id": "cXoj_Fr52AVT"
   },
   "source": [
    "## Decision Tree on common features where k=25"
   ]
  },
  {
   "cell_type": "code",
   "execution_count": 104,
   "metadata": {
    "colab": {
     "base_uri": "https://localhost:8080/",
     "height": 0
    },
    "id": "W6fpbXSc2HrW",
    "outputId": "1ff16c05-0b60-4ced-bee4-fa2ee92fed93"
   },
   "outputs": [
    {
     "name": "stdout",
     "output_type": "stream",
     "text": [
      "gen\tnevals\tfitness \tfitness_std\tfitness_max\tfitness_min\n",
      "0  \t20    \t0.960399\t0          \t0.960399   \t0.960399   \n",
      "1  \t40    \t0.960399\t0          \t0.960399   \t0.960399   \n",
      "2  \t40    \t0.960399\t0          \t0.960399   \t0.960399   \n",
      "Best Parameters: {'min_weight_fraction_leaf': 0.02610968807109814, 'bootstrap': True, 'max_depth': 5, 'max_leaf_nodes': 9, 'n_estimators': 129}\n"
     ]
    }
   ],
   "source": [
    "evolved_estimator.fit(Common25_X_train, Common25_Y_train)\n",
    "print('Best Parameters:',evolved_estimator.best_params_)"
   ]
  },
  {
   "cell_type": "code",
   "execution_count": 105,
   "metadata": {
    "colab": {
     "base_uri": "https://localhost:8080/",
     "height": 0
    },
    "id": "05ISZpqc2Huh",
    "outputId": "a07095fa-452a-4e7d-cae1-dd6af1a8bf81"
   },
   "outputs": [
    {
     "data": {
      "text/plain": [
       "{'min_weight_fraction_leaf': 0.02610968807109814,\n",
       " 'max_depth': 5,\n",
       " 'max_leaf_nodes': 9,\n",
       " 'n_estimators': 129}"
      ]
     },
     "execution_count": 105,
     "metadata": {},
     "output_type": "execute_result"
    }
   ],
   "source": [
    "DTcommonk25_bestParams = evolved_estimator.best_params_\n",
    "DTcommonk25_bestParams.pop('bootstrap')\n",
    "DTcommonk25_bestParams"
   ]
  },
  {
   "cell_type": "code",
   "execution_count": 107,
   "metadata": {
    "id": "ZoEqI7ZT2HyK"
   },
   "outputs": [],
   "source": [
    "DTcommonk25_bestParams.pop('n_estimators')\n",
    "DTcommonk25 = DecisionTreeClassifier(**DTcommonk25_bestParams)"
   ]
  },
  {
   "cell_type": "code",
   "execution_count": 108,
   "metadata": {
    "colab": {
     "base_uri": "https://localhost:8080/",
     "height": 0
    },
    "id": "tQR52Bww2H2Y",
    "outputId": "08a8ff84-2052-4469-be99-7c09701d885c"
   },
   "outputs": [
    {
     "data": {
      "text/plain": [
       "DecisionTreeClassifier(max_depth=5, max_leaf_nodes=9,\n",
       "                       min_weight_fraction_leaf=0.02610968807109814)"
      ]
     },
     "execution_count": 108,
     "metadata": {},
     "output_type": "execute_result"
    }
   ],
   "source": [
    "DTcommonk25.fit(Common25_X_train, Common25_Y_train)"
   ]
  },
  {
   "cell_type": "code",
   "execution_count": 109,
   "metadata": {
    "colab": {
     "base_uri": "https://localhost:8080/",
     "height": 0
    },
    "id": "9zygRPY_2H4x",
    "outputId": "0ce54d58-9a73-440d-beca-74dd88eca19f"
   },
   "outputs": [
    {
     "name": "stdout",
     "output_type": "stream",
     "text": [
      "0.9603989554905464\n"
     ]
    }
   ],
   "source": [
    "# Train Accuracy\n",
    "\n",
    "DTCommon25_X_Pred = DTcommonk25.predict(Common25_X_train)\n",
    "print(accuracy_score(Common25_Y_train, DTCommon25_X_Pred))"
   ]
  },
  {
   "cell_type": "code",
   "execution_count": 110,
   "metadata": {
    "colab": {
     "base_uri": "https://localhost:8080/",
     "height": 0
    },
    "id": "QlTS08sS2IdL",
    "outputId": "1ac94608-c229-4417-cd89-1af1fbafbd44"
   },
   "outputs": [
    {
     "name": "stdout",
     "output_type": "stream",
     "text": [
      "0.9604974688085463\n"
     ]
    }
   ],
   "source": [
    "# Test Accuracy\n",
    "\n",
    "DTCommon25_Y_Pred = DTcommonk25.predict(Common25_X_test)\n",
    "print(accuracy_score(Common25_Y_test, DTCommon25_Y_Pred))"
   ]
  },
  {
   "cell_type": "code",
   "execution_count": 112,
   "metadata": {
    "id": "GWRqq-GuW_xx"
   },
   "outputs": [],
   "source": [
    "DT25Preds = DTcommonk25.predict(commonTest25)\n",
    "Pred_clf = []\n",
    "\n",
    "for vals in DT25Preds:\n",
    "    Pred_clf.append(vals)\n",
    "\n",
    "    \n",
    "Pred_clf = pd.DataFrame(Pred_clf,columns=['TARGET'])\n",
    "Pred_clf['ID'] = df_test['ID']\n",
    "Pred_clf = Pred_clf[['ID', 'TARGET']]\n",
    "\n",
    "Pred_clf.to_csv(\"/content/drive/MyDrive/A4-2/DTCommon25_Y_Pred.csv\", index=False)"
   ]
  },
  {
   "cell_type": "markdown",
   "metadata": {
    "id": "p9frhrjp9-JD"
   },
   "source": [
    "## Common Features between Random Forest, Decision Tree and Select K-Best where k=50"
   ]
  },
  {
   "cell_type": "code",
   "execution_count": 113,
   "metadata": {
    "colab": {
     "base_uri": "https://localhost:8080/",
     "height": 0
    },
    "id": "QwJ_FWXc-JT-",
    "outputId": "ae5c9db5-8951-4e92-c76d-340b7eb7511f"
   },
   "outputs": [
    {
     "name": "stdout",
     "output_type": "stream",
     "text": [
      "['num_var8_0', 'num_var5_0', 'num_var22_ult3', 'var36', 'num_var45_hace2', 'ind_var13', 'num_op_var41_ult1', 'num_meses_var39_vig_ult3', 'num_var12', 'num_op_var39_ult1', 'num_op_var39_hace2', 'saldo_medio_var5_hace3', 'ind_var13_corto', 'ind_var13_0', 'num_var22_ult1', 'ind_var39_0', 'saldo_var13_corto', 'saldo_var30', 'imp_op_var41_efect_ult1', 'num_var39_0', 'num_var45_ult1', 'num_op_var41_efect_ult3', 'var38', 'saldo_medio_var5_hace2', 'ind_var30', 'num_var30', 'ind_var13_corto_0', 'num_var13_corto', 'ind_var5', 'ind_var5_0', 'imp_var43_emit_ult1', 'num_var42', 'num_var22_hace2', 'saldo_var42', 'num_var13_corto_0', 'saldo_medio_var5_ult3', 'ind_var41_0', 'num_meses_var5_ult3', 'num_op_var41_comer_ult3', 'num_var13', 'num_var12_0', 'num_var5', 'num_med_var45_ult3', 'num_var24', 'imp_op_var41_comer_ult3', 'num_med_var22_ult3', 'saldo_var37', 'imp_op_var39_efect_ult1', 'saldo_medio_var13_corto_ult1', 'imp_op_var39_ult1', 'num_var22_hace3', 'saldo_var13', 'num_var13_0', 'num_var41_0', 'ind_var24', 'num_meses_var8_ult3', 'num_op_var39_ult3', 'ind_var24_0', 'num_var30_0', 'imp_op_var41_efect_ult3', 'num_op_var41_hace2', 'imp_ent_var16_ult1', 'num_meses_var13_corto_ult3', 'ind_var12_0', 'imp_op_var39_comer_ult1', 'ind_var8_0', 'saldo_medio_var5_ult1', 'var3', 'imp_op_var39_comer_ult3', 'ind_var12', 'saldo_var5', 'num_meses_var12_ult3', 'num_var45_ult3', 'var15', 'imp_op_var39_efect_ult3', 'num_op_var39_comer_ult3', 'num_var8', 'num_var24_0', 'ID', 'num_var4', 'ind_var8', 'num_aport_var13_hace3', 'num_var35', 'imp_op_var41_comer_ult1', 'saldo_medio_var8_ult1', 'num_op_var41_ult3', 'imp_op_var41_ult1', 'imp_trans_var37_ult1', 'num_var37_med_ult2', 'num_op_var39_comer_ult1', 'num_var45_hace3']\n",
      "91\n"
     ]
    }
   ],
   "source": [
    "# rfcFeatureImportance50, dtcFeatureImportance50, selected_featuresk50\n",
    "commonFeatures50 = list( set(rfcFeatureImportance50) | set(dtcFeatureImportance50) | set(selected_featuresk50))\n",
    "print(commonFeatures50)\n",
    "print(len(commonFeatures50))"
   ]
  },
  {
   "cell_type": "code",
   "execution_count": 123,
   "metadata": {
    "colab": {
     "base_uri": "https://localhost:8080/",
     "height": 488
    },
    "id": "1vdOHaL0-Jbo",
    "outputId": "0d292f47-798d-4900-c3d2-cf5c6e1250a2"
   },
   "outputs": [
    {
     "data": {
      "text/html": [
       "\n",
       "  <div id=\"df-ca9c4a6e-4bd9-46fb-aadd-387075e4f240\">\n",
       "    <div class=\"colab-df-container\">\n",
       "      <div>\n",
       "<style scoped>\n",
       "    .dataframe tbody tr th:only-of-type {\n",
       "        vertical-align: middle;\n",
       "    }\n",
       "\n",
       "    .dataframe tbody tr th {\n",
       "        vertical-align: top;\n",
       "    }\n",
       "\n",
       "    .dataframe thead th {\n",
       "        text-align: right;\n",
       "    }\n",
       "</style>\n",
       "<table border=\"1\" class=\"dataframe\">\n",
       "  <thead>\n",
       "    <tr style=\"text-align: right;\">\n",
       "      <th></th>\n",
       "      <th>num_var8_0</th>\n",
       "      <th>num_var5_0</th>\n",
       "      <th>num_var22_ult3</th>\n",
       "      <th>var36</th>\n",
       "      <th>num_var45_hace2</th>\n",
       "      <th>ind_var13</th>\n",
       "      <th>num_op_var41_ult1</th>\n",
       "      <th>num_meses_var39_vig_ult3</th>\n",
       "      <th>num_var12</th>\n",
       "      <th>num_op_var39_ult1</th>\n",
       "      <th>...</th>\n",
       "      <th>num_aport_var13_hace3</th>\n",
       "      <th>num_var35</th>\n",
       "      <th>imp_op_var41_comer_ult1</th>\n",
       "      <th>saldo_medio_var8_ult1</th>\n",
       "      <th>num_op_var41_ult3</th>\n",
       "      <th>imp_op_var41_ult1</th>\n",
       "      <th>imp_trans_var37_ult1</th>\n",
       "      <th>num_var37_med_ult2</th>\n",
       "      <th>num_op_var39_comer_ult1</th>\n",
       "      <th>num_var45_hace3</th>\n",
       "    </tr>\n",
       "  </thead>\n",
       "  <tbody>\n",
       "    <tr>\n",
       "      <th>0</th>\n",
       "      <td>0</td>\n",
       "      <td>3</td>\n",
       "      <td>0</td>\n",
       "      <td>99</td>\n",
       "      <td>0</td>\n",
       "      <td>0</td>\n",
       "      <td>0</td>\n",
       "      <td>2</td>\n",
       "      <td>0</td>\n",
       "      <td>0</td>\n",
       "      <td>...</td>\n",
       "      <td>0</td>\n",
       "      <td>0</td>\n",
       "      <td>0.0</td>\n",
       "      <td>0.0</td>\n",
       "      <td>0</td>\n",
       "      <td>0.0</td>\n",
       "      <td>0.0</td>\n",
       "      <td>0</td>\n",
       "      <td>0</td>\n",
       "      <td>0</td>\n",
       "    </tr>\n",
       "    <tr>\n",
       "      <th>1</th>\n",
       "      <td>0</td>\n",
       "      <td>3</td>\n",
       "      <td>0</td>\n",
       "      <td>3</td>\n",
       "      <td>0</td>\n",
       "      <td>1</td>\n",
       "      <td>0</td>\n",
       "      <td>2</td>\n",
       "      <td>0</td>\n",
       "      <td>0</td>\n",
       "      <td>...</td>\n",
       "      <td>3</td>\n",
       "      <td>3</td>\n",
       "      <td>0.0</td>\n",
       "      <td>0.0</td>\n",
       "      <td>0</td>\n",
       "      <td>0.0</td>\n",
       "      <td>0.0</td>\n",
       "      <td>0</td>\n",
       "      <td>0</td>\n",
       "      <td>0</td>\n",
       "    </tr>\n",
       "    <tr>\n",
       "      <th>2</th>\n",
       "      <td>0</td>\n",
       "      <td>3</td>\n",
       "      <td>0</td>\n",
       "      <td>99</td>\n",
       "      <td>0</td>\n",
       "      <td>0</td>\n",
       "      <td>0</td>\n",
       "      <td>1</td>\n",
       "      <td>0</td>\n",
       "      <td>0</td>\n",
       "      <td>...</td>\n",
       "      <td>0</td>\n",
       "      <td>3</td>\n",
       "      <td>0.0</td>\n",
       "      <td>0.0</td>\n",
       "      <td>0</td>\n",
       "      <td>0.0</td>\n",
       "      <td>0.0</td>\n",
       "      <td>0</td>\n",
       "      <td>0</td>\n",
       "      <td>0</td>\n",
       "    </tr>\n",
       "    <tr>\n",
       "      <th>3</th>\n",
       "      <td>0</td>\n",
       "      <td>3</td>\n",
       "      <td>3</td>\n",
       "      <td>2</td>\n",
       "      <td>27</td>\n",
       "      <td>0</td>\n",
       "      <td>9</td>\n",
       "      <td>1</td>\n",
       "      <td>0</td>\n",
       "      <td>9</td>\n",
       "      <td>...</td>\n",
       "      <td>0</td>\n",
       "      <td>9</td>\n",
       "      <td>195.0</td>\n",
       "      <td>0.0</td>\n",
       "      <td>9</td>\n",
       "      <td>195.0</td>\n",
       "      <td>0.0</td>\n",
       "      <td>6</td>\n",
       "      <td>9</td>\n",
       "      <td>3</td>\n",
       "    </tr>\n",
       "    <tr>\n",
       "      <th>4</th>\n",
       "      <td>0</td>\n",
       "      <td>3</td>\n",
       "      <td>9</td>\n",
       "      <td>1</td>\n",
       "      <td>0</td>\n",
       "      <td>0</td>\n",
       "      <td>0</td>\n",
       "      <td>2</td>\n",
       "      <td>3</td>\n",
       "      <td>0</td>\n",
       "      <td>...</td>\n",
       "      <td>0</td>\n",
       "      <td>3</td>\n",
       "      <td>0.0</td>\n",
       "      <td>0.0</td>\n",
       "      <td>0</td>\n",
       "      <td>0.0</td>\n",
       "      <td>270003.0</td>\n",
       "      <td>0</td>\n",
       "      <td>0</td>\n",
       "      <td>0</td>\n",
       "    </tr>\n",
       "    <tr>\n",
       "      <th>...</th>\n",
       "      <td>...</td>\n",
       "      <td>...</td>\n",
       "      <td>...</td>\n",
       "      <td>...</td>\n",
       "      <td>...</td>\n",
       "      <td>...</td>\n",
       "      <td>...</td>\n",
       "      <td>...</td>\n",
       "      <td>...</td>\n",
       "      <td>...</td>\n",
       "      <td>...</td>\n",
       "      <td>...</td>\n",
       "      <td>...</td>\n",
       "      <td>...</td>\n",
       "      <td>...</td>\n",
       "      <td>...</td>\n",
       "      <td>...</td>\n",
       "      <td>...</td>\n",
       "      <td>...</td>\n",
       "      <td>...</td>\n",
       "      <td>...</td>\n",
       "    </tr>\n",
       "    <tr>\n",
       "      <th>76015</th>\n",
       "      <td>0</td>\n",
       "      <td>3</td>\n",
       "      <td>0</td>\n",
       "      <td>99</td>\n",
       "      <td>0</td>\n",
       "      <td>0</td>\n",
       "      <td>0</td>\n",
       "      <td>2</td>\n",
       "      <td>0</td>\n",
       "      <td>0</td>\n",
       "      <td>...</td>\n",
       "      <td>0</td>\n",
       "      <td>0</td>\n",
       "      <td>0.0</td>\n",
       "      <td>0.0</td>\n",
       "      <td>0</td>\n",
       "      <td>0.0</td>\n",
       "      <td>0.0</td>\n",
       "      <td>0</td>\n",
       "      <td>0</td>\n",
       "      <td>0</td>\n",
       "    </tr>\n",
       "    <tr>\n",
       "      <th>76016</th>\n",
       "      <td>0</td>\n",
       "      <td>3</td>\n",
       "      <td>24</td>\n",
       "      <td>2</td>\n",
       "      <td>36</td>\n",
       "      <td>0</td>\n",
       "      <td>0</td>\n",
       "      <td>2</td>\n",
       "      <td>3</td>\n",
       "      <td>0</td>\n",
       "      <td>...</td>\n",
       "      <td>0</td>\n",
       "      <td>3</td>\n",
       "      <td>0.0</td>\n",
       "      <td>0.0</td>\n",
       "      <td>0</td>\n",
       "      <td>0.0</td>\n",
       "      <td>0.0</td>\n",
       "      <td>0</td>\n",
       "      <td>0</td>\n",
       "      <td>3</td>\n",
       "    </tr>\n",
       "    <tr>\n",
       "      <th>76017</th>\n",
       "      <td>0</td>\n",
       "      <td>3</td>\n",
       "      <td>0</td>\n",
       "      <td>99</td>\n",
       "      <td>0</td>\n",
       "      <td>0</td>\n",
       "      <td>0</td>\n",
       "      <td>1</td>\n",
       "      <td>0</td>\n",
       "      <td>0</td>\n",
       "      <td>...</td>\n",
       "      <td>0</td>\n",
       "      <td>3</td>\n",
       "      <td>0.0</td>\n",
       "      <td>0.0</td>\n",
       "      <td>0</td>\n",
       "      <td>0.0</td>\n",
       "      <td>0.0</td>\n",
       "      <td>0</td>\n",
       "      <td>0</td>\n",
       "      <td>0</td>\n",
       "    </tr>\n",
       "    <tr>\n",
       "      <th>76018</th>\n",
       "      <td>0</td>\n",
       "      <td>3</td>\n",
       "      <td>0</td>\n",
       "      <td>99</td>\n",
       "      <td>0</td>\n",
       "      <td>0</td>\n",
       "      <td>0</td>\n",
       "      <td>2</td>\n",
       "      <td>0</td>\n",
       "      <td>0</td>\n",
       "      <td>...</td>\n",
       "      <td>0</td>\n",
       "      <td>3</td>\n",
       "      <td>0.0</td>\n",
       "      <td>0.0</td>\n",
       "      <td>0</td>\n",
       "      <td>0.0</td>\n",
       "      <td>0.0</td>\n",
       "      <td>0</td>\n",
       "      <td>0</td>\n",
       "      <td>0</td>\n",
       "    </tr>\n",
       "    <tr>\n",
       "      <th>76019</th>\n",
       "      <td>0</td>\n",
       "      <td>3</td>\n",
       "      <td>0</td>\n",
       "      <td>99</td>\n",
       "      <td>0</td>\n",
       "      <td>0</td>\n",
       "      <td>0</td>\n",
       "      <td>2</td>\n",
       "      <td>0</td>\n",
       "      <td>0</td>\n",
       "      <td>...</td>\n",
       "      <td>0</td>\n",
       "      <td>0</td>\n",
       "      <td>0.0</td>\n",
       "      <td>0.0</td>\n",
       "      <td>0</td>\n",
       "      <td>0.0</td>\n",
       "      <td>0.0</td>\n",
       "      <td>0</td>\n",
       "      <td>0</td>\n",
       "      <td>0</td>\n",
       "    </tr>\n",
       "  </tbody>\n",
       "</table>\n",
       "<p>76020 rows × 91 columns</p>\n",
       "</div>\n",
       "      <button class=\"colab-df-convert\" onclick=\"convertToInteractive('df-ca9c4a6e-4bd9-46fb-aadd-387075e4f240')\"\n",
       "              title=\"Convert this dataframe to an interactive table.\"\n",
       "              style=\"display:none;\">\n",
       "        \n",
       "  <svg xmlns=\"http://www.w3.org/2000/svg\" height=\"24px\"viewBox=\"0 0 24 24\"\n",
       "       width=\"24px\">\n",
       "    <path d=\"M0 0h24v24H0V0z\" fill=\"none\"/>\n",
       "    <path d=\"M18.56 5.44l.94 2.06.94-2.06 2.06-.94-2.06-.94-.94-2.06-.94 2.06-2.06.94zm-11 1L8.5 8.5l.94-2.06 2.06-.94-2.06-.94L8.5 2.5l-.94 2.06-2.06.94zm10 10l.94 2.06.94-2.06 2.06-.94-2.06-.94-.94-2.06-.94 2.06-2.06.94z\"/><path d=\"M17.41 7.96l-1.37-1.37c-.4-.4-.92-.59-1.43-.59-.52 0-1.04.2-1.43.59L10.3 9.45l-7.72 7.72c-.78.78-.78 2.05 0 2.83L4 21.41c.39.39.9.59 1.41.59.51 0 1.02-.2 1.41-.59l7.78-7.78 2.81-2.81c.8-.78.8-2.07 0-2.86zM5.41 20L4 18.59l7.72-7.72 1.47 1.35L5.41 20z\"/>\n",
       "  </svg>\n",
       "      </button>\n",
       "      \n",
       "  <style>\n",
       "    .colab-df-container {\n",
       "      display:flex;\n",
       "      flex-wrap:wrap;\n",
       "      gap: 12px;\n",
       "    }\n",
       "\n",
       "    .colab-df-convert {\n",
       "      background-color: #E8F0FE;\n",
       "      border: none;\n",
       "      border-radius: 50%;\n",
       "      cursor: pointer;\n",
       "      display: none;\n",
       "      fill: #1967D2;\n",
       "      height: 32px;\n",
       "      padding: 0 0 0 0;\n",
       "      width: 32px;\n",
       "    }\n",
       "\n",
       "    .colab-df-convert:hover {\n",
       "      background-color: #E2EBFA;\n",
       "      box-shadow: 0px 1px 2px rgba(60, 64, 67, 0.3), 0px 1px 3px 1px rgba(60, 64, 67, 0.15);\n",
       "      fill: #174EA6;\n",
       "    }\n",
       "\n",
       "    [theme=dark] .colab-df-convert {\n",
       "      background-color: #3B4455;\n",
       "      fill: #D2E3FC;\n",
       "    }\n",
       "\n",
       "    [theme=dark] .colab-df-convert:hover {\n",
       "      background-color: #434B5C;\n",
       "      box-shadow: 0px 1px 3px 1px rgba(0, 0, 0, 0.15);\n",
       "      filter: drop-shadow(0px 1px 2px rgba(0, 0, 0, 0.3));\n",
       "      fill: #FFFFFF;\n",
       "    }\n",
       "  </style>\n",
       "\n",
       "      <script>\n",
       "        const buttonEl =\n",
       "          document.querySelector('#df-ca9c4a6e-4bd9-46fb-aadd-387075e4f240 button.colab-df-convert');\n",
       "        buttonEl.style.display =\n",
       "          google.colab.kernel.accessAllowed ? 'block' : 'none';\n",
       "\n",
       "        async function convertToInteractive(key) {\n",
       "          const element = document.querySelector('#df-ca9c4a6e-4bd9-46fb-aadd-387075e4f240');\n",
       "          const dataTable =\n",
       "            await google.colab.kernel.invokeFunction('convertToInteractive',\n",
       "                                                     [key], {});\n",
       "          if (!dataTable) return;\n",
       "\n",
       "          const docLinkHtml = 'Like what you see? Visit the ' +\n",
       "            '<a target=\"_blank\" href=https://colab.research.google.com/notebooks/data_table.ipynb>data table notebook</a>'\n",
       "            + ' to learn more about interactive tables.';\n",
       "          element.innerHTML = '';\n",
       "          dataTable['output_type'] = 'display_data';\n",
       "          await google.colab.output.renderOutput(dataTable, element);\n",
       "          const docLink = document.createElement('div');\n",
       "          docLink.innerHTML = docLinkHtml;\n",
       "          element.appendChild(docLink);\n",
       "        }\n",
       "      </script>\n",
       "    </div>\n",
       "  </div>\n",
       "  "
      ],
      "text/plain": [
       "       num_var8_0  num_var5_0  num_var22_ult3  var36  num_var45_hace2  \\\n",
       "0               0           3               0     99                0   \n",
       "1               0           3               0      3                0   \n",
       "2               0           3               0     99                0   \n",
       "3               0           3               3      2               27   \n",
       "4               0           3               9      1                0   \n",
       "...           ...         ...             ...    ...              ...   \n",
       "76015           0           3               0     99                0   \n",
       "76016           0           3              24      2               36   \n",
       "76017           0           3               0     99                0   \n",
       "76018           0           3               0     99                0   \n",
       "76019           0           3               0     99                0   \n",
       "\n",
       "       ind_var13  num_op_var41_ult1  num_meses_var39_vig_ult3  num_var12  \\\n",
       "0              0                  0                         2          0   \n",
       "1              1                  0                         2          0   \n",
       "2              0                  0                         1          0   \n",
       "3              0                  9                         1          0   \n",
       "4              0                  0                         2          3   \n",
       "...          ...                ...                       ...        ...   \n",
       "76015          0                  0                         2          0   \n",
       "76016          0                  0                         2          3   \n",
       "76017          0                  0                         1          0   \n",
       "76018          0                  0                         2          0   \n",
       "76019          0                  0                         2          0   \n",
       "\n",
       "       num_op_var39_ult1  ...  num_aport_var13_hace3  num_var35  \\\n",
       "0                      0  ...                      0          0   \n",
       "1                      0  ...                      3          3   \n",
       "2                      0  ...                      0          3   \n",
       "3                      9  ...                      0          9   \n",
       "4                      0  ...                      0          3   \n",
       "...                  ...  ...                    ...        ...   \n",
       "76015                  0  ...                      0          0   \n",
       "76016                  0  ...                      0          3   \n",
       "76017                  0  ...                      0          3   \n",
       "76018                  0  ...                      0          3   \n",
       "76019                  0  ...                      0          0   \n",
       "\n",
       "       imp_op_var41_comer_ult1  saldo_medio_var8_ult1  num_op_var41_ult3  \\\n",
       "0                          0.0                    0.0                  0   \n",
       "1                          0.0                    0.0                  0   \n",
       "2                          0.0                    0.0                  0   \n",
       "3                        195.0                    0.0                  9   \n",
       "4                          0.0                    0.0                  0   \n",
       "...                        ...                    ...                ...   \n",
       "76015                      0.0                    0.0                  0   \n",
       "76016                      0.0                    0.0                  0   \n",
       "76017                      0.0                    0.0                  0   \n",
       "76018                      0.0                    0.0                  0   \n",
       "76019                      0.0                    0.0                  0   \n",
       "\n",
       "       imp_op_var41_ult1  imp_trans_var37_ult1  num_var37_med_ult2  \\\n",
       "0                    0.0                   0.0                   0   \n",
       "1                    0.0                   0.0                   0   \n",
       "2                    0.0                   0.0                   0   \n",
       "3                  195.0                   0.0                   6   \n",
       "4                    0.0              270003.0                   0   \n",
       "...                  ...                   ...                 ...   \n",
       "76015                0.0                   0.0                   0   \n",
       "76016                0.0                   0.0                   0   \n",
       "76017                0.0                   0.0                   0   \n",
       "76018                0.0                   0.0                   0   \n",
       "76019                0.0                   0.0                   0   \n",
       "\n",
       "       num_op_var39_comer_ult1  num_var45_hace3  \n",
       "0                            0                0  \n",
       "1                            0                0  \n",
       "2                            0                0  \n",
       "3                            9                3  \n",
       "4                            0                0  \n",
       "...                        ...              ...  \n",
       "76015                        0                0  \n",
       "76016                        0                3  \n",
       "76017                        0                0  \n",
       "76018                        0                0  \n",
       "76019                        0                0  \n",
       "\n",
       "[76020 rows x 91 columns]"
      ]
     },
     "execution_count": 123,
     "metadata": {},
     "output_type": "execute_result"
    }
   ],
   "source": [
    "commonData50 = pd.DataFrame()\n",
    "commonTest50 = pd.DataFrame()\n",
    "for i in commonFeatures50:\n",
    "  commonData50[i] = df_train[i]\n",
    "for i in commonFeatures50:\n",
    "  commonTest50[i] = df_test[i]\n",
    "commonData50"
   ]
  },
  {
   "cell_type": "code",
   "execution_count": 124,
   "metadata": {
    "id": "ObNWOszj-JlY"
   },
   "outputs": [],
   "source": [
    "Common50_X_train, Common50_X_test, Common50_Y_train, Common50_Y_test = train_test_split(commonData50, y_train, test_size=0.33, random_state=42)"
   ]
  },
  {
   "cell_type": "markdown",
   "metadata": {
    "id": "mUhTxbFf7GzA"
   },
   "source": [
    "## Random Forest on common features where k=50"
   ]
  },
  {
   "cell_type": "code",
   "execution_count": 116,
   "metadata": {
    "colab": {
     "base_uri": "https://localhost:8080/",
     "height": 0
    },
    "id": "4Roqo9lU7OQ1",
    "outputId": "1f9addc0-dcff-4c71-de71-e330241c35c2"
   },
   "outputs": [
    {
     "name": "stdout",
     "output_type": "stream",
     "text": [
      "gen\tnevals\tfitness \tfitness_std\tfitness_max\tfitness_min\n",
      "0  \t20    \t0.960399\t0          \t0.960399   \t0.960399   \n",
      "1  \t40    \t0.960399\t0          \t0.960399   \t0.960399   \n",
      "2  \t40    \t0.960399\t0          \t0.960399   \t0.960399   \n",
      "Best Parameters: {'min_weight_fraction_leaf': 0.02119155124615207, 'bootstrap': True, 'max_depth': 13, 'max_leaf_nodes': 12, 'n_estimators': 232}\n"
     ]
    }
   ],
   "source": [
    "evolved_estimator.fit(Common50_X_train, Common50_Y_train)\n",
    "print('Best Parameters:',evolved_estimator.best_params_)"
   ]
  },
  {
   "cell_type": "code",
   "execution_count": 117,
   "metadata": {
    "colab": {
     "base_uri": "https://localhost:8080/",
     "height": 0
    },
    "id": "VpJuAK7ZU5B1",
    "outputId": "0e323f87-ab58-4b86-e3f4-7e39a19462da"
   },
   "outputs": [
    {
     "data": {
      "text/plain": [
       "{'min_weight_fraction_leaf': 0.02119155124615207,\n",
       " 'bootstrap': True,\n",
       " 'max_depth': 13,\n",
       " 'max_leaf_nodes': 12,\n",
       " 'n_estimators': 232}"
      ]
     },
     "execution_count": 117,
     "metadata": {},
     "output_type": "execute_result"
    }
   ],
   "source": [
    "RFcommonk50_bestParams = evolved_estimator.best_params_\n",
    "RFcommonk50_bestParams"
   ]
  },
  {
   "cell_type": "code",
   "execution_count": 118,
   "metadata": {
    "id": "NjflCdW1U5HF"
   },
   "outputs": [],
   "source": [
    "RFcommonk50 = RandomForestClassifier(**RFcommonk50_bestParams)"
   ]
  },
  {
   "cell_type": "code",
   "execution_count": 119,
   "metadata": {
    "colab": {
     "base_uri": "https://localhost:8080/",
     "height": 0
    },
    "id": "yGvPI0pDU5Kl",
    "outputId": "b223956e-acee-4aa7-c14a-fada04a6b520"
   },
   "outputs": [
    {
     "data": {
      "text/plain": [
       "RandomForestClassifier(max_depth=13, max_leaf_nodes=12,\n",
       "                       min_weight_fraction_leaf=0.02119155124615207,\n",
       "                       n_estimators=232)"
      ]
     },
     "execution_count": 119,
     "metadata": {},
     "output_type": "execute_result"
    }
   ],
   "source": [
    "RFcommonk50.fit(Common50_X_train, Common50_Y_train)"
   ]
  },
  {
   "cell_type": "code",
   "execution_count": 120,
   "metadata": {
    "colab": {
     "base_uri": "https://localhost:8080/",
     "height": 0
    },
    "id": "3F4fn3QuU5Yo",
    "outputId": "9d6edc2c-ba78-4a98-9d15-f0d36664efa8"
   },
   "outputs": [
    {
     "name": "stdout",
     "output_type": "stream",
     "text": [
      "0.9603989554905464\n"
     ]
    }
   ],
   "source": [
    "# Train Accuracy\n",
    "\n",
    "RFCommon50_X_Pred = RFcommonk50.predict(Common50_X_train)\n",
    "print(accuracy_score(Common50_Y_train, RFCommon50_X_Pred))"
   ]
  },
  {
   "cell_type": "code",
   "execution_count": 121,
   "metadata": {
    "colab": {
     "base_uri": "https://localhost:8080/",
     "height": 0
    },
    "id": "N12OTZ3PVChY",
    "outputId": "3ac502fb-e38f-4aad-fad5-0f03d997775f"
   },
   "outputs": [
    {
     "name": "stdout",
     "output_type": "stream",
     "text": [
      "0.9604974688085463\n"
     ]
    }
   ],
   "source": [
    "# Test Accuracy\n",
    "\n",
    "RFCommon50_Y_Pred = RFcommonk50.predict(Common50_X_test)\n",
    "print(accuracy_score(Common50_Y_test, RFCommon50_Y_Pred))"
   ]
  },
  {
   "cell_type": "code",
   "execution_count": 126,
   "metadata": {
    "id": "Xq-w9cvYWfYk"
   },
   "outputs": [],
   "source": [
    "RF50Preds = RFcommonk50.predict(commonTest50)\n",
    "Pred_clf = []\n",
    "\n",
    "for vals in RF50Preds:\n",
    "    Pred_clf.append(vals)\n",
    "\n",
    "    \n",
    "Pred_clf = pd.DataFrame(Pred_clf,columns=['TARGET'])\n",
    "Pred_clf['ID'] = df_test['ID']\n",
    "Pred_clf = Pred_clf[['ID', 'TARGET']]\n",
    "\n",
    "Pred_clf.to_csv(\"/content/drive/MyDrive/A4-2/RFCommon50_Y_Pred.csv\", index=False)"
   ]
  },
  {
   "cell_type": "markdown",
   "metadata": {
    "id": "fPNsvfId7To4"
   },
   "source": [
    "## Decision Tree on common features where k=50"
   ]
  },
  {
   "cell_type": "code",
   "execution_count": null,
   "metadata": {
    "id": "MNStX_Yy7Vfw"
   },
   "outputs": [],
   "source": [
    "evolved_estimator1.fit(Common50_X_train, Common50_Y_train)\n",
    "print('Best Parameters:',evolved_estimator1.best_params_)"
   ]
  },
  {
   "cell_type": "code",
   "execution_count": 129,
   "metadata": {
    "colab": {
     "base_uri": "https://localhost:8080/",
     "height": 0
    },
    "id": "fLQulUtmVGfV",
    "outputId": "d6e87299-9dba-48dd-8ab1-a4e86774e2ef"
   },
   "outputs": [
    {
     "data": {
      "text/plain": [
       "{'criterion': 'entropy',\n",
       " 'max_depth': 5,\n",
       " 'min_samples_split': 7,\n",
       " 'min_samples_leaf': 5}"
      ]
     },
     "execution_count": 129,
     "metadata": {},
     "output_type": "execute_result"
    }
   ],
   "source": [
    "DTcommonk50_bestParams = evolved_estimator1.best_params_\n",
    "DTcommonk50_bestParams"
   ]
  },
  {
   "cell_type": "code",
   "execution_count": 130,
   "metadata": {
    "id": "abcUhU_5VGkf"
   },
   "outputs": [],
   "source": [
    "DTcommonk50 = DecisionTreeClassifier(**DTcommonk50_bestParams)"
   ]
  },
  {
   "cell_type": "code",
   "execution_count": 131,
   "metadata": {
    "colab": {
     "base_uri": "https://localhost:8080/",
     "height": 0
    },
    "id": "G4tsc9zoVGp0",
    "outputId": "22d10dd4-85ed-4ff0-ca16-3503f654ea77"
   },
   "outputs": [
    {
     "data": {
      "text/plain": [
       "DecisionTreeClassifier(criterion='entropy', max_depth=5, min_samples_leaf=5,\n",
       "                       min_samples_split=7)"
      ]
     },
     "execution_count": 131,
     "metadata": {},
     "output_type": "execute_result"
    }
   ],
   "source": [
    "DTcommonk50.fit(Common50_X_train, Common50_Y_train)"
   ]
  },
  {
   "cell_type": "code",
   "execution_count": 132,
   "metadata": {
    "colab": {
     "base_uri": "https://localhost:8080/",
     "height": 0
    },
    "id": "LEEMnvPXVGun",
    "outputId": "b06619ff-4841-4095-c3dd-2763e9da8206"
   },
   "outputs": [
    {
     "name": "stdout",
     "output_type": "stream",
     "text": [
      "0.9604185891268922\n"
     ]
    }
   ],
   "source": [
    "# Train Accuracy\n",
    "\n",
    "DTCommon50_X_Pred = DTcommonk50.predict(Common50_X_train)\n",
    "print(accuracy_score(Common50_Y_train, DTCommon50_X_Pred))"
   ]
  },
  {
   "cell_type": "code",
   "execution_count": 133,
   "metadata": {
    "colab": {
     "base_uri": "https://localhost:8080/",
     "height": 0
    },
    "id": "Xu40TP7wVG5p",
    "outputId": "22027ccf-49fe-47a9-a892-ada54bf92c4a"
   },
   "outputs": [
    {
     "name": "stdout",
     "output_type": "stream",
     "text": [
      "0.9603380236776019\n"
     ]
    }
   ],
   "source": [
    "# Test Accuracy\n",
    "\n",
    "DTCommon50_Y_Pred = DTcommonk50.predict(Common50_X_test)\n",
    "print(accuracy_score(Common50_Y_test, DTCommon50_Y_Pred))"
   ]
  },
  {
   "cell_type": "code",
   "execution_count": 134,
   "metadata": {
    "id": "gyiwQi6mWgSD"
   },
   "outputs": [],
   "source": [
    "DT50Preds = DTcommonk50.predict(commonTest50)\n",
    "Pred_clf = []\n",
    "\n",
    "for vals in DT50Preds:\n",
    "    Pred_clf.append(vals)\n",
    "   \n",
    "Pred_clf = pd.DataFrame(Pred_clf,columns=['TARGET'])\n",
    "Pred_clf['ID'] = df_test['ID']\n",
    "Pred_clf = Pred_clf[['ID', 'TARGET']]\n",
    "\n",
    "Pred_clf.to_csv(\"/content/drive/MyDrive/A4-2/DTCommon50_Y_Pred.csv\", index=False)"
   ]
  },
  {
   "cell_type": "code",
   "execution_count": null,
   "metadata": {
    "id": "3raGroRjCy_s"
   },
   "outputs": [],
   "source": []
  }
 ],
 "metadata": {
  "colab": {
   "collapsed_sections": [
    "4pB0WV-LpsKX",
    "oKodslJbpxIN",
    "tszKNH-CqBX7",
    "Zx2cfOwSK2bU",
    "A97gyw9LMO9t",
    "Glmd0GkRMRpK",
    "aqI6BkYeSnsf",
    "H2-vd0czrOUw",
    "4_ri1ufzqTqq",
    "6kb1UgHFlvIq",
    "UHenAe3PoNNZ",
    "l8RKZvnWqauh",
    "zV4rVFYlwo06",
    "UqDEq175xIO1",
    "4UX3MGUhu1oJ",
    "9fmI5UcO19AV",
    "cXoj_Fr52AVT",
    "p9frhrjp9-JD",
    "mUhTxbFf7GzA"
   ],
   "provenance": [],
   "toc_visible": true
  },
  "kernelspec": {
   "display_name": "Python 3 (ipykernel)",
   "language": "python",
   "name": "python3"
  },
  "language_info": {
   "codemirror_mode": {
    "name": "ipython",
    "version": 3
   },
   "file_extension": ".py",
   "mimetype": "text/x-python",
   "name": "python",
   "nbconvert_exporter": "python",
   "pygments_lexer": "ipython3",
   "version": "3.9.12"
  }
 },
 "nbformat": 4,
 "nbformat_minor": 1
}
